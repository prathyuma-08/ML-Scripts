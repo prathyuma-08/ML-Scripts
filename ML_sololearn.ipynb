{
  "cells": [
    {
      "cell_type": "code",
      "execution_count": null,
      "id": "1c9f8d8d",
      "metadata": {
        "colab": {
          "base_uri": "https://localhost:8080/"
        },
        "id": "1c9f8d8d",
        "outputId": "a8e9f3a3-0ddc-460f-aaae-a836bb2009b2"
      },
      "outputs": [
        {
          "output_type": "stream",
          "name": "stdout",
          "text": [
            "Mean  3.0\n",
            "Median  3.0\n",
            "25th percentile  2.0\n",
            "75th percentile  4.0\n",
            "Standard deviation  1.4142135623730951\n",
            "Variance  2.0\n"
          ]
        }
      ],
      "source": [
        "import numpy as np\n",
        "data = [1,2,3,4,5]\n",
        "print(\"Mean \",np.mean(data))\n",
        "print(\"Median \",np.median(data))\n",
        "print(\"25th percentile \",np.percentile(data,25))\n",
        "print(\"75th percentile \",np.percentile(data,75))\n",
        "print(\"Standard deviation \",np.std(data))\n",
        "print(\"Variance \",np.var(data))"
      ]
    },
    {
      "cell_type": "code",
      "execution_count": null,
      "id": "64d17c91",
      "metadata": {
        "colab": {
          "base_uri": "https://localhost:8080/"
        },
        "id": "64d17c91",
        "outputId": "1e8b3f9c-5576-47c3-f875-7d777f3eb0ce"
      },
      "outputs": [
        {
          "output_type": "stream",
          "name": "stdout",
          "text": [
            "   Survived  Pclass     Sex   Age  Siblings/Spouses  Parents/Children     Fare\n",
            "0         0       3    male  22.0                 1                 0   7.2500\n",
            "1         1       1  female  38.0                 1                 0  71.2833\n",
            "2         1       3  female  26.0                 0                 0   7.9250\n",
            "3         1       1  female  35.0                 1                 0  53.1000\n",
            "4         0       3    male  35.0                 0                 0   8.0500\n"
          ]
        }
      ],
      "source": [
        "#PANDAS\n",
        "\n",
        "import pandas as pd\n",
        "df = pd.read_csv('https://sololearn.com/uploads/files/titanic.csv')\n",
        "print(df.head())"
      ]
    },
    {
      "cell_type": "code",
      "execution_count": null,
      "id": "e9f74ecf",
      "metadata": {
        "colab": {
          "base_uri": "https://localhost:8080/"
        },
        "id": "e9f74ecf",
        "outputId": "f11cfe65-8be0-4b7e-c2cd-56652683e537"
      },
      "outputs": [
        {
          "output_type": "stream",
          "name": "stdout",
          "text": [
            "         Survived      Pclass         Age  Siblings/Spouses  Parents/Children  \\\n",
            "count  887.000000  887.000000  887.000000        887.000000        887.000000   \n",
            "mean     0.385569    2.305524   29.471443          0.525366          0.383315   \n",
            "std      0.487004    0.836662   14.121908          1.104669          0.807466   \n",
            "min      0.000000    1.000000    0.420000          0.000000          0.000000   \n",
            "25%      0.000000    2.000000   20.250000          0.000000          0.000000   \n",
            "50%      0.000000    3.000000   28.000000          0.000000          0.000000   \n",
            "75%      1.000000    3.000000   38.000000          1.000000          0.000000   \n",
            "max      1.000000    3.000000   80.000000          8.000000          6.000000   \n",
            "\n",
            "            Fare  \n",
            "count  887.00000  \n",
            "mean    32.30542  \n",
            "std     49.78204  \n",
            "min      0.00000  \n",
            "25%      7.92500  \n",
            "50%     14.45420  \n",
            "75%     31.13750  \n",
            "max    512.32920  \n"
          ]
        }
      ],
      "source": [
        "#describing the dataframe\n",
        "print(df.describe())"
      ]
    },
    {
      "cell_type": "code",
      "execution_count": null,
      "id": "b003dd0e",
      "metadata": {
        "colab": {
          "base_uri": "https://localhost:8080/"
        },
        "id": "b003dd0e",
        "outputId": "2ab74078-9fad-41e8-986b-fafba2daadd9"
      },
      "outputs": [
        {
          "output_type": "stream",
          "name": "stdout",
          "text": [
            "0       7.2500\n",
            "1      71.2833\n",
            "2       7.9250\n",
            "3      53.1000\n",
            "4       8.0500\n",
            "        ...   \n",
            "882    13.0000\n",
            "883    30.0000\n",
            "884    23.4500\n",
            "885    30.0000\n",
            "886     7.7500\n",
            "Name: Fare, Length: 887, dtype: float64\n"
          ]
        }
      ],
      "source": [
        "#reading a single column - the result is a Pandas SERIES\n",
        "col = df['Fare']\n",
        "print(col)"
      ]
    },
    {
      "cell_type": "code",
      "execution_count": null,
      "id": "992e5c80",
      "metadata": {
        "colab": {
          "base_uri": "https://localhost:8080/"
        },
        "id": "992e5c80",
        "outputId": "793b1fa0-ecc3-4411-926b-795ce389a94d"
      },
      "outputs": [
        {
          "output_type": "stream",
          "name": "stdout",
          "text": [
            "    Age  Survived     Fare\n",
            "0  22.0         0   7.2500\n",
            "1  38.0         1  71.2833\n",
            "2  26.0         1   7.9250\n",
            "3  35.0         1  53.1000\n",
            "4  35.0         0   8.0500\n"
          ]
        }
      ],
      "source": [
        "#reading multiple columns\n",
        "\n",
        "cols = df[['Age','Survived','Fare']]\n",
        "print(cols.head())"
      ]
    },
    {
      "cell_type": "code",
      "execution_count": null,
      "id": "94a924e9",
      "metadata": {
        "colab": {
          "base_uri": "https://localhost:8080/"
        },
        "id": "94a924e9",
        "outputId": "f30471b9-a9c0-479a-b048-b15e03fdab87"
      },
      "outputs": [
        {
          "output_type": "stream",
          "name": "stdout",
          "text": [
            "   Survived  Pclass     Sex   Age  Siblings/Spouses  Parents/Children  \\\n",
            "0         0       3    male  22.0                 1                 0   \n",
            "1         1       1  female  38.0                 1                 0   \n",
            "2         1       3  female  26.0                 0                 0   \n",
            "3         1       1  female  35.0                 1                 0   \n",
            "4         0       3    male  35.0                 0                 0   \n",
            "\n",
            "      Fare   male  \n",
            "0   7.2500   True  \n",
            "1  71.2833  False  \n",
            "2   7.9250  False  \n",
            "3  53.1000  False  \n",
            "4   8.0500   True  \n"
          ]
        }
      ],
      "source": [
        "#inserting a new column 'male' which has true/false values based on the condition\n",
        "\n",
        "df['male'] = df['Sex'] == 'male'\n",
        "print(df.head())"
      ]
    },
    {
      "cell_type": "code",
      "execution_count": null,
      "id": "d78f3182",
      "metadata": {
        "colab": {
          "base_uri": "https://localhost:8080/"
        },
        "id": "d78f3182",
        "outputId": "a075c16d-05ac-4307-9202-fbd515a3fd7a"
      },
      "outputs": [
        {
          "output_type": "execute_result",
          "data": {
            "text/plain": [
              "array([  7.25  ,  71.2833,   7.925 ,  53.1   ,   8.05  ,   8.4583,\n",
              "        51.8625,  21.075 ,  11.1333,  30.0708,  16.7   ,  26.55  ,\n",
              "         8.05  ,  31.275 ,   7.8542,  16.    ,  29.125 ,  13.    ,\n",
              "        18.    ,   7.225 ,  26.    ,  13.    ,   8.0292,  35.5   ,\n",
              "        21.075 ,  31.3875,   7.225 , 263.    ,   7.8792,   7.8958,\n",
              "        27.7208, 146.5208,   7.75  ,  10.5   ,  82.1708,  52.    ,\n",
              "         7.2292,   8.05  ,  18.    ,  11.2417,   9.475 ,  21.    ,\n",
              "        41.5792,   7.8792,   8.05  ,  15.5   ,   7.75  ,  21.6792,\n",
              "        17.8   ,  39.6875,   7.8   ,  76.7292,  26.    ,  61.9792,\n",
              "        35.5   ,  10.5   ,   7.2292,  27.75  ,  46.9   ,   7.2292,\n",
              "        80.    ,  83.475 ,  27.9   ,  27.7208,  15.2458,  10.5   ,\n",
              "         8.1583,   7.925 ,   8.6625,  10.5   ,  46.9   ,  73.5   ,\n",
              "        14.4542,  56.4958,   7.65  ,   7.8958,   8.05  ,  29.    ,\n",
              "        12.475 ,   9.    ,   9.5   ,   7.7875,  47.1   ,  10.5   ,\n",
              "        15.85  ,  34.375 ,   8.05  , 263.    ,   8.05  ,   8.05  ,\n",
              "         7.8542,  61.175 ,  20.575 ,   7.25  ,   8.05  ,  34.6542,\n",
              "        63.3583,  23.    ,  26.    ,   7.8958,   7.8958,  77.2875,\n",
              "         8.6542,   7.925 ,   7.8958,   7.65  ,   7.775 ,   7.8958,\n",
              "        24.15  ,  52.    ,  14.4542,   8.05  ,   9.825 ,  14.4583,\n",
              "         7.925 ,   7.75  ,  21.    , 247.5208,  31.275 ,  73.5   ,\n",
              "         8.05  ,  30.0708,  13.    ,  77.2875,  11.2417,   7.75  ,\n",
              "         7.1417,  22.3583,   6.975 ,   7.8958,   7.05  ,  14.5   ,\n",
              "        26.    ,  13.    ,  15.0458,  26.2833,  53.1   ,   9.2167,\n",
              "        79.2   ,  15.2458,   7.75  ,  15.85  ,   6.75  ,  11.5   ,\n",
              "        36.75  ,   7.7958,  34.375 ,  26.    ,  13.    ,  12.525 ,\n",
              "        66.6   ,   8.05  ,  14.5   ,   7.3125,  61.3792,   7.7333,\n",
              "         8.05  ,   8.6625,  69.55  ,  16.1   ,  15.75  ,   7.775 ,\n",
              "         8.6625,  39.6875,  20.525 ,  55.    ,  27.9   ,  25.925 ,\n",
              "        56.4958,  33.5   ,  29.125 ,  11.1333,   7.925 ,  30.6958,\n",
              "         7.8542,  25.4667,  28.7125,  13.    ,   0.    ,  69.55  ,\n",
              "        15.05  ,  31.3875,  39.    ,  22.025 ,  50.    ,  15.5   ,\n",
              "        26.55  ,  15.5   ,   7.8958,  13.    ,  13.    ,   7.8542,\n",
              "        26.    ,  27.7208, 146.5208,   7.75  ,   8.4042,   7.75  ,\n",
              "        13.    ,   9.5   ,  69.55  ,   6.4958,   7.225 ,   8.05  ,\n",
              "        10.4625,  15.85  ,  18.7875,   7.75  ,  31.    ,   7.05  ,\n",
              "        21.    ,   7.25  ,  13.    ,   7.75  , 113.275 ,   7.925 ,\n",
              "        27.    ,  76.2917,  10.5   ,   8.05  ,  13.    ,   8.05  ,\n",
              "         7.8958,  90.    ,   9.35  ,  10.5   ,   7.25  ,  13.    ,\n",
              "        25.4667,  83.475 ,   7.775 ,  13.5   ,  31.3875,  10.5   ,\n",
              "         7.55  ,  26.    ,  26.25  ,  10.5   ,  12.275 ,  14.4542,\n",
              "        15.5   ,  10.5   ,   7.125 ,   7.225 ,  90.    ,   7.775 ,\n",
              "        14.5   ,  52.5542,  26.    ,   7.25  ,  10.4625,  26.55  ,\n",
              "        16.1   ,  20.2125,  15.2458,  79.2   ,  86.5   , 512.3292,\n",
              "        26.    ,  31.3875,  79.65  ,   0.    ,   7.75  ,  10.5   ,\n",
              "        39.6875,   7.775 , 153.4625, 135.6333,  31.    ,   0.    ,\n",
              "        19.5   ,  29.7   ,   7.75  ,  77.9583,   7.75  ,   0.    ,\n",
              "        29.125 ,  20.25  ,   7.75  ,   7.8542,   9.5   ,   8.05  ,\n",
              "        26.    ,   8.6625,   9.5   ,   7.8958,  13.    ,   7.75  ,\n",
              "        78.85  ,  91.0792,  12.875 ,   8.85  ,   7.8958,  27.7208,\n",
              "         7.2292, 151.55  ,  30.5   , 247.5208,   7.75  ,  23.25  ,\n",
              "         0.    ,  12.35  ,   8.05  , 151.55  , 110.8833, 108.9   ,\n",
              "        24.    ,  56.9292,  83.1583, 262.375 ,  26.    ,   7.8958,\n",
              "        26.25  ,   7.8542,  26.    ,  14.    , 164.8667, 134.5   ,\n",
              "         7.25  ,   7.8958,  12.35  ,  29.    ,  69.55  , 135.6333,\n",
              "         6.2375,  13.    ,  20.525 ,  57.9792,  23.25  ,  28.5   ,\n",
              "       153.4625,  18.    , 133.65  ,   7.8958,  66.6   , 134.5   ,\n",
              "         8.05  ,  35.5   ,  26.    , 263.    ,  13.    ,  13.    ,\n",
              "        13.    ,  13.    ,  13.    ,  16.1   ,  15.9   ,   8.6625,\n",
              "         9.225 ,  35.    ,   7.2292,  17.8   ,   7.225 ,   9.5   ,\n",
              "        55.    ,  13.    ,   7.8792,   7.8792,  27.9   ,  27.7208,\n",
              "        14.4542,   7.05  ,  15.5   ,   7.25  ,  75.25  ,   7.2292,\n",
              "         7.75  ,  69.3   ,  55.4417,   6.4958,   8.05  , 135.6333,\n",
              "        21.075 ,  82.1708,   7.25  , 211.5   ,   4.0125,   7.775 ,\n",
              "       227.525 ,  15.7417,   7.925 ,  52.    ,   7.8958,  73.5   ,\n",
              "        46.9   ,  13.    ,   7.7292,  12.    , 120.    ,   7.7958,\n",
              "         7.925 , 113.275 ,  16.7   ,   7.7958,   7.8542,  26.    ,\n",
              "        10.5   ,  12.65  ,   7.925 ,   8.05  ,   9.825 ,  15.85  ,\n",
              "         8.6625,  21.    ,   7.75  ,  18.75  ,   7.775 ,  25.4667,\n",
              "         7.8958,   6.8583,  90.    ,   0.    ,   7.925 ,   8.05  ,\n",
              "        32.5   ,  13.    ,  13.    ,  24.15  ,   7.7333,   7.875 ,\n",
              "        14.4   ,  20.2125,   7.25  ,  26.    ,  26.    ,   7.75  ,\n",
              "         8.05  ,  26.55  ,  16.1   ,  26.    ,   7.125 ,  55.9   ,\n",
              "       120.    ,  34.375 ,  18.75  , 263.    ,  10.5   ,  26.25  ,\n",
              "         9.5   ,   7.775 ,  13.    ,   8.1125,  81.8583,  19.5   ,\n",
              "        26.55  ,  19.2583,  30.5   ,  27.75  ,  19.9667,  27.75  ,\n",
              "        89.1042,   8.05  ,   7.8958,  26.55  ,  51.8625,  10.5   ,\n",
              "         7.75  ,  26.55  ,   8.05  ,  38.5   ,  13.    ,   8.05  ,\n",
              "         7.05  ,   0.    ,  26.55  ,   7.725 ,  19.2583,   7.25  ,\n",
              "         8.6625,  27.75  ,  13.7917,   9.8375,  52.    ,  21.    ,\n",
              "         7.0458,   7.5208,  12.2875,  46.9   ,   0.    ,   8.05  ,\n",
              "         9.5875,  91.0792,  25.4667,  90.    ,  29.7   ,   8.05  ,\n",
              "        15.9   ,  19.9667,   7.25  ,  30.5   ,  49.5042,   8.05  ,\n",
              "        14.4583,  78.2667,  15.1   , 151.55  ,   7.7958,   8.6625,\n",
              "         7.75  ,   7.6292,   9.5875,  86.5   , 108.9   ,  26.    ,\n",
              "        26.55  ,  22.525 ,  56.4958,   7.75  ,   8.05  ,  26.2875,\n",
              "        59.4   ,   7.4958,  34.0208,  10.5   ,  24.15  ,  26.    ,\n",
              "         7.8958,  93.5   ,   7.8958,   7.225 ,  57.9792,   7.2292,\n",
              "         7.75  ,  10.5   , 221.7792,   7.925 ,  11.5   ,  26.    ,\n",
              "         7.2292,   7.2292,  22.3583,   8.6625,  26.25  ,  26.55  ,\n",
              "       106.425 ,  14.5   ,  49.5   ,  71.    ,  31.275 ,  31.275 ,\n",
              "        26.    , 106.425 ,  26.    ,  26.    ,  13.8625,  20.525 ,\n",
              "        36.75  , 110.8833,  26.    ,   7.8292,   7.225 ,   7.775 ,\n",
              "        26.55  ,  39.6   , 227.525 ,  79.65  ,  17.4   ,   7.75  ,\n",
              "         7.8958,  13.5   ,   8.05  ,   8.05  ,  24.15  ,   7.8958,\n",
              "        21.075 ,   7.2292,   7.8542,  10.5   ,  51.4792,  26.3875,\n",
              "         7.75  ,   8.05  ,  14.5   ,  13.    ,  55.9   ,  14.4583,\n",
              "         7.925 ,  30.    , 110.8833,  26.    ,  40.125 ,   8.7125,\n",
              "        79.65  ,  15.    ,  79.2   ,   8.05  ,   8.05  ,   7.125 ,\n",
              "        78.2667,   7.25  ,   7.75  ,  26.    ,  24.15  ,  33.    ,\n",
              "         0.    ,   7.225 ,  56.9292,  27.    ,   7.8958,  42.4   ,\n",
              "         8.05  ,  26.55  ,  15.55  ,   7.8958,  30.5   ,  41.5792,\n",
              "       153.4625,  31.275 ,   7.05  ,  15.5   ,   7.75  ,   8.05  ,\n",
              "        65.    ,  14.4   ,  16.1   ,  39.    ,  10.5   ,  14.4542,\n",
              "        52.5542,  15.7417,   7.8542,  16.1   ,  32.3208,  12.35  ,\n",
              "        77.9583,   7.8958,   7.7333,  30.    ,   7.0542,  30.5   ,\n",
              "         0.    ,  27.9   ,  13.    ,   7.925 ,  26.25  ,  39.6875,\n",
              "        16.1   ,   7.8542,  69.3   ,  27.9   ,  56.4958,  19.2583,\n",
              "        76.7292,   7.8958,  35.5   ,   7.55  ,   7.55  ,   7.8958,\n",
              "        23.    ,   8.4333,   7.8292,   6.75  ,  73.5   ,   7.8958,\n",
              "        15.5   ,  13.    , 113.275 , 133.65  ,   7.225 ,  25.5875,\n",
              "         7.4958,   7.925 ,  73.5   ,  13.    ,   7.775 ,   8.05  ,\n",
              "        52.    ,  39.    ,  52.    ,  10.5   ,  13.    ,   0.    ,\n",
              "         7.775 ,   8.05  ,   9.8417,  46.9   , 512.3292,   8.1375,\n",
              "        76.7292,   9.225 ,  46.9   ,  39.    ,  41.5792,  39.6875,\n",
              "        10.1708,   7.7958, 211.3375,  57.    ,  13.4167,  56.4958,\n",
              "         7.225 ,  26.55  ,  13.5   ,   8.05  ,   7.7333, 110.8833,\n",
              "         7.65  , 227.525 ,  26.2875,  14.4542,   7.7417,   7.8542,\n",
              "        26.    ,  13.5   ,  26.2875, 151.55  ,  15.2458,  49.5042,\n",
              "        26.55  ,  52.    ,   9.4833,  13.    ,   7.65  , 227.525 ,\n",
              "        10.5   ,   7.775 ,  33.    ,   7.0542,  13.    ,  13.    ,\n",
              "        53.1   ,   8.6625,  21.    ,   7.7375,  26.    ,   7.925 ,\n",
              "       211.3375,  18.7875,   0.    ,  13.    ,  13.    ,  16.1   ,\n",
              "        34.375 , 512.3292,   7.8958,   7.8958,  30.    ,  78.85  ,\n",
              "       262.375 ,  16.1   ,   7.925 ,  71.    ,  20.25  ,  13.    ,\n",
              "        53.1   ,   7.75  ,  23.    ,  12.475 ,   9.5   ,   7.8958,\n",
              "        65.    ,  14.5   ,   7.7958,  11.5   ,   8.05  ,  86.5   ,\n",
              "        14.5   ,   7.125 ,   7.2292, 120.    ,   7.775 ,  77.9583,\n",
              "        39.6   ,   7.75  ,  24.15  ,   8.3625,   9.5   ,   7.8542,\n",
              "        10.5   ,   7.225 ,  23.    ,   7.75  ,   7.75  ,  12.475 ,\n",
              "         7.7375, 211.3375,   7.2292,  57.    ,  30.    ,  23.45  ,\n",
              "         7.05  ,   7.25  ,   7.4958,  29.125 ,  20.575 ,  79.2   ,\n",
              "         7.75  ,  26.    ,  69.55  ,  30.6958,   7.8958,  13.    ,\n",
              "        25.9292,   8.6833,   7.2292,  24.15  ,  13.    ,  26.25  ,\n",
              "       120.    ,   8.5167,   6.975 ,   7.775 ,   0.    ,   7.775 ,\n",
              "        13.    ,  53.1   ,   7.8875,  24.15  ,  10.5   ,  31.275 ,\n",
              "         8.05  ,   0.    ,   7.925 ,  37.0042,   6.45  ,  27.9   ,\n",
              "        93.5   ,   8.6625,   0.    ,  12.475 ,  39.6875,   6.95  ,\n",
              "        56.4958,  37.0042,   7.75  ,  80.    ,  14.4542,  18.75  ,\n",
              "         7.2292,   7.8542,   8.3   ,  83.1583,   8.6625,   8.05  ,\n",
              "        56.4958,  29.7   ,   7.925 ,  10.5   ,  31.    ,   6.4375,\n",
              "         8.6625,   7.55  ,  69.55  ,   7.8958,  33.    ,  89.1042,\n",
              "        31.275 ,   7.775 ,  15.2458,  39.4   ,  26.    ,   9.35  ,\n",
              "       164.8667,  26.55  ,  19.2583,   7.2292,  14.1083,  11.5   ,\n",
              "        25.9292,  69.55  ,  13.    ,  13.    ,  13.8583,  50.4958,\n",
              "         9.5   ,  11.1333,   7.8958,  52.5542,   5.    ,   9.    ,\n",
              "        24.    ,   7.225 ,   9.8458,   7.8958,   7.8958,  83.1583,\n",
              "        26.    ,   7.8958,  10.5167,  10.5   ,   7.05  ,  29.125 ,\n",
              "        13.    ,  30.    ,  23.45  ,  30.    ,   7.75  ])"
            ]
          },
          "metadata": {},
          "execution_count": 7
        }
      ],
      "source": [
        "#numpy array from a dataframe\n",
        "df['Fare']. values"
      ]
    },
    {
      "cell_type": "code",
      "source": [
        "arr = df['Fare'].values\n",
        "print(arr.shape)"
      ],
      "metadata": {
        "colab": {
          "base_uri": "https://localhost:8080/"
        },
        "id": "ig9JbHVq6xKY",
        "outputId": "52678dbc-866d-4639-d72d-7b45d92bb318"
      },
      "id": "ig9JbHVq6xKY",
      "execution_count": null,
      "outputs": [
        {
          "output_type": "stream",
          "name": "stdout",
          "text": [
            "(887,)\n"
          ]
        }
      ]
    },
    {
      "cell_type": "code",
      "source": [
        "#2D numpy array\n",
        "arr2 = df[['Pclass', 'Fare', 'Age']].values\n",
        "print(arr2.shape)"
      ],
      "metadata": {
        "colab": {
          "base_uri": "https://localhost:8080/"
        },
        "id": "UNxtLDf66SA4",
        "outputId": "fde61a1a-5194-4b35-9dee-12a17053ad50"
      },
      "id": "UNxtLDf66SA4",
      "execution_count": null,
      "outputs": [
        {
          "output_type": "stream",
          "name": "stdout",
          "text": [
            "(887, 3)\n"
          ]
        }
      ]
    },
    {
      "cell_type": "code",
      "source": [
        "#Selecting from a numpy array\n",
        "\n",
        "print(arr2[0,:])\n",
        "print(arr2[:,2])\n",
        "print(arr2[1,2])"
      ],
      "metadata": {
        "colab": {
          "base_uri": "https://localhost:8080/"
        },
        "id": "kZUgi4fy8Lfa",
        "outputId": "c30ac125-672f-4f0d-ec19-218bfb65bda6"
      },
      "id": "kZUgi4fy8Lfa",
      "execution_count": null,
      "outputs": [
        {
          "output_type": "stream",
          "name": "stdout",
          "text": [
            "[ 3.    7.25 22.  ]\n",
            "[22.   38.   26.   35.   35.   27.   54.    2.   27.   14.    4.   58.\n",
            " 20.   39.   14.   55.    2.   23.   31.   22.   35.   34.   15.   28.\n",
            "  8.   38.   26.   19.   24.   23.   40.   48.   18.   66.   28.   42.\n",
            " 18.   21.   18.   14.   40.   27.    3.   19.   30.   20.   27.   16.\n",
            " 18.    7.   21.   49.   29.   65.   46.   21.   28.5   5.   11.   22.\n",
            " 38.   45.    4.   64.    7.   29.   19.   17.   26.   32.   16.   21.\n",
            " 26.   32.   25.   23.   28.    0.83 30.   22.   29.   31.   28.   17.\n",
            " 33.   16.   20.   23.   24.   29.   20.   46.   26.   59.   22.   71.\n",
            " 23.   34.   34.   28.   29.   21.   33.   37.   28.   21.   29.   38.\n",
            " 28.   47.   14.5  22.   20.   17.   21.   70.5  29.   24.    2.   21.\n",
            " 19.   32.5  32.5  54.   12.   19.   24.    2.   45.   33.   20.   47.\n",
            " 29.   25.   23.   19.   37.   16.   24.   40.   22.   24.   19.   18.\n",
            " 19.   27.    9.   36.5  42.   51.   22.   55.5  40.5  27.   51.   16.\n",
            " 30.   37.    5.   44.   40.   26.   17.    1.    9.   48.   45.   60.\n",
            " 28.   61.    4.    1.   21.   56.   18.    5.   50.   30.   36.    8.\n",
            " 39.    9.    1.    4.   39.   26.   45.   40.   36.   32.   19.   19.\n",
            "  3.   44.   58.   28.   42.   21.   24.   28.   17.   34.   45.5  18.\n",
            "  2.   32.   26.   16.   40.   24.   35.   22.   30.   22.   31.   27.\n",
            " 42.   32.   30.   16.   27.   51.   22.   38.   22.   19.   20.5  18.\n",
            " 12.   35.   29.   59.    5.   24.   21.   44.    8.   19.   33.   19.\n",
            " 18.   29.   22.   30.   44.   25.   24.   37.   54.   18.   29.   62.\n",
            " 30.   41.   29.   38.   30.   35.   50.    3.   52.   40.   21.   36.\n",
            " 16.   25.   58.   35.   28.   25.   41.   37.   33.   63.   45.   21.\n",
            "  7.   35.   65.   28.   16.   19.   57.   33.   30.   22.   42.   22.\n",
            " 26.   19.   36.   24.   24.   30.   23.5   2.   47.   50.   20.   24.\n",
            " 19.   46.   28.    0.92 42.   17.   30.   30.   24.   18.   26.   28.\n",
            " 43.   26.   24.   54.   31.   40.   22.   27.   30.   22.   20.   36.\n",
            " 61.   36.   31.   16.   28.   45.5  38.   16.   42.   30.   29.   41.\n",
            " 45.   45.    2.   24.   28.   25.   36.   24.   40.   34.    3.   42.\n",
            " 23.   43.   15.   25.   23.   28.   22.   38.   22.   23.   40.   29.\n",
            " 45.   35.   27.   30.   60.   35.   22.   24.   25.   18.   19.   22.\n",
            "  3.   25.   22.   27.   20.   19.   42.    1.   32.   35.   27.   18.\n",
            "  1.   36.   19.   17.   36.   21.   28.   23.   24.   22.   31.   46.\n",
            " 23.   28.   39.   26.   21.   28.   20.   34.   51.    3.   21.    3.\n",
            " 42.   27.   33.   22.   44.   32.   34.   18.   30.   10.   21.   29.\n",
            " 28.   18.   54.   28.   19.   28.   32.   28.   33.   42.   17.   50.\n",
            " 14.   21.   24.   64.   31.   45.   20.   25.   28.   29.    4.   13.\n",
            " 34.    5.   52.   36.   28.   30.   49.   24.   29.   65.   41.   50.\n",
            " 17.   48.   34.   47.   48.   34.   38.   21.   56.   22.    0.75 39.\n",
            " 38.   33.   23.   22.   40.   34.   29.   22.    2.    9.   37.   50.\n",
            " 63.   25.    8.   35.   58.   30.    9.   19.   21.   55.   71.   21.\n",
            " 26.   54.   55.   25.   24.   17.   21.   21.   37.   16.   18.   33.\n",
            " 37.   28.   26.   29.   66.   36.   54.   24.   47.   34.   30.   36.\n",
            " 32.   30.   22.   35.   44.   18.   40.5  50.   49.   39.   23.    2.\n",
            " 17.   17.   24.   30.    7.   45.   30.   69.   22.   36.    9.   11.\n",
            " 32.   50.   64.   19.   27.   33.    8.   17.   27.   21.   22.   22.\n",
            " 62.   48.   45.   39.   36.   30.   40.   28.   40.   62.   24.   19.\n",
            " 29.   28.   32.   62.   53.   36.   22.   16.   19.   34.   39.   18.\n",
            " 32.   25.   39.   54.   36.   16.   18.   47.   60.   22.   22.   35.\n",
            " 52.   47.   40.   37.   36.   31.   49.   18.   49.   24.   42.   37.\n",
            " 44.   35.   36.   30.   27.   22.   40.   39.   21.   18.   22.   35.\n",
            " 24.   34.   26.    4.   26.   27.   42.   20.   21.   21.   61.   57.\n",
            " 21.   26.   18.   80.   51.   32.   30.    9.   28.   32.   31.   41.\n",
            " 37.   20.   24.    2.   32.    0.75 48.   19.   56.   21.   23.   23.\n",
            " 18.   21.   16.   18.   24.   27.   32.   23.   58.   50.   40.   47.\n",
            " 36.   20.   32.   25.   49.   43.   48.   40.   31.   70.   31.   19.\n",
            " 18.   24.5  18.   43.   36.   28.   27.   20.   14.   60.   25.   14.\n",
            " 19.   18.   15.   31.    4.   37.   25.   60.   52.   44.   19.   49.\n",
            " 42.   18.   35.   18.   25.   26.   39.   45.   42.   22.    4.   24.\n",
            " 41.   48.   29.   52.   19.   38.   27.   33.    6.   17.   34.   50.\n",
            " 27.   20.   30.   28.   25.   25.   29.   11.   41.   23.   23.   28.5\n",
            " 48.   35.   20.   32.   45.   36.   21.   24.   31.   70.   16.   30.\n",
            " 19.   31.    4.    6.   33.   23.   48.    0.67 28.   18.   34.   33.\n",
            " 23.   41.   20.   36.   16.   51.   46.   30.5  28.   32.   24.   48.\n",
            " 57.   29.   54.   18.   20.    5.   22.   43.   13.   17.   29.   35.\n",
            " 25.   25.   18.    8.    1.   46.   20.   16.   21.   43.   25.   39.\n",
            " 49.   31.   30.   30.   34.   31.   11.    0.42 27.   31.   39.   18.\n",
            " 39.   33.   26.   39.   35.    6.   30.5  39.   23.   31.   43.   10.\n",
            " 52.   27.   38.   27.    2.   36.   23.    1.   19.   62.   15.    0.83\n",
            " 30.   23.   18.   39.   21.   20.   32.   29.   20.   16.   30.   34.5\n",
            " 17.   42.   18.   35.   28.   40.    4.   74.    9.   16.   44.   18.\n",
            " 45.   51.   24.   30.   41.   21.   48.   14.   24.   42.   27.   31.\n",
            " 23.    4.   26.   47.   33.   47.   28.   15.   20.   19.   23.   56.\n",
            " 25.   33.   22.   28.   25.   39.   27.   19.    7.   26.   32.  ]\n",
            "38.0\n"
          ]
        }
      ]
    },
    {
      "cell_type": "code",
      "source": [
        "mask = arr2[:, 2] < 18 #creates t/f column\n",
        "print(arr2[mask])\n",
        "print((arr2[:, 2] < 18).sum()) #find the number of true values"
      ],
      "metadata": {
        "colab": {
          "base_uri": "https://localhost:8080/"
        },
        "id": "uLxwWVTl8akE",
        "outputId": "6863e650-76b7-4651-8157-a04c5e9e6faf"
      },
      "id": "uLxwWVTl8akE",
      "execution_count": null,
      "outputs": [
        {
          "output_type": "stream",
          "name": "stdout",
          "text": [
            "[[  3.      21.075    2.    ]\n",
            " [  2.      30.0708  14.    ]\n",
            " [  3.      16.7      4.    ]\n",
            " [  3.       7.8542  14.    ]\n",
            " [  3.      29.125    2.    ]\n",
            " [  3.       8.0292  15.    ]\n",
            " [  3.      21.075    8.    ]\n",
            " [  3.      11.2417  14.    ]\n",
            " [  2.      41.5792   3.    ]\n",
            " [  3.      21.6792  16.    ]\n",
            " [  3.      39.6875   7.    ]\n",
            " [  2.      27.75     5.    ]\n",
            " [  3.      46.9     11.    ]\n",
            " [  3.      27.9      4.    ]\n",
            " [  3.      15.2458   7.    ]\n",
            " [  3.       7.925   17.    ]\n",
            " [  3.      46.9     16.    ]\n",
            " [  2.      29.       0.83  ]\n",
            " [  2.      10.5     17.    ]\n",
            " [  3.      34.375   16.    ]\n",
            " [  3.      14.4542  14.5   ]\n",
            " [  3.      14.4583  17.    ]\n",
            " [  3.      31.275    2.    ]\n",
            " [  3.      11.2417  12.    ]\n",
            " [  3.      22.3583   2.    ]\n",
            " [  3.       9.2167  16.    ]\n",
            " [  3.      34.375    9.    ]\n",
            " [  3.       7.7333  16.    ]\n",
            " [  3.      69.55     5.    ]\n",
            " [  3.       8.6625  17.    ]\n",
            " [  3.      39.6875   1.    ]\n",
            " [  3.      20.525    9.    ]\n",
            " [  3.      29.125    4.    ]\n",
            " [  3.      11.1333   1.    ]\n",
            " [  3.      25.4667   5.    ]\n",
            " [  3.      69.55     8.    ]\n",
            " [  3.      31.3875   9.    ]\n",
            " [  2.      39.       1.    ]\n",
            " [  3.      22.025    4.    ]\n",
            " [  2.      26.       3.    ]\n",
            " [  3.      69.55    17.    ]\n",
            " [  3.      10.4625   2.    ]\n",
            " [  3.       7.75    16.    ]\n",
            " [  3.       8.05    16.    ]\n",
            " [  3.      25.4667  12.    ]\n",
            " [  3.      31.3875   5.    ]\n",
            " [  2.      26.25     8.    ]\n",
            " [  3.      31.3875   3.    ]\n",
            " [  3.      39.6875  16.    ]\n",
            " [  3.      29.125    7.    ]\n",
            " [  3.       9.5     16.    ]\n",
            " [  1.     151.55     2.    ]\n",
            " [  1.     151.55     0.92  ]\n",
            " [  1.     108.9     17.    ]\n",
            " [  1.      57.9792  16.    ]\n",
            " [  3.      18.      16.    ]\n",
            " [  2.      26.       2.    ]\n",
            " [  3.      15.9      3.    ]\n",
            " [  3.       7.2292  15.    ]\n",
            " [  3.      21.075    3.    ]\n",
            " [  3.      15.7417   1.    ]\n",
            " [  3.      46.9      1.    ]\n",
            " [  2.      12.      17.    ]\n",
            " [  2.      18.75     3.    ]\n",
            " [  3.      25.4667   3.    ]\n",
            " [  3.      24.15    10.    ]\n",
            " [  3.       7.125   17.    ]\n",
            " [  1.     120.      14.    ]\n",
            " [  1.      81.8583   4.    ]\n",
            " [  2.      19.5     13.    ]\n",
            " [  3.      19.2583   5.    ]\n",
            " [  3.       7.75    17.    ]\n",
            " [  3.      19.2583   0.75  ]\n",
            " [  3.      12.2875   2.    ]\n",
            " [  3.      46.9      9.    ]\n",
            " [  3.      25.4667   8.    ]\n",
            " [  3.      15.9      9.    ]\n",
            " [  3.       8.6625  17.    ]\n",
            " [  1.      86.5     16.    ]\n",
            " [  2.      26.       2.    ]\n",
            " [  3.       7.2292  17.    ]\n",
            " [  3.       7.2292  17.    ]\n",
            " [  2.      26.25     7.    ]\n",
            " [  3.      31.275    9.    ]\n",
            " [  3.      31.275   11.    ]\n",
            " [  2.      36.75     8.    ]\n",
            " [  1.     110.8833  17.    ]\n",
            " [  3.       8.05    16.    ]\n",
            " [  3.       8.7125  16.    ]\n",
            " [  2.      39.       4.    ]\n",
            " [  3.      27.9      9.    ]\n",
            " [  3.      27.9      2.    ]\n",
            " [  3.      19.2583   0.75  ]\n",
            " [  3.       7.8292  16.    ]\n",
            " [  3.      46.9     14.    ]\n",
            " [  3.      39.6875  14.    ]\n",
            " [  1.     211.3375  15.    ]\n",
            " [  3.      13.4167   4.    ]\n",
            " [  3.      15.2458   4.    ]\n",
            " [  2.      33.       6.    ]\n",
            " [  3.       7.0542  17.    ]\n",
            " [  3.      18.7875  11.    ]\n",
            " [  3.      20.25    16.    ]\n",
            " [  2.      23.       4.    ]\n",
            " [  3.      12.475    6.    ]\n",
            " [  2.      14.5      0.67  ]\n",
            " [  3.       7.775   16.    ]\n",
            " [  3.      12.475    5.    ]\n",
            " [  3.       7.2292  13.    ]\n",
            " [  1.      57.      17.    ]\n",
            " [  3.      29.125    8.    ]\n",
            " [  3.      20.575    1.    ]\n",
            " [  2.      26.      16.    ]\n",
            " [  1.     120.      11.    ]\n",
            " [  3.       8.5167   0.42  ]\n",
            " [  3.      31.275    6.    ]\n",
            " [  3.      27.9     10.    ]\n",
            " [  3.      39.6875   2.    ]\n",
            " [  2.      37.0042   1.    ]\n",
            " [  3.      14.4542  15.    ]\n",
            " [  2.      18.75     0.83  ]\n",
            " [  2.      10.5     16.    ]\n",
            " [  3.       8.6625  17.    ]\n",
            " [  3.      31.275    4.    ]\n",
            " [  3.      15.2458   9.    ]\n",
            " [  1.      39.4     16.    ]\n",
            " [  3.      69.55    14.    ]\n",
            " [  3.      11.1333   4.    ]\n",
            " [  3.       7.225   15.    ]\n",
            " [  3.      23.45     7.    ]]\n",
            "130\n"
          ]
        }
      ]
    },
    {
      "cell_type": "code",
      "source": [
        "#Importing matplotlib for plotting\n",
        "import matplotlib.pyplot as plt"
      ],
      "metadata": {
        "id": "SOQgo4pH8zRn"
      },
      "id": "SOQgo4pH8zRn",
      "execution_count": null,
      "outputs": []
    },
    {
      "cell_type": "code",
      "source": [
        "#Making a scatter plot\n",
        "plt.scatter(df['Age'],df['Fare'],c=df['Pclass'])\n",
        "plt.xlabel('Age')\n",
        "plt.ylabel('Fare')\n",
        "plt.plot([0, 80], [85, 5]) #Making a line chart"
      ],
      "metadata": {
        "colab": {
          "base_uri": "https://localhost:8080/",
          "height": 296
        },
        "id": "_pTKmrLE-G3E",
        "outputId": "12b11626-f9fc-48e4-8843-4d398467eba3"
      },
      "id": "_pTKmrLE-G3E",
      "execution_count": null,
      "outputs": [
        {
          "output_type": "execute_result",
          "data": {
            "text/plain": [
              "[<matplotlib.lines.Line2D at 0x7fc072da0890>]"
            ]
          },
          "metadata": {},
          "execution_count": 13
        },
        {
          "output_type": "display_data",
          "data": {
            "text/plain": [
              "<Figure size 432x288 with 1 Axes>"
            ],
            "image/png": "[encoded data removed]"
          },
          "metadata": {
            "needs_background": "light"
          }
        }
      ]
    },
    {
      "cell_type": "code",
      "source": [
        "plt.scatter(df['Fare'],df['Age'],c=df['Survived'])\n",
        "plt.xlabel('Fare')\n",
        "plt.ylabel('Age')"
      ],
      "metadata": {
        "id": "gNswwh2Q-_KH",
        "colab": {
          "base_uri": "https://localhost:8080/",
          "height": 296
        },
        "outputId": "14671815-60b5-4ca3-dfcb-10783707cf26"
      },
      "id": "gNswwh2Q-_KH",
      "execution_count": null,
      "outputs": [
        {
          "output_type": "execute_result",
          "data": {
            "text/plain": [
              "Text(0, 0.5, 'Age')"
            ]
          },
          "metadata": {},
          "execution_count": 14
        },
        {
          "output_type": "display_data",
          "data": {
            "text/plain": [
              "<Figure size 432x288 with 1 Axes>"
            ],
            "image/png": "[encoded data removed]"
          },
          "metadata": {
            "needs_background": "light"
          }
        }
      ]
    },
    {
      "cell_type": "code",
      "source": [
        "#Building a logistic regression model with sklearn\n",
        "df['male'] = df['Sex'] == 'male'\n",
        "x = df[['Pclass', 'male', 'Age', 'Siblings/Spouses', 'Parents/Children', 'Fare']].values\n",
        "y = df['Survived'].values\n",
        "print(x)\n",
        "print(y)"
      ],
      "metadata": {
        "colab": {
          "base_uri": "https://localhost:8080/"
        },
        "id": "LbhpVE7uZSnB",
        "outputId": "cbc03b35-ad66-4768-b743-0830fafe8202"
      },
      "id": "LbhpVE7uZSnB",
      "execution_count": null,
      "outputs": [
        {
          "output_type": "stream",
          "name": "stdout",
          "text": [
            "[[3 True 22.0 1 0 7.25]\n",
            " [1 False 38.0 1 0 71.2833]\n",
            " [3 False 26.0 0 0 7.925]\n",
            " ...\n",
            " [3 False 7.0 1 2 23.45]\n",
            " [1 True 26.0 0 0 30.0]\n",
            " [3 True 32.0 0 0 7.75]]\n",
            "[0 1 1 1 0 0 0 0 1 1 1 1 0 0 0 1 0 1 0 1 0 1 1 1 0 1 0 0 1 0 0 1 1 0 0 0 1\n",
            " 0 0 1 0 0 1 1 0 0 1 0 0 0 0 1 1 0 1 1 0 1 0 0 1 0 0 0 1 1 0 1 0 0 0 0 0 1\n",
            " 0 0 0 1 1 0 1 1 0 1 1 0 0 1 0 0 0 0 0 0 0 0 1 1 0 0 0 0 0 0 0 1 1 0 1 0 0\n",
            " 0 0 0 0 0 0 0 0 0 0 0 1 0 1 0 1 1 0 0 0 0 1 0 0 1 0 0 0 0 1 1 0 0 0 1 0 0\n",
            " 0 0 1 0 0 0 0 1 0 0 0 0 1 0 0 0 1 1 0 0 0 0 0 1 0 0 0 0 0 0 0 0 0 0 1 1 0\n",
            " 1 1 0 0 1 0 1 1 1 1 0 0 1 0 0 0 0 0 1 0 0 1 1 1 0 1 0 0 0 1 1 0 1 0 1 0 0\n",
            " 0 1 0 1 0 0 0 1 0 0 1 0 0 0 1 0 0 0 1 0 0 0 0 0 1 1 0 0 0 0 0 0 1 1 1 1 1\n",
            " 1 0 0 0 0 0 1 1 1 0 1 1 0 1 1 0 0 0 1 0 0 0 1 0 0 1 0 1 1 1 1 0 0 0 0 0 0\n",
            " 1 1 1 1 0 1 0 1 1 1 0 1 1 1 0 0 0 1 1 0 1 1 0 0 1 1 0 1 0 1 1 1 1 0 0 0 1\n",
            " 0 0 1 1 0 1 1 0 0 0 1 1 1 1 0 0 0 0 0 0 0 1 0 1 1 0 0 0 0 0 0 1 1 1 1 1 0\n",
            " 0 0 0 1 1 0 0 0 1 1 0 1 0 0 0 1 0 1 1 1 0 1 1 0 0 0 0 1 1 0 0 0 0 0 0 1 0\n",
            " 0 0 0 1 0 1 0 1 1 0 0 0 0 0 0 0 1 1 0 1 1 1 1 0 0 1 0 1 0 0 1 0 0 1 1 1 1\n",
            " 1 1 1 0 0 0 1 0 1 0 1 1 0 1 0 0 0 0 0 0 0 0 1 0 0 1 1 0 0 0 0 0 1 0 0 0 1\n",
            " 1 0 1 0 0 1 0 0 0 0 0 0 1 0 0 0 0 0 0 0 1 0 1 1 0 1 1 0 1 1 0 0 1 0 1 0 1\n",
            " 0 0 1 0 0 1 0 0 0 1 0 0 1 0 1 0 1 0 1 1 0 0 1 0 0 1 1 0 1 1 0 0 1 1 0 1 0\n",
            " 1 1 0 0 0 0 0 0 0 0 0 1 1 1 1 1 0 0 1 1 0 1 1 1 0 0 0 1 0 1 0 0 0 1 0 0 0\n",
            " 0 1 0 0 1 1 0 0 0 1 0 0 1 1 1 0 0 1 0 0 1 0 0 1 0 0 1 1 0 0 0 0 1 0 0 1 0\n",
            " 1 0 0 1 0 0 0 0 0 1 0 1 1 1 0 1 0 1 0 1 0 1 0 0 0 0 0 0 1 0 0 0 1 0 0 0 0\n",
            " 1 1 0 0 1 0 0 0 1 0 1 0 1 0 0 0 0 0 0 0 1 1 1 1 0 0 0 0 1 0 0 1 1 0 0 0 0\n",
            " 1 1 1 1 1 0 1 0 0 0 1 1 0 1 0 0 0 1 0 1 1 0 0 1 0 0 0 0 0 0 1 0 0 1 0 1 0\n",
            " 1 0 0 1 0 0 1 1 0 0 1 1 0 0 0 1 0 0 1 1 0 1 0 0 0 0 0 0 0 0 1 0 0 1 0 1 1\n",
            " 1 0 0 0 0 1 0 1 0 0 0 0 0 0 0 1 1 0 0 0 1 1 1 1 0 0 0 0 1 0 0 0 0 0 0 0 0\n",
            " 0 0 1 1 0 1 0 0 0 1 1 1 1 1 0 0 0 1 0 0 1 1 0 0 1 0 0 0 0 0 0 1 0 0 0 1 0\n",
            " 1 1 1 1 0 0 0 1 0 0 1 1 0 0 1 0 1 0 0 1 1 0 0 0 1 1 0 0 0 0 0 0 1 0 1 0]\n"
          ]
        }
      ]
    },
    {
      "cell_type": "markdown",
      "source": [
        "# LOGISTIC REGRESSION\n"
      ],
      "metadata": {
        "id": "Q8dn_Zo2zaMV"
      },
      "id": "Q8dn_Zo2zaMV"
    },
    {
      "cell_type": "code",
      "source": [
        "#import statement\n",
        "from sklearn.linear_model import LogisticRegression\n",
        "\n",
        "#instantiate the class\n",
        "model = LogisticRegression()\n",
        "X = df[['Fare', 'Age']].values\n",
        "y = df['Survived'].values\n",
        "#Fitting the model means using the data to choose a line of best fit\n",
        "model.fit(X, y)\n",
        "print(model.coef_, model.intercept_)"
      ],
      "metadata": {
        "colab": {
          "base_uri": "https://localhost:8080/"
        },
        "id": "EgEfoxCWZkIG",
        "outputId": "0c5e3e16-e53d-4ec3-d2f3-07f4d81566e5"
      },
      "id": "EgEfoxCWZkIG",
      "execution_count": null,
      "outputs": [
        {
          "output_type": "stream",
          "name": "stdout",
          "text": [
            "[[ 0.01615949 -0.01549065]] [-0.51037152]\n"
          ]
        }
      ]
    },
    {
      "cell_type": "markdown",
      "source": [
        "It means that the equation of the line will be\n",
        "Survived = (0.01615949 x Fare) + (-0.01549065 x Age) - 0.51037152"
      ],
      "metadata": {
        "id": "M4x6svL2aF7U"
      },
      "id": "M4x6svL2aF7U"
    },
    {
      "cell_type": "code",
      "source": [
        "#Using more features than just two\n",
        "\n",
        "import pandas as pd\n",
        "from sklearn.linear_model import LogisticRegression\n",
        "\n",
        "df = pd.read_csv('https://sololearn.com/uploads/files/titanic.csv')\n",
        "df['male'] = df['Sex'] == 'male'\n",
        "X = df[['Pclass', 'male', 'Age', 'Siblings/Spouses', 'Parents/Children', 'Fare']].values\n",
        "y = df['Survived'].values\n",
        "\n",
        "model = LogisticRegression()\n",
        "model.fit(X, y)\n",
        "\n",
        "print(model.predict([[3, True, 22.0, 1, 0, 7.25]]))\n",
        "print(model.predict(X[:5]))\n",
        "print(y[:5])"
      ],
      "metadata": {
        "colab": {
          "base_uri": "https://localhost:8080/"
        },
        "id": "CDlFXCnOad7s",
        "outputId": "5e4103fb-f98f-4fab-ef69-d3e621d2bb69"
      },
      "id": "CDlFXCnOad7s",
      "execution_count": null,
      "outputs": [
        {
          "output_type": "stream",
          "name": "stdout",
          "text": [
            "[0]\n",
            "[0 1 1 1 0]\n",
            "[0 1 1 1 0]\n"
          ]
        }
      ]
    },
    {
      "cell_type": "code",
      "source": [
        "#Scoring the model\n",
        "y_pred = model.predict(X)\n",
        "y == y_pred #if our model predicted each value correctly [t/f]\n",
        "#Accuracy score: Number_of_correct_predictions/Total_Sample\n",
        "print((y == y_pred).sum() / y.shape[0])"
      ],
      "metadata": {
        "colab": {
          "base_uri": "https://localhost:8080/"
        },
        "id": "oipd0XCPbPqd",
        "outputId": "cc60ed02-c2f5-4795-9bc5-b53ad57467a3"
      },
      "id": "oipd0XCPbPqd",
      "execution_count": null,
      "outputs": [
        {
          "output_type": "stream",
          "name": "stdout",
          "text": [
            "0.8049605411499436\n"
          ]
        }
      ]
    },
    {
      "cell_type": "code",
      "source": [
        "#Easy technique\n",
        "print(model.score(X,y))"
      ],
      "metadata": {
        "colab": {
          "base_uri": "https://localhost:8080/"
        },
        "id": "Quju_A8DbtHM",
        "outputId": "5fb10368-0ef9-4d0b-a5c7-3fd573b537c1"
      },
      "id": "Quju_A8DbtHM",
      "execution_count": null,
      "outputs": [
        {
          "output_type": "stream",
          "name": "stdout",
          "text": [
            "0.8049605411499436\n"
          ]
        }
      ]
    },
    {
      "cell_type": "code",
      "source": [
        "from sklearn.datasets import load_breast_cancer\n",
        "cancer_data = load_breast_cancer() #Stored as dictionary\n",
        "print(cancer_data.keys())"
      ],
      "metadata": {
        "colab": {
          "base_uri": "https://localhost:8080/"
        },
        "id": "3bjCtOvycJiz",
        "outputId": "4be03314-e8fa-47b5-b2fd-dd598fe81125"
      },
      "id": "3bjCtOvycJiz",
      "execution_count": null,
      "outputs": [
        {
          "output_type": "stream",
          "name": "stdout",
          "text": [
            "dict_keys(['data', 'target', 'frame', 'target_names', 'DESCR', 'feature_names', 'filename', 'data_module'])\n"
          ]
        }
      ]
    },
    {
      "cell_type": "code",
      "source": [
        "#Gives the description of the dataset\n",
        "print(cancer_data['DESCR'])"
      ],
      "metadata": {
        "colab": {
          "base_uri": "https://localhost:8080/"
        },
        "id": "FuQb2vQwc_LL",
        "outputId": "97e1ebdf-9072-4c59-a97b-2431b3249334"
      },
      "id": "FuQb2vQwc_LL",
      "execution_count": null,
      "outputs": [
        {
          "output_type": "stream",
          "name": "stdout",
          "text": [
            ".. _breast_cancer_dataset:\n",
            "\n",
            "Breast cancer wisconsin (diagnostic) dataset\n",
            "--------------------------------------------\n",
            "\n",
            "**Data Set Characteristics:**\n",
            "\n",
            "    :Number of Instances: 569\n",
            "\n",
            "    :Number of Attributes: 30 numeric, predictive attributes and the class\n",
            "\n",
            "    :Attribute Information:\n",
            "        - radius (mean of distances from center to points on the perimeter)\n",
            "        - texture (standard deviation of gray-scale values)\n",
            "        - perimeter\n",
            "        - area\n",
            "        - smoothness (local variation in radius lengths)\n",
            "        - compactness (perimeter^2 / area - 1.0)\n",
            "        - concavity (severity of concave portions of the contour)\n",
            "        - concave points (number of concave portions of the contour)\n",
            "        - symmetry\n",
            "        - fractal dimension (\"coastline approximation\" - 1)\n",
            "\n",
            "        The mean, standard error, and \"worst\" or largest (mean of the three\n",
            "        worst/largest values) of these features were computed for each image,\n",
            "        resulting in 30 features.  For instance, field 0 is Mean Radius, field\n",
            "        10 is Radius SE, field 20 is Worst Radius.\n",
            "\n",
            "        - class:\n",
            "                - WDBC-Malignant\n",
            "                - WDBC-Benign\n",
            "\n",
            "    :Summary Statistics:\n",
            "\n",
            "    ===================================== ====== ======\n",
            "                                           Min    Max\n",
            "    ===================================== ====== ======\n",
            "    radius (mean):                        6.981  28.11\n",
            "    texture (mean):                       9.71   39.28\n",
            "    perimeter (mean):                     43.79  188.5\n",
            "    area (mean):                          143.5  2501.0\n",
            "    smoothness (mean):                    0.053  0.163\n",
            "    compactness (mean):                   0.019  0.345\n",
            "    concavity (mean):                     0.0    0.427\n",
            "    concave points (mean):                0.0    0.201\n",
            "    symmetry (mean):                      0.106  0.304\n",
            "    fractal dimension (mean):             0.05   0.097\n",
            "    radius (standard error):              0.112  2.873\n",
            "    texture (standard error):             0.36   4.885\n",
            "    perimeter (standard error):           0.757  21.98\n",
            "    area (standard error):                6.802  542.2\n",
            "    smoothness (standard error):          0.002  0.031\n",
            "    compactness (standard error):         0.002  0.135\n",
            "    concavity (standard error):           0.0    0.396\n",
            "    concave points (standard error):      0.0    0.053\n",
            "    symmetry (standard error):            0.008  0.079\n",
            "    fractal dimension (standard error):   0.001  0.03\n",
            "    radius (worst):                       7.93   36.04\n",
            "    texture (worst):                      12.02  49.54\n",
            "    perimeter (worst):                    50.41  251.2\n",
            "    area (worst):                         185.2  4254.0\n",
            "    smoothness (worst):                   0.071  0.223\n",
            "    compactness (worst):                  0.027  1.058\n",
            "    concavity (worst):                    0.0    1.252\n",
            "    concave points (worst):               0.0    0.291\n",
            "    symmetry (worst):                     0.156  0.664\n",
            "    fractal dimension (worst):            0.055  0.208\n",
            "    ===================================== ====== ======\n",
            "\n",
            "    :Missing Attribute Values: None\n",
            "\n",
            "    :Class Distribution: 212 - Malignant, 357 - Benign\n",
            "\n",
            "    :Creator:  Dr. William H. Wolberg, W. Nick Street, Olvi L. Mangasarian\n",
            "\n",
            "    :Donor: Nick Street\n",
            "\n",
            "    :Date: November, 1995\n",
            "\n",
            "This is a copy of UCI ML Breast Cancer Wisconsin (Diagnostic) datasets.\n",
            "https://goo.gl/U2Uwz2\n",
            "\n",
            "Features are computed from a digitized image of a fine needle\n",
            "aspirate (FNA) of a breast mass.  They describe\n",
            "characteristics of the cell nuclei present in the image.\n",
            "\n",
            "Separating plane described above was obtained using\n",
            "Multisurface Method-Tree (MSM-T) [K. P. Bennett, \"Decision Tree\n",
            "Construction Via Linear Programming.\" Proceedings of the 4th\n",
            "Midwest Artificial Intelligence and Cognitive Science Society,\n",
            "pp. 97-101, 1992], a classification method which uses linear\n",
            "programming to construct a decision tree.  Relevant features\n",
            "were selected using an exhaustive search in the space of 1-4\n",
            "features and 1-3 separating planes.\n",
            "\n",
            "The actual linear program used to obtain the separating plane\n",
            "in the 3-dimensional space is that described in:\n",
            "[K. P. Bennett and O. L. Mangasarian: \"Robust Linear\n",
            "Programming Discrimination of Two Linearly Inseparable Sets\",\n",
            "Optimization Methods and Software 1, 1992, 23-34].\n",
            "\n",
            "This database is also available through the UW CS ftp server:\n",
            "\n",
            "ftp ftp.cs.wisc.edu\n",
            "cd math-prog/cpo-dataset/machine-learn/WDBC/\n",
            "\n",
            ".. topic:: References\n",
            "\n",
            "   - W.N. Street, W.H. Wolberg and O.L. Mangasarian. Nuclear feature extraction \n",
            "     for breast tumor diagnosis. IS&T/SPIE 1993 International Symposium on \n",
            "     Electronic Imaging: Science and Technology, volume 1905, pages 861-870,\n",
            "     San Jose, CA, 1993.\n",
            "   - O.L. Mangasarian, W.N. Street and W.H. Wolberg. Breast cancer diagnosis and \n",
            "     prognosis via linear programming. Operations Research, 43(4), pages 570-577, \n",
            "     July-August 1995.\n",
            "   - W.H. Wolberg, W.N. Street, and O.L. Mangasarian. Machine learning techniques\n",
            "     to diagnose breast cancer from fine-needle aspirates. Cancer Letters 77 (1994) \n",
            "     163-171.\n"
          ]
        }
      ]
    },
    {
      "cell_type": "code",
      "source": [
        "#putting data in a numpy array\n",
        "data = cancer_data['data']\n",
        "print(data.shape)"
      ],
      "metadata": {
        "colab": {
          "base_uri": "https://localhost:8080/"
        },
        "id": "q_2sempAdIon",
        "outputId": "e35cdeb7-52ea-4837-a876-b130c300ee9d"
      },
      "id": "q_2sempAdIon",
      "execution_count": null,
      "outputs": [
        {
          "output_type": "stream",
          "name": "stdout",
          "text": [
            "(569, 30)\n"
          ]
        }
      ]
    },
    {
      "cell_type": "code",
      "source": [
        "#As a pandas Dataframe with column heading as feature names\n",
        "df = pd.DataFrame(cancer_data['data'], columns=cancer_data['feature_names'])\n",
        "print(df.head())"
      ],
      "metadata": {
        "colab": {
          "base_uri": "https://localhost:8080/"
        },
        "id": "_YjCHiYzdz6P",
        "outputId": "2353e8f2-3c69-4bb0-bd89-c062512ecad1"
      },
      "id": "_YjCHiYzdz6P",
      "execution_count": null,
      "outputs": [
        {
          "output_type": "stream",
          "name": "stdout",
          "text": [
            "   mean radius  mean texture  mean perimeter  mean area  mean smoothness  \\\n",
            "0        17.99         10.38          122.80     1001.0          0.11840   \n",
            "1        20.57         17.77          132.90     1326.0          0.08474   \n",
            "2        19.69         21.25          130.00     1203.0          0.10960   \n",
            "3        11.42         20.38           77.58      386.1          0.14250   \n",
            "4        20.29         14.34          135.10     1297.0          0.10030   \n",
            "\n",
            "   mean compactness  mean concavity  mean concave points  mean symmetry  \\\n",
            "0           0.27760          0.3001              0.14710         0.2419   \n",
            "1           0.07864          0.0869              0.07017         0.1812   \n",
            "2           0.15990          0.1974              0.12790         0.2069   \n",
            "3           0.28390          0.2414              0.10520         0.2597   \n",
            "4           0.13280          0.1980              0.10430         0.1809   \n",
            "\n",
            "   mean fractal dimension  ...  worst radius  worst texture  worst perimeter  \\\n",
            "0                 0.07871  ...         25.38          17.33           184.60   \n",
            "1                 0.05667  ...         24.99          23.41           158.80   \n",
            "2                 0.05999  ...         23.57          25.53           152.50   \n",
            "3                 0.09744  ...         14.91          26.50            98.87   \n",
            "4                 0.05883  ...         22.54          16.67           152.20   \n",
            "\n",
            "   worst area  worst smoothness  worst compactness  worst concavity  \\\n",
            "0      2019.0            0.1622             0.6656           0.7119   \n",
            "1      1956.0            0.1238             0.1866           0.2416   \n",
            "2      1709.0            0.1444             0.4245           0.4504   \n",
            "3       567.7            0.2098             0.8663           0.6869   \n",
            "4      1575.0            0.1374             0.2050           0.4000   \n",
            "\n",
            "   worst concave points  worst symmetry  worst fractal dimension  \n",
            "0                0.2654          0.4601                  0.11890  \n",
            "1                0.1860          0.2750                  0.08902  \n",
            "2                0.2430          0.3613                  0.08758  \n",
            "3                0.2575          0.6638                  0.17300  \n",
            "4                0.1625          0.2364                  0.07678  \n",
            "\n",
            "[5 rows x 30 columns]\n"
          ]
        }
      ]
    },
    {
      "cell_type": "code",
      "source": [
        "#The target variable which predicts if they have cancer/not\n",
        "df['target'] = cancer_data['target']\n",
        "print(df.head())"
      ],
      "metadata": {
        "colab": {
          "base_uri": "https://localhost:8080/"
        },
        "id": "3Wx0QUJQeDS6",
        "outputId": "2f794d51-3bf0-4734-94e4-ff6962033a2a"
      },
      "id": "3Wx0QUJQeDS6",
      "execution_count": null,
      "outputs": [
        {
          "output_type": "stream",
          "name": "stdout",
          "text": [
            "   mean radius  mean texture  mean perimeter  mean area  mean smoothness  \\\n",
            "0        17.99         10.38          122.80     1001.0          0.11840   \n",
            "1        20.57         17.77          132.90     1326.0          0.08474   \n",
            "2        19.69         21.25          130.00     1203.0          0.10960   \n",
            "3        11.42         20.38           77.58      386.1          0.14250   \n",
            "4        20.29         14.34          135.10     1297.0          0.10030   \n",
            "\n",
            "   mean compactness  mean concavity  mean concave points  mean symmetry  \\\n",
            "0           0.27760          0.3001              0.14710         0.2419   \n",
            "1           0.07864          0.0869              0.07017         0.1812   \n",
            "2           0.15990          0.1974              0.12790         0.2069   \n",
            "3           0.28390          0.2414              0.10520         0.2597   \n",
            "4           0.13280          0.1980              0.10430         0.1809   \n",
            "\n",
            "   mean fractal dimension  ...  worst texture  worst perimeter  worst area  \\\n",
            "0                 0.07871  ...          17.33           184.60      2019.0   \n",
            "1                 0.05667  ...          23.41           158.80      1956.0   \n",
            "2                 0.05999  ...          25.53           152.50      1709.0   \n",
            "3                 0.09744  ...          26.50            98.87       567.7   \n",
            "4                 0.05883  ...          16.67           152.20      1575.0   \n",
            "\n",
            "   worst smoothness  worst compactness  worst concavity  worst concave points  \\\n",
            "0            0.1622             0.6656           0.7119                0.2654   \n",
            "1            0.1238             0.1866           0.2416                0.1860   \n",
            "2            0.1444             0.4245           0.4504                0.2430   \n",
            "3            0.2098             0.8663           0.6869                0.2575   \n",
            "4            0.1374             0.2050           0.4000                0.1625   \n",
            "\n",
            "   worst symmetry  worst fractal dimension  target  \n",
            "0          0.4601                  0.11890       0  \n",
            "1          0.2750                  0.08902       0  \n",
            "2          0.3613                  0.08758       0  \n",
            "3          0.6638                  0.17300       0  \n",
            "4          0.2364                  0.07678       0  \n",
            "\n",
            "[5 rows x 31 columns]\n"
          ]
        }
      ]
    },
    {
      "cell_type": "code",
      "source": [
        "#Build a logistic Regression Model\n",
        "#FEATURES\n",
        "X = df[cancer_data.feature_names].values\n",
        "#TARGET\n",
        "y = df['target'].values\n",
        "model = LogisticRegression()\n",
        "model.fit(X, y)"
      ],
      "metadata": {
        "colab": {
          "base_uri": "https://localhost:8080/"
        },
        "id": "gpky94bGe4gF",
        "outputId": "45e5bd67-8f7f-4819-96d4-4a95c8865a21"
      },
      "id": "gpky94bGe4gF",
      "execution_count": null,
      "outputs": [
        {
          "output_type": "stream",
          "name": "stderr",
          "text": [
            "/usr/local/lib/python3.7/dist-packages/sklearn/linear_model/_logistic.py:818: ConvergenceWarning: lbfgs failed to converge (status=1):\n",
            "STOP: TOTAL NO. of ITERATIONS REACHED LIMIT.\n",
            "\n",
            "Increase the number of iterations (max_iter) or scale the data as shown in:\n",
            "    https://scikit-learn.org/stable/modules/preprocessing.html\n",
            "Please also refer to the documentation for alternative solver options:\n",
            "    https://scikit-learn.org/stable/modules/linear_model.html#logistic-regression\n",
            "  extra_warning_msg=_LOGISTIC_SOLVER_CONVERGENCE_MSG,\n"
          ]
        },
        {
          "output_type": "execute_result",
          "data": {
            "text/plain": [
              "LogisticRegression()"
            ]
          },
          "metadata": {},
          "execution_count": 25
        }
      ]
    },
    {
      "cell_type": "code",
      "source": [
        "#To eradicate the convergence warning\n",
        "model = LogisticRegression(solver='liblinear')\n",
        "model.fit(X, y)"
      ],
      "metadata": {
        "colab": {
          "base_uri": "https://localhost:8080/"
        },
        "id": "DXRJy1xsfE82",
        "outputId": "f45006e0-172c-4c31-f3a7-b41a038f37d3"
      },
      "id": "DXRJy1xsfE82",
      "execution_count": null,
      "outputs": [
        {
          "output_type": "execute_result",
          "data": {
            "text/plain": [
              "LogisticRegression(solver='liblinear')"
            ]
          },
          "metadata": {},
          "execution_count": 26
        }
      ]
    },
    {
      "cell_type": "code",
      "source": [
        "model.score(X, y) #The accuracy score of the model"
      ],
      "metadata": {
        "colab": {
          "base_uri": "https://localhost:8080/"
        },
        "id": "1pt5Lv2SfS82",
        "outputId": "d176b81b-fba6-4d2f-c38d-d2678c2d2f81"
      },
      "id": "1pt5Lv2SfS82",
      "execution_count": null,
      "outputs": [
        {
          "output_type": "execute_result",
          "data": {
            "text/plain": [
              "0.9595782073813708"
            ]
          },
          "metadata": {},
          "execution_count": 27
        }
      ]
    },
    {
      "cell_type": "markdown",
      "source": [
        "# EVALUATION METRICS\n"
      ],
      "metadata": {
        "id": "RUbVne6IynPW"
      },
      "id": "RUbVne6IynPW"
    },
    {
      "cell_type": "code",
      "source": [
        "df = pd.read_csv('https://sololearn.com/uploads/files/titanic.csv')\n",
        "df['male'] = df['Sex'] == 'male'\n",
        "X = df[['Pclass', 'male', 'Age', 'Siblings/Spouses', 'Parents/Children', 'Fare']].values\n",
        "y = df['Survived'].values\n",
        "model = LogisticRegression()\n",
        "model.fit(X, y)\n",
        "y_pred = model.predict(X)"
      ],
      "metadata": {
        "id": "AGGqqEF9yeep"
      },
      "id": "AGGqqEF9yeep",
      "execution_count": null,
      "outputs": []
    },
    {
      "cell_type": "code",
      "source": [
        "#import metric functions\n",
        "from sklearn.metrics import accuracy_score, precision_score, recall_score, f1_score"
      ],
      "metadata": {
        "id": "E3sxzBHlyuKo"
      },
      "id": "E3sxzBHlyuKo",
      "execution_count": null,
      "outputs": []
    },
    {
      "cell_type": "code",
      "source": [
        "# Confusion Matrix\n",
        "from sklearn.metrics import confusion_matrix\n",
        "\n",
        "print(confusion_matrix(y,y_pred))"
      ],
      "metadata": {
        "colab": {
          "base_uri": "https://localhost:8080/"
        },
        "id": "G0xzbKi0z2L-",
        "outputId": "1819efca-ced8-49cd-dac7-90e1252865a1"
      },
      "id": "G0xzbKi0z2L-",
      "execution_count": null,
      "outputs": [
        {
          "output_type": "stream",
          "name": "stdout",
          "text": [
            "[[475  70]\n",
            " [103 239]]\n"
          ]
        }
      ]
    },
    {
      "cell_type": "code",
      "source": [
        "print(\"Score: \",model.score(X,y))\n",
        "print(\"Accuracy: \",accuracy_score(y,y_pred))\n",
        "print(\"Precision: \",precision_score(y,y_pred))\n",
        "print(\"Recall: \",recall_score(y,y_pred))\n",
        "print(\"F1 score: \",f1_score(y,y_pred))"
      ],
      "metadata": {
        "colab": {
          "base_uri": "https://localhost:8080/"
        },
        "id": "zIX3b4R7y5LN",
        "outputId": "918c3262-f459-4475-bec2-da0e5207f137"
      },
      "id": "zIX3b4R7y5LN",
      "execution_count": null,
      "outputs": [
        {
          "output_type": "stream",
          "name": "stdout",
          "text": [
            "Score:  0.8049605411499436\n",
            "Accuracy:  0.8049605411499436\n",
            "Precision:  0.7734627831715211\n",
            "Recall:  0.6988304093567251\n",
            "F1 score:  0.7342549923195083\n"
          ]
        }
      ]
    },
    {
      "cell_type": "code",
      "source": [
        "cm = confusion_matrix(y,y_pred)\n",
        "#accuracy = TP+TN/TP+TN+FP+FN\n",
        "accuracy = (cm[0][0] + cm[1][1])/(cm[0][0] + cm[0][1] + cm[1][0] + cm[1][1])\n",
        "#precision = TP/TP+FP\n",
        "precision = (cm[1][1]) / (cm[1][1] + cm[0][1])\n",
        "#recall = TP/TP+FN\n",
        "recall = (cm[1][1])/(cm[1][1] + cm[1][0])\n",
        "#F1 score\n",
        "f1 = (2*precision*recall)/(precision+recall)\n",
        "\n",
        "print(\"Accuracy: \",accuracy)\n",
        "print(\"Precision: \",precision)\n",
        "print(\"Recall: \",recall)\n",
        "print(\"F1 score: \",f1)"
      ],
      "metadata": {
        "colab": {
          "base_uri": "https://localhost:8080/"
        },
        "id": "xLgtTHz724dC",
        "outputId": "b4627bf7-2b78-4097-da29-422c45b83c87"
      },
      "id": "xLgtTHz724dC",
      "execution_count": null,
      "outputs": [
        {
          "output_type": "stream",
          "name": "stdout",
          "text": [
            "Accuracy:  0.8049605411499436\n",
            "Precision:  0.7734627831715211\n",
            "Recall:  0.6988304093567251\n",
            "F1 score:  0.7342549923195083\n"
          ]
        }
      ]
    },
    {
      "cell_type": "markdown",
      "source": [
        "TRAINING AND TESTING"
      ],
      "metadata": {
        "id": "1sGzvjBS8eCO"
      },
      "id": "1sGzvjBS8eCO"
    },
    {
      "cell_type": "code",
      "source": [
        "# import statement\n",
        "from sklearn.model_selection import train_test_split"
      ],
      "metadata": {
        "id": "iaXEujPn8ghF"
      },
      "id": "iaXEujPn8ghF",
      "execution_count": null,
      "outputs": []
    },
    {
      "cell_type": "code",
      "source": [
        "#splitting the dataset\n",
        "X_train, X_test, y_train, y_test = train_test_split(X,y)\n",
        "\n",
        "print(\"Whole dataset: \",X.shape,y.shape)\n",
        "print(\"Training set: \",X_train.shape, y_train.shape) #70-80%\n",
        "print(\"Test set: \",X_test.shape, y_test.shape) #20-30%"
      ],
      "metadata": {
        "colab": {
          "base_uri": "https://localhost:8080/"
        },
        "id": "dJQ0cNOx-LhK",
        "outputId": "e870aaaa-6488-4d86-cb9e-1c7be93e3200"
      },
      "id": "dJQ0cNOx-LhK",
      "execution_count": null,
      "outputs": [
        {
          "output_type": "stream",
          "name": "stdout",
          "text": [
            "Whole dataset:  (887, 6) (887,)\n",
            "Training set:  (665, 6) (665,)\n",
            "Test set:  (222, 6) (222,)\n"
          ]
        }
      ]
    },
    {
      "cell_type": "code",
      "source": [
        "#Desired percentage of dataset\n",
        "\n",
        "X_train, X_test, y_train, y_test = train_test_split(X,y,train_size=0.6)\n",
        "\n",
        "print(\"Whole dataset: \",X.shape,y.shape)\n",
        "print(\"Training set: \",X_train.shape, y_train.shape) #60%\n",
        "print(\"Test set: \",X_test.shape, y_test.shape) #40%"
      ],
      "metadata": {
        "colab": {
          "base_uri": "https://localhost:8080/"
        },
        "id": "jvvLOI-N_xs-",
        "outputId": "6d13ee8e-d6d4-4d42-d34a-33827618f788"
      },
      "id": "jvvLOI-N_xs-",
      "execution_count": null,
      "outputs": [
        {
          "output_type": "stream",
          "name": "stdout",
          "text": [
            "Whole dataset:  (887, 6) (887,)\n",
            "Training set:  (532, 6) (532,)\n",
            "Test set:  (355, 6) (355,)\n"
          ]
        }
      ]
    },
    {
      "cell_type": "code",
      "source": [
        "# Building a model using a Training set and evaluating test set\n",
        "\n",
        "model = LogisticRegression()\n",
        "model.fit(X_train, y_train)\n",
        "y_pred = model.predict(X_test)\n",
        "\n",
        "print(model.score(X_test, y_test))\n",
        "\n",
        "print(\"Accuracy: \",accuracy_score(y_test,y_pred))\n",
        "print(\"Precision: \",precision_score(y_test,y_pred))\n",
        "print(\"Recall: \",recall_score(y_test,y_pred))\n",
        "print(\"F1 score: \",f1_score(y_test,y_pred))"
      ],
      "metadata": {
        "colab": {
          "base_uri": "https://localhost:8080/"
        },
        "id": "JCxPJMnZADMm",
        "outputId": "ca80a313-2c86-4832-f5b7-dd4b791aeb67"
      },
      "id": "JCxPJMnZADMm",
      "execution_count": null,
      "outputs": [
        {
          "output_type": "stream",
          "name": "stdout",
          "text": [
            "0.8225352112676056\n",
            "Accuracy:  0.8225352112676056\n",
            "Precision:  0.7264957264957265\n",
            "Recall:  0.7327586206896551\n",
            "F1 score:  0.7296137339055794\n"
          ]
        }
      ]
    },
    {
      "cell_type": "code",
      "source": [
        "from sklearn.model_selection import train_test_split\n",
        "\n",
        "X = [[1, 1], [2, 2], [3, 3], [4, 4]]\n",
        "y = [0, 0, 1, 1]\n",
        "#Using the random state we will get the same train and test dataset every time\n",
        "#we run the code\n",
        "X_train, X_test, y_train, y_test = train_test_split(X, y, random_state=27)\n",
        "print('X_train', X_train)\n",
        "print('X_test', X_test)"
      ],
      "metadata": {
        "colab": {
          "base_uri": "https://localhost:8080/"
        },
        "id": "CYi9nts6Bm3w",
        "outputId": "2e848c90-fb19-45e0-fe2e-4999ac943471"
      },
      "id": "CYi9nts6Bm3w",
      "execution_count": null,
      "outputs": [
        {
          "output_type": "stream",
          "name": "stdout",
          "text": [
            "X_train [[3, 3], [1, 1], [4, 4]]\n",
            "X_test [[2, 2]]\n"
          ]
        }
      ]
    },
    {
      "cell_type": "markdown",
      "source": [
        "SENSITIVITY AND SPECIFICITY\n",
        "[ROC CURVE]"
      ],
      "metadata": {
        "id": "ljGpFqMIkTPR"
      },
      "id": "ljGpFqMIkTPR"
    },
    {
      "cell_type": "code",
      "source": [
        "import pandas as pd\n",
        "from sklearn.linear_model import LogisticRegression #import Logistic Regression model\n",
        "from sklearn.model_selection import train_test_split #for training and test data splitting\n",
        "from sklearn.metrics import recall_score, precision_recall_fscore_support #for specificity and sensitivity\n",
        "\n",
        "sensitivity_score = recall_score\n",
        "def specificity_score(y_true, y_pred):\n",
        "    p, r, f, s = precision_recall_fscore_support(y_true, y_pred)\n",
        "    return r[0]\n",
        "\n",
        "df = pd.read_csv('https://sololearn.com/uploads/files/titanic.csv')\n",
        "df['male'] = df['Sex'] == 'male'\n",
        "X = df[['Pclass', 'male', 'Age', 'Siblings/Spouses', 'Parents/Children', 'Fare']].values\n",
        "y = df['Survived'].values\n",
        "\n",
        "X_train, X_test, y_train, y_test = train_test_split(X, y, random_state=5)\n",
        "\n",
        "model = LogisticRegression()\n",
        "model.fit(X_train, y_train)\n",
        "y_pred = model.predict(X_test)\n",
        "\n",
        "print(\"sensitivity:\", sensitivity_score(y_test, y_pred))\n",
        "print(\"specificity:\", specificity_score(y_test, y_pred))"
      ],
      "metadata": {
        "colab": {
          "base_uri": "https://localhost:8080/"
        },
        "id": "hsgBc85mlHr4",
        "outputId": "ed6b6871-b3b0-4342-f8e1-b20f4a3e9642"
      },
      "id": "hsgBc85mlHr4",
      "execution_count": null,
      "outputs": [
        {
          "output_type": "stream",
          "name": "stdout",
          "text": [
            "sensitivity: 0.6829268292682927\n",
            "specificity: 0.9214285714285714\n"
          ]
        }
      ]
    },
    {
      "cell_type": "code",
      "source": [
        "#Adjusting the Logistic Regression Threshold\n",
        "model.predict_proba(X_test)[:, 1] #gives the probbility value of each datapoint"
      ],
      "metadata": {
        "colab": {
          "base_uri": "https://localhost:8080/"
        },
        "id": "_Jo2UZjVlkYB",
        "outputId": "f9560eb9-a78c-4f9c-83f9-3689a366a056"
      },
      "id": "_Jo2UZjVlkYB",
      "execution_count": null,
      "outputs": [
        {
          "output_type": "execute_result",
          "data": {
            "text/plain": [
              "array([0.53945348, 0.11189996, 0.86479404, 0.3750286 , 0.26277035,\n",
              "       0.14312942, 0.15866859, 0.89342815, 0.87390239, 0.5797625 ,\n",
              "       0.07563347, 0.16476085, 0.86301006, 0.09782693, 0.39487691,\n",
              "       0.20435251, 0.82484491, 0.53345117, 0.75803986, 0.10752293,\n",
              "       0.71532401, 0.12185382, 0.13799824, 0.12924727, 0.13341146,\n",
              "       0.77410177, 0.14827959, 0.14832346, 0.43769661, 0.35963416,\n",
              "       0.10743296, 0.95011529, 0.48958425, 0.12879449, 0.05238666,\n",
              "       0.08937575, 0.96349156, 0.40734076, 0.37260284, 0.04062513,\n",
              "       0.7727469 , 0.09079083, 0.64735475, 0.45823187, 0.55564638,\n",
              "       0.17828701, 0.25752276, 0.10175146, 0.13817047, 0.73169487,\n",
              "       0.21943456, 0.15345699, 0.30017135, 0.67304194, 0.14883316,\n",
              "       0.27756196, 0.92534507, 0.95507199, 0.12606281, 0.66282319,\n",
              "       0.14821818, 0.85782687, 0.1589733 , 0.07671022, 0.14839189,\n",
              "       0.09033525, 0.03483101, 0.31937115, 0.62698294, 0.50255859,\n",
              "       0.30329829, 0.12851156, 0.92281516, 0.39829848, 0.38463318,\n",
              "       0.95234556, 0.94697455, 0.04026005, 0.1506876 , 0.27629741,\n",
              "       0.00424618, 0.11150017, 0.71539518, 0.14241774, 0.715166  ,\n",
              "       0.09290945, 0.48002894, 0.08124321, 0.39076487, 0.10363872,\n",
              "       0.05752147, 0.68247168, 0.26183533, 0.04659838, 0.62257718,\n",
              "       0.16441221, 0.06221033, 0.30329829, 0.82583851, 0.19700646,\n",
              "       0.86798164, 0.07556301, 0.08114924, 0.09627149, 0.89325688,\n",
              "       0.76913045, 0.13383906, 0.17294914, 0.11144629, 0.07949443,\n",
              "       0.37761644, 0.89788154, 0.13043067, 0.48142331, 0.10492576,\n",
              "       0.15357283, 0.10745961, 0.88475915, 0.13319611, 0.33094459,\n",
              "       0.70667105, 0.87992396, 0.14322316, 0.15885567, 0.50936874,\n",
              "       0.55359866, 0.22519832, 0.08937575, 0.25143897, 0.35681226,\n",
              "       0.27779033, 0.03909179, 0.17828701, 0.76784532, 0.08605855,\n",
              "       0.17357026, 0.04935594, 0.10343239, 0.42829077, 0.1138426 ,\n",
              "       0.05644871, 0.40116831, 0.17514696, 0.89510085, 0.87944835,\n",
              "       0.12402603, 0.28809601, 0.91656685, 0.06329966, 0.17229348,\n",
              "       0.56027788, 0.71161833, 0.08269645, 0.07402538, 0.07389691,\n",
              "       0.74269795, 0.27658321, 0.12176973, 0.08487361, 0.0858955 ,\n",
              "       0.94239243, 0.05921212, 0.83664968, 0.074755  , 0.05606352,\n",
              "       0.0540203 , 0.89757338, 0.37838294, 0.31428408, 0.10414185,\n",
              "       0.95916927, 0.81214988, 0.54744476, 0.32212318, 0.107889  ,\n",
              "       0.7604635 , 0.11145773, 0.89012127, 0.05980359, 0.06117433,\n",
              "       0.20422311, 0.50477511, 0.24132884, 0.09273006, 0.09634707,\n",
              "       0.93935536, 0.43471576, 0.17012705, 0.13554744, 0.53966058,\n",
              "       0.15357283, 0.66071998, 0.12396566, 0.15351714, 0.29313947,\n",
              "       0.14873638, 0.52094204, 0.07460355, 0.7604635 , 0.10356131,\n",
              "       0.34842133, 0.46648432, 0.15361195, 0.6741399 , 0.13033779,\n",
              "       0.32711164, 0.33094459, 0.62067526, 0.36607929, 0.04849082,\n",
              "       0.09566255, 0.04640858, 0.79722392, 0.96270557, 0.27641601,\n",
              "       0.92715319, 0.45138661, 0.11141762, 0.15886187, 0.3125815 ,\n",
              "       0.27980244, 0.11541385])"
            ]
          },
          "metadata": {},
          "execution_count": 39
        }
      ]
    },
    {
      "cell_type": "code",
      "source": [
        "#Compare with our desired threshold value\n",
        "\n",
        "y_pred = model.predict_proba(X_test)[:, 1] > 0.75\n",
        "print(\"precision:\", precision_score(y_test, y_pred))\n",
        "print(\"recall:\", recall_score(y_test, y_pred))"
      ],
      "metadata": {
        "colab": {
          "base_uri": "https://localhost:8080/"
        },
        "id": "tmjrnI_Qpe_Y",
        "outputId": "57e4ce66-2d28-440d-fa64-76880f46e855"
      },
      "id": "tmjrnI_Qpe_Y",
      "execution_count": null,
      "outputs": [
        {
          "output_type": "stream",
          "name": "stdout",
          "text": [
            "precision: 0.9230769230769231\n",
            "recall: 0.43902439024390244\n"
          ]
        }
      ]
    },
    {
      "cell_type": "markdown",
      "source": [
        "As discussed earlier, precision will be higher if the threshold value is also high\n"
      ],
      "metadata": {
        "id": "j4jKMfpaprox"
      },
      "id": "j4jKMfpaprox"
    },
    {
      "cell_type": "code",
      "source": [
        "#Drawing a curve\n",
        "import matplotlib.pyplot as plt\n",
        "from sklearn.metrics import roc_curve\n",
        "model = LogisticRegression()\n",
        "model.fit(X_train, y_train)\n",
        "y_pred_proba = model.predict_proba(X_test)\n",
        "fpr, tpr, thresholds = roc_curve(y_test, y_pred_proba[:,1])\n",
        "\n",
        "plt.plot(fpr, tpr)\n",
        "plt.plot([0, 1], [0, 1], linestyle='--')\n",
        "plt.xlim([0.0, 1.0])\n",
        "plt.ylim([0.0, 1.0])\n",
        "plt.xlabel('1 - specificity')\n",
        "plt.ylabel('sensitivity')\n",
        "plt.show()"
      ],
      "metadata": {
        "colab": {
          "base_uri": "https://localhost:8080/",
          "height": 283
        },
        "id": "9QmOXf0wpx2P",
        "outputId": "7c7fbf6f-0c48-4216-aa16-6db4a7a9b572"
      },
      "id": "9QmOXf0wpx2P",
      "execution_count": null,
      "outputs": [
        {
          "output_type": "display_data",
          "data": {
            "text/plain": [
              "<Figure size 432x288 with 1 Axes>"
            ],
            "image/png": "[encoded data removed]"
          },
          "metadata": {
            "needs_background": "light"
          }
        }
      ]
    },
    {
      "cell_type": "markdown",
      "source": [
        "The closer the curve gets to the upper left, it shows better performance. The line should never fall below the diagonal line"
      ],
      "metadata": {
        "id": "-luaFGCxuTFN"
      },
      "id": "-luaFGCxuTFN"
    },
    {
      "cell_type": "code",
      "source": [
        "#Comparing different models using AUC\n",
        "from sklearn.metrics import roc_auc_score\n",
        "\n",
        "X_train, X_test, y_train, y_test = train_test_split(X, y)\n",
        "\n",
        "model1 = LogisticRegression()\n",
        "model1.fit(X_train, y_train)\n",
        "y_pred_proba1 = model1.predict_proba(X_test)\n",
        "print(\"model 1 AUC score:\", roc_auc_score(y_test, y_pred_proba1[:, 1]))\n",
        "\n",
        "model2 = LogisticRegression()\n",
        "model2.fit(X_train[:, 0:2], y_train)\n",
        "y_pred_proba2 = model2.predict_proba(X_test[:, 0:2])\n",
        "print(\"model 2 AUC score:\", roc_auc_score(y_test, y_pred_proba2[:, 1]))"
      ],
      "metadata": {
        "colab": {
          "base_uri": "https://localhost:8080/"
        },
        "id": "MfcBFzCEuvQH",
        "outputId": "7be54621-a8eb-493a-9c92-4eb09ce61dc8"
      },
      "id": "MfcBFzCEuvQH",
      "execution_count": null,
      "outputs": [
        {
          "output_type": "stream",
          "name": "stdout",
          "text": [
            "model 1 AUC score: 0.8854439469460167\n",
            "model 2 AUC score: 0.8516516009123933\n"
          ]
        }
      ]
    },
    {
      "cell_type": "markdown",
      "source": [
        "# KFOLD CROSS-VALIDATION"
      ],
      "metadata": {
        "id": "zHYlZ37i0u90"
      },
      "id": "zHYlZ37i0u90"
    },
    {
      "cell_type": "code",
      "source": [
        "from sklearn.model_selection import KFold\n",
        "import pandas as pd\n",
        "\n",
        "df = pd.read_csv('https://sololearn.com/uploads/files/titanic.csv')\n",
        "X = df[['Age', 'Fare']].values[:6]\n",
        "y = df['Survived'].values[:6]\n",
        "\n",
        "kf = KFold(n_splits=3, shuffle=True)\n",
        "print(list(kf.split(X)))\n",
        "\n",
        "#This code gives different array values each time you rerun it"
      ],
      "metadata": {
        "colab": {
          "base_uri": "https://localhost:8080/"
        },
        "id": "mfHHe-pf0xqv",
        "outputId": "1101f921-75f5-414c-df58-e12907825ca6"
      },
      "id": "mfHHe-pf0xqv",
      "execution_count": null,
      "outputs": [
        {
          "output_type": "stream",
          "name": "stdout",
          "text": [
            "[(array([1, 2, 4, 5]), array([0, 3])), (array([0, 2, 3, 5]), array([1, 4])), (array([0, 1, 3, 4]), array([2, 5]))]\n"
          ]
        }
      ]
    },
    {
      "cell_type": "code",
      "source": [
        "#Viewing the train and test split for the first split\n",
        "\n",
        "splits = list(kf.split(X))\n",
        "first_split = splits[0]\n",
        "train_indices, test_indices = first_split\n",
        "print(\"training set indices:\", train_indices)\n",
        "print(\"test set indices:\", test_indices)\n",
        "\n",
        "X_train = X[train_indices]\n",
        "X_test = X[test_indices]\n",
        "y_train = y[train_indices]\n",
        "y_test = y[test_indices]\n",
        "print(\"X_train\")\n",
        "print(X_train)\n",
        "print(\"y_train\", y_train)\n",
        "print(\"X_test\")\n",
        "print(X_test)\n",
        "print(\"y_test\", y_test)"
      ],
      "metadata": {
        "id": "QV-qPOTO1rGq",
        "colab": {
          "base_uri": "https://localhost:8080/"
        },
        "outputId": "ae132c20-556e-463b-d97b-3af2a5842305"
      },
      "id": "QV-qPOTO1rGq",
      "execution_count": null,
      "outputs": [
        {
          "output_type": "stream",
          "name": "stdout",
          "text": [
            "training set indices: [1 2 3 5]\n",
            "test set indices: [0 4]\n",
            "X_train\n",
            "[[38.     71.2833]\n",
            " [26.      7.925 ]\n",
            " [35.     53.1   ]\n",
            " [27.      8.4583]]\n",
            "y_train [1 1 1 0]\n",
            "X_test\n",
            "[[22.    7.25]\n",
            " [35.    8.05]]\n",
            "y_test [0 0]\n"
          ]
        }
      ]
    },
    {
      "cell_type": "code",
      "source": [
        "#Building a model for the first fold\n",
        "from sklearn.linear_model import LogisticRegression\n",
        "import pandas as pd\n",
        "\n",
        "df = pd.read_csv('https://sololearn.com/uploads/files/titanic.csv')\n",
        "df['male'] = df['Sex'] == 'male'\n",
        "X = df[['Pclass', 'male', 'Age', 'Siblings/Spouses', 'Parents/Children', 'Fare']].values\n",
        "y = df['Survived'].values\n",
        "kf = KFold(n_splits=5, shuffle=True)\n",
        "\n",
        "splits = list(kf.split(X))\n",
        "train_indices, test_indices = splits[0]\n",
        "X_train = X[train_indices]\n",
        "X_test = X[test_indices]\n",
        "y_train = y[train_indices]\n",
        "y_test = y[test_indices]\n",
        "\n",
        "model = LogisticRegression()\n",
        "model.fit(X_train, y_train)\n",
        "print(model.score(X_test, y_test))"
      ],
      "metadata": {
        "colab": {
          "base_uri": "https://localhost:8080/"
        },
        "id": "HGM821aZwBAo",
        "outputId": "0e99f8bf-f573-4809-a922-16152b330bb4"
      },
      "id": "HGM821aZwBAo",
      "execution_count": null,
      "outputs": [
        {
          "output_type": "stream",
          "name": "stdout",
          "text": [
            "0.8595505617977528\n"
          ]
        }
      ]
    },
    {
      "cell_type": "code",
      "source": [
        "#Looping over all the folds\n",
        "\n",
        "scores = []\n",
        "kf = KFold(n_splits=5, shuffle=True)\n",
        "for train_index, test_index in kf.split(X):\n",
        "    X_train, X_test = X[train_index], X[test_index]\n",
        "    y_train, y_test = y[train_index], y[test_index]\n",
        "    model = LogisticRegression()\n",
        "    model.fit(X_train, y_train)\n",
        "    scores.append(model.score(X_test, y_test))\n",
        "print(scores)"
      ],
      "metadata": {
        "colab": {
          "base_uri": "https://localhost:8080/"
        },
        "id": "LRn59ErxwvTx",
        "outputId": "964bd297-e4e3-4c24-b1e8-065ddb9da07b"
      },
      "id": "LRn59ErxwvTx",
      "execution_count": null,
      "outputs": [
        {
          "output_type": "stream",
          "name": "stdout",
          "text": [
            "[0.7696629213483146, 0.8033707865168539, 0.7627118644067796, 0.8305084745762712, 0.8022598870056498]\n"
          ]
        }
      ]
    },
    {
      "cell_type": "code",
      "source": [
        "import numpy as np\n",
        "print(np.mean(scores))"
      ],
      "metadata": {
        "colab": {
          "base_uri": "https://localhost:8080/"
        },
        "id": "tK-PpaBrxdUA",
        "outputId": "ebf2e01d-bcf9-46e2-80fe-d99aab4d86b9"
      },
      "id": "tK-PpaBrxdUA",
      "execution_count": null,
      "outputs": [
        {
          "output_type": "stream",
          "name": "stdout",
          "text": [
            "0.7937027867707738\n"
          ]
        }
      ]
    },
    {
      "cell_type": "code",
      "source": [
        "#We build a final model using all of the data\n",
        "\n",
        "final_model = LogisticRegression()\n",
        "final_model.fit(X,y)\n",
        "final_model.score(X,y)"
      ],
      "metadata": {
        "colab": {
          "base_uri": "https://localhost:8080/"
        },
        "id": "Qrz1FVtPxmbv",
        "outputId": "6b24e4f8-47bf-4977-e060-17c55083590c"
      },
      "id": "Qrz1FVtPxmbv",
      "execution_count": null,
      "outputs": [
        {
          "output_type": "execute_result",
          "data": {
            "text/plain": [
              "0.8049605411499436"
            ]
          },
          "metadata": {},
          "execution_count": 48
        }
      ]
    },
    {
      "cell_type": "markdown",
      "source": [
        "BUILDING DIFFERENT MODELS\n",
        "\n"
      ],
      "metadata": {
        "id": "77JFN1Xpyy3Q"
      },
      "id": "77JFN1Xpyy3Q"
    },
    {
      "cell_type": "code",
      "source": [
        "#import and setting up of data\n",
        "from sklearn.model_selection import KFold\n",
        "from sklearn.linear_model import LogisticRegression\n",
        "from sklearn.metrics import accuracy_score, precision_score, recall_score, f1_score\n",
        "import pandas as pd\n",
        "import numpy as np\n",
        "\n",
        "df = pd.read_csv('https://sololearn.com/uploads/files/titanic.csv')\n",
        "df['male'] = df['Sex'] == 'male'\n",
        "kf = KFold(n_splits=5, shuffle=True)"
      ],
      "metadata": {
        "id": "XDpZFVehyCHe"
      },
      "id": "XDpZFVehyCHe",
      "execution_count": null,
      "outputs": []
    },
    {
      "cell_type": "code",
      "source": [
        "#Building three different models using X1,X2,X3 as features and y as the target\n",
        "X1 = df[['Pclass', 'male', 'Age', 'Siblings/Spouses', 'Parents/Children', 'Fare']].values\n",
        "X2 = df[['Pclass', 'male', 'Age']].values\n",
        "X3 = df[['Fare', 'Age']].values\n",
        "y = df['Survived'].values"
      ],
      "metadata": {
        "id": "L9qW738nzlJd"
      },
      "id": "L9qW738nzlJd",
      "execution_count": null,
      "outputs": []
    },
    {
      "cell_type": "code",
      "source": [
        "#The score model function\n",
        "\n",
        "def score_model(X, y, kf):\n",
        "    accuracy_scores = []\n",
        "    precision_scores = []\n",
        "    recall_scores = []\n",
        "    f1_scores = []\n",
        "    for train_index, test_index in kf.split(X):\n",
        "        X_train, X_test = X[train_index], X[test_index]\n",
        "        y_train, y_test = y[train_index], y[test_index]\n",
        "        model = LogisticRegression()\n",
        "        model.fit(X_train, y_train)\n",
        "        y_pred = model.predict(X_test)\n",
        "        accuracy_scores.append(accuracy_score(y_test, y_pred))\n",
        "        precision_scores.append(precision_score(y_test, y_pred))\n",
        "        recall_scores.append(recall_score(y_test, y_pred))\n",
        "        f1_scores.append(f1_score(y_test, y_pred))\n",
        "    print(\"accuracy:\", np.mean(accuracy_scores))\n",
        "    print(\"precision:\", np.mean(precision_scores))\n",
        "    print(\"recall:\", np.mean(recall_scores))\n",
        "    print(\"f1 score:\", np.mean(f1_scores))"
      ],
      "metadata": {
        "id": "FwMUmD-rzyUE"
      },
      "id": "FwMUmD-rzyUE",
      "execution_count": null,
      "outputs": []
    },
    {
      "cell_type": "code",
      "source": [
        "#Comparing the scores of all the three models\n",
        "print(\"Logistic Regression with all features\")\n",
        "score_model(X1, y, kf)\n",
        "print()\n",
        "print(\"Logistic Regression with Pclass, Sex & Age features\")\n",
        "score_model(X2, y, kf)\n",
        "print()\n",
        "print(\"Logistic Regression with Fare & Age features\")\n",
        "score_model(X3, y, kf)"
      ],
      "metadata": {
        "colab": {
          "base_uri": "https://localhost:8080/"
        },
        "id": "BXtDtMQn0HCv",
        "outputId": "65a7850d-a9b7-4bad-e5f8-fce981e92d60"
      },
      "id": "BXtDtMQn0HCv",
      "execution_count": null,
      "outputs": [
        {
          "output_type": "stream",
          "name": "stdout",
          "text": [
            "Logistic Regression with all features\n",
            "accuracy: 0.7970672252904208\n",
            "precision: 0.76317982522532\n",
            "recall: 0.6922212045432242\n",
            "f1 score: 0.724880466919516\n",
            "\n",
            "Logistic Regression with Pclass, Sex & Age features\n",
            "accuracy: 0.7925537992763283\n",
            "precision: 0.748947647388342\n",
            "recall: 0.6983906289788642\n",
            "f1 score: 0.7195190438056281\n",
            "\n",
            "Logistic Regression with Fare & Age features\n",
            "accuracy: 0.6516600012695994\n",
            "precision: 0.6538769414575867\n",
            "recall: 0.23575567512190504\n",
            "f1 score: 0.3390907469559155\n"
          ]
        }
      ]
    },
    {
      "cell_type": "code",
      "source": [
        "#Finally build a model with all of the data\n",
        "model = LogisticRegression()\n",
        "model.fit(X1, y)\n",
        "\n",
        "print(model.predict([[3, False, 25, 0, 1, 2]]))"
      ],
      "metadata": {
        "colab": {
          "base_uri": "https://localhost:8080/"
        },
        "id": "2G99CKC50zhN",
        "outputId": "dfffebe0-4c73-40aa-f363-1f7ad3a45dbb"
      },
      "id": "2G99CKC50zhN",
      "execution_count": null,
      "outputs": [
        {
          "output_type": "stream",
          "name": "stdout",
          "text": [
            "[1]\n"
          ]
        }
      ]
    },
    {
      "cell_type": "markdown",
      "source": [
        "# DECISION TREES"
      ],
      "metadata": {
        "id": "IHqyoe8oyJpG"
      },
      "id": "IHqyoe8oyJpG"
    },
    {
      "cell_type": "code",
      "source": [
        "#import the decision tree\n",
        "from sklearn.tree import DecisionTreeClassifier\n",
        "\n",
        "#Create an object\n",
        "model = DecisionTreeClassifier()"
      ],
      "metadata": {
        "id": "QLJSmCwdyJTi"
      },
      "id": "QLJSmCwdyJTi",
      "execution_count": null,
      "outputs": []
    },
    {
      "cell_type": "code",
      "source": [
        "#Splitting the train and test dataset\n",
        "\n",
        "X_train, X_test, y_train, y_test = train_test_split(X,y,random_state=22)"
      ],
      "metadata": {
        "id": "NYkso5zJyfce"
      },
      "id": "NYkso5zJyfce",
      "execution_count": null,
      "outputs": []
    },
    {
      "cell_type": "code",
      "source": [
        "#Fitting the model and predicting a feature\n",
        "\n",
        "model.fit(X_train,y_train)\n",
        "print(model.predict([[3,True,22,1,0,7.25]]))"
      ],
      "metadata": {
        "colab": {
          "base_uri": "https://localhost:8080/"
        },
        "id": "Ib0KmTnoyvYI",
        "outputId": "85402298-f486-4aee-f8cb-ac3f8bbdd7ae"
      },
      "id": "Ib0KmTnoyvYI",
      "execution_count": null,
      "outputs": [
        {
          "output_type": "stream",
          "name": "stdout",
          "text": [
            "[0]\n"
          ]
        }
      ]
    },
    {
      "cell_type": "markdown",
      "source": [
        "0 means the passenger didn't survive. This was the result for logistic regression as well."
      ],
      "metadata": {
        "id": "ZCq8ZzFuzA2O"
      },
      "id": "ZCq8ZzFuzA2O"
    },
    {
      "cell_type": "code",
      "source": [
        "#Hardcoded way to find information gain\n",
        "S = [int(x) for x in input().split()]\n",
        "A = [int(x) for x in input().split()]\n",
        "B = [int(x) for x in input().split()]\n",
        "\n",
        "num_S = len(S)\n",
        "num_A = len(A)\n",
        "num_B = len(B)\n",
        "\n",
        "gini_S = 2*(sum(S)/num_S)*(1-(sum(S)/num_S))\n",
        "gini_A = 2*(sum(A)/num_A)*(1-(sum(A)/num_A))\n",
        "gini_B = 2*(sum(B)/num_B)*(1-(sum(B)/num_B))\n",
        "\n",
        "Info_gain = gini_S - (num_A/num_S*gini_A) - (num_B/num_S*gini_B)\n",
        "print(round(Info_gain,5))"
      ],
      "metadata": {
        "id": "vCv2DInzCgRI",
        "colab": {
          "base_uri": "https://localhost:8080/"
        },
        "outputId": "789b4285-a52c-48db-ff33-29fd1dfdcafd"
      },
      "id": "vCv2DInzCgRI",
      "execution_count": null,
      "outputs": [
        {
          "output_type": "stream",
          "name": "stdout",
          "text": [
            "1 0 1 0 1\n",
            "1 0 0 \n",
            "1 1\n",
            "0.21333\n"
          ]
        }
      ]
    },
    {
      "cell_type": "code",
      "source": [
        "#Scoring a decision tree model vs Logistic regression model\n",
        "\n",
        "import pandas as pd\n",
        "from sklearn.tree import DecisionTreeClassifier\n",
        "from sklearn.linear_model import LogisticRegression\n",
        "from sklearn.model_selection import KFold\n",
        "from sklearn.metrics import precision_score, recall_score\n",
        "import numpy as np\n",
        "\n",
        "df = pd.read_csv('https://sololearn.com/uploads/files/titanic.csv')\n",
        "df['male'] = df['Sex'] == 'male'\n",
        "X = df[['Pclass', 'male', 'Age', 'Siblings/Spouses', 'Parents/Children', 'Fare']].values\n",
        "y = df['Survived'].values\n",
        "\n",
        "kf = KFold(n_splits=5, shuffle=True, random_state=10)\n",
        "dt_accuracy_scores = []\n",
        "dt_precision_scores = []\n",
        "dt_recall_scores = []\n",
        "lr_accuracy_scores = []\n",
        "lr_precision_scores = []\n",
        "lr_recall_scores = []\n",
        "for train_index, test_index in kf.split(X):\n",
        "    X_train, X_test = X[train_index], X[test_index]\n",
        "    y_train, y_test = y[train_index], y[test_index]\n",
        "    dt = DecisionTreeClassifier()\n",
        "    dt.fit(X_train, y_train)\n",
        "    dt_accuracy_scores.append(dt.score(X_test, y_test))\n",
        "    dt_y_pred = dt.predict(X_test)\n",
        "    dt_precision_scores.append(precision_score(y_test, dt_y_pred))\n",
        "    dt_recall_scores.append(recall_score(y_test, dt_y_pred))\n",
        "    lr = LogisticRegression()\n",
        "    lr.fit(X_train, y_train)\n",
        "    lr_accuracy_scores.append(lr.score(X_test, y_test))\n",
        "    lr_y_pred = lr.predict(X_test)\n",
        "    lr_precision_scores.append(precision_score(y_test, lr_y_pred))\n",
        "    lr_recall_scores.append(recall_score(y_test, lr_y_pred))\n",
        "print(\"Decision Tree\")\n",
        "print(\"  accuracy:\", np.mean(dt_accuracy_scores))\n",
        "print(\"  precision:\", np.mean(dt_precision_scores))\n",
        "print(\"  recall:\", np.mean(dt_recall_scores))\n",
        "print(\"Logistic Regression\")\n",
        "print(\"  accuracy:\", np.mean(lr_accuracy_scores))\n",
        "print(\"  precision:\", np.mean(lr_precision_scores))\n",
        "print(\"  recall:\", np.mean(lr_recall_scores))"
      ],
      "metadata": {
        "colab": {
          "base_uri": "https://localhost:8080/"
        },
        "id": "C7C4j8ZUzU02",
        "outputId": "f0139260-ea4d-4521-cf78-09dd2c3b35fb"
      },
      "id": "C7C4j8ZUzU02",
      "execution_count": null,
      "outputs": [
        {
          "output_type": "stream",
          "name": "stdout",
          "text": [
            "Decision Tree\n",
            "  accuracy: 0.7823843077509045\n",
            "  precision: 0.7197504938525061\n",
            "  recall: 0.7154171808583574\n",
            "Logistic Regression\n",
            "  accuracy: 0.7970354853043865\n",
            "  precision: 0.7618898922983288\n",
            "  recall: 0.6900529617441382\n"
          ]
        }
      ]
    },
    {
      "cell_type": "markdown",
      "source": [
        "We can see that logistic regression outperforms decision tree.\n",
        "\n",
        "The default impurity measure the decision tree uses in skicit learn is GINI measure. We can use the criterion parameter to use the Entropy measure like given below."
      ],
      "metadata": {
        "id": "G71gHLuaz5SD"
      },
      "id": "G71gHLuaz5SD"
    },
    {
      "cell_type": "code",
      "source": [
        "kf = KFold(n_splits=5, shuffle=True)\n",
        "for criterion in ['gini', 'entropy']:\n",
        "    print(\"Decision Tree - {}\".format(criterion))\n",
        "    accuracy = []\n",
        "    precision = []\n",
        "    recall = []\n",
        "    for train_index, test_index in kf.split(X):\n",
        "        X_train, X_test = X[train_index], X[test_index]\n",
        "        y_train, y_test = y[train_index], y[test_index]\n",
        "        dt = DecisionTreeClassifier(criterion=criterion)\n",
        "        dt.fit(X_train, y_train)\n",
        "        y_pred = dt.predict(X_test)\n",
        "        accuracy.append(accuracy_score(y_test, y_pred))\n",
        "        precision.append(precision_score(y_test, y_pred))\n",
        "        recall.append(recall_score(y_test, y_pred))\n",
        "    print(\"accuracy:\", np.mean(accuracy))\n",
        "    print(\"precision:\", np.mean(precision))\n",
        "    print(\"recall:\", np.mean(recall), '\\n')"
      ],
      "metadata": {
        "colab": {
          "base_uri": "https://localhost:8080/"
        },
        "id": "VeUvj02yz-wZ",
        "outputId": "284a4544-b867-484c-d7df-3165eb7cabe8"
      },
      "id": "VeUvj02yz-wZ",
      "execution_count": null,
      "outputs": [
        {
          "output_type": "stream",
          "name": "stdout",
          "text": [
            "Decision Tree - gini\n",
            "accuracy: 0.7688694216974545\n",
            "precision: 0.6932301015267767\n",
            "recall: 0.7155755927779599 \n",
            "\n",
            "Decision Tree - entropy\n",
            "accuracy: 0.7722909921919634\n",
            "precision: 0.7044634087701308\n",
            "recall: 0.7084288257655127 \n",
            "\n"
          ]
        }
      ]
    },
    {
      "cell_type": "code",
      "source": [
        "#Visualizing decision trees\n",
        "\n",
        "#import the required package\n",
        "from sklearn.tree import export_graphviz\n",
        "import graphviz\n",
        "from IPython.display import Image\n",
        "\n",
        "#Fitting a decision tree model\n",
        "feature_names = ['Pclass', 'male']\n",
        "X = df[feature_names].values\n",
        "y = df['Survived'].values\n",
        "\n",
        "dt = DecisionTreeClassifier()\n",
        "dt.fit(X,y)\n",
        "\n",
        "#dt is the decision tree object\n",
        "#feature_names is a list of feature names\n",
        "dot_file = export_graphviz(dt,feature_names = feature_names)\n",
        "graph = graphviz.Source(dot_file)\n",
        "graph.render(filename='tree',format='png',cleanup=True)\n",
        "display(Image(filename='tree.png'))"
      ],
      "metadata": {
        "colab": {
          "base_uri": "https://localhost:8080/",
          "height": 378
        },
        "id": "RentmH8b05rs",
        "outputId": "7982f266-7964-4d3f-b434-d3bff8609927"
      },
      "id": "RentmH8b05rs",
      "execution_count": null,
      "outputs": [
        {
          "output_type": "display_data",
          "data": {
            "text/plain": [
              "<IPython.core.display.Image object>"
            ],
            "image/png": "[encoded data removed]"
          },
          "metadata": {}
        }
      ]
    },
    {
      "cell_type": "code",
      "source": [
        "#Using matplotlib\n",
        "\n",
        "import matplotlib.pyplot as plt\n",
        "from sklearn.tree import DecisionTreeClassifier\n",
        "from sklearn import tree\n",
        "df = pd.read_csv('https://sololearn.com/uploads/files/titanic.csv')\n",
        "df['Male'] = df['Sex'] == 'male'\n",
        "feature_names = ['Pclass', 'Male']\n",
        "X = df[feature_names].values\n",
        "y = df['Survived'].values\n",
        "dt = DecisionTreeClassifier()\n",
        "dt.fit(X, y)\n",
        "fig = plt.figure(figsize=(15,10))\n",
        "tree.plot_tree(dt, feature_names=feature_names)\n",
        "plt.show()"
      ],
      "metadata": {
        "colab": {
          "base_uri": "https://localhost:8080/",
          "height": 441
        },
        "id": "oS9Bdc2P4EbI",
        "outputId": "73194d81-5ffa-4739-9d9f-fcc1c2e85840"
      },
      "id": "oS9Bdc2P4EbI",
      "execution_count": null,
      "outputs": [
        {
          "output_type": "display_data",
          "data": {
            "text/plain": [
              "<Figure size 1080x720 with 1 Axes>"
            ],
            "image/png": "[encoded data removed]"
          },
          "metadata": {
            "needs_background": "light"
          }
        }
      ]
    },
    {
      "cell_type": "code",
      "source": [
        "#Pre-pruning your decision tree\n",
        "\n",
        "dt = DecisionTreeClassifier(max_depth=3,min_samples_leaf=2,max_leaf_nodes=10)"
      ],
      "metadata": {
        "id": "FAqzjF69ABC3"
      },
      "id": "FAqzjF69ABC3",
      "execution_count": null,
      "outputs": []
    },
    {
      "cell_type": "markdown",
      "source": [
        "We use cross-validation to choose the best values for the pre-pruning parameters\n",
        "\n",
        "GridSearchCV has four parameters that we’ll use:\n",
        "1. The model (in this case a DecisionTreeClassifier)\n",
        "2. Param grid: a dictionary of the parameters names and all the possible values\n",
        "3. What metric to use (default is accuracy)\n",
        "4. How many folds for k-fold cross validation\n"
      ],
      "metadata": {
        "id": "VmhWiw80BhI1"
      },
      "id": "VmhWiw80BhI1"
    },
    {
      "cell_type": "code",
      "source": [
        "#import the necessary packages\n",
        "from sklearn.model_selection import GridSearchCV\n",
        "\n",
        "df = pd.read_csv('https://sololearn.com/uploads/files/titanic.csv')\n",
        "df['male'] = df['Sex'] == 'male'\n",
        "X = df[['Pclass', 'male', 'Age', 'Siblings/Spouses', 'Parents/Children', 'Fare']].values\n",
        "y = df['Survived'].values\n",
        "param_grid={\n",
        "    'max_depth': [5,15,25],\n",
        "    'min_samples_leaf': [1,3],\n",
        "    'max_leaf_nodes': [10,20,35,50]\n",
        "}\n",
        "dt = DecisionTreeClassifier()\n",
        "\n",
        "#initialising the GridSearch object\n",
        "gs = GridSearchCV(dt,param_grid,scoring='f1',cv=5)\n",
        "gs.fit(X,y)\n",
        "\n",
        "print(\"best params:\", gs.best_params_)\n",
        "#The score of the winning model\n",
        "print(\"best score:\", gs.best_score_)"
      ],
      "metadata": {
        "colab": {
          "base_uri": "https://localhost:8080/"
        },
        "id": "jUrqMAWkBYQ1",
        "outputId": "7d2018c9-586f-4d2d-9085-fe29d19a7356"
      },
      "id": "jUrqMAWkBYQ1",
      "execution_count": null,
      "outputs": [
        {
          "output_type": "stream",
          "name": "stdout",
          "text": [
            "best params: {'max_depth': 15, 'max_leaf_nodes': 35, 'min_samples_leaf': 1}\n",
            "best score: 0.7738842268718757\n"
          ]
        }
      ]
    },
    {
      "cell_type": "markdown",
      "source": [
        "# RANDOM FOREST\n"
      ],
      "metadata": {
        "id": "lStgV4YDzI6k"
      },
      "id": "lStgV4YDzI6k"
    },
    {
      "cell_type": "code",
      "source": [
        "#Using the breast cancer dataset\n",
        "import pandas as pd\n",
        "from sklearn.datasets import load_breast_cancer\n",
        "\n",
        "cancer_data = load_breast_cancer()\n",
        "df = pd.DataFrame(cancer_data.data,columns=cancer_data.feature_names)\n",
        "df['target']=cancer_data.target"
      ],
      "metadata": {
        "id": "4nsYXY-6zjKX"
      },
      "id": "4nsYXY-6zjKX",
      "execution_count": null,
      "outputs": []
    },
    {
      "cell_type": "code",
      "source": [
        "X = df[cancer_data.feature_names].values\n",
        "y = df['target'].values\n",
        "print('data dimensions',X.shape)"
      ],
      "metadata": {
        "colab": {
          "base_uri": "https://localhost:8080/"
        },
        "id": "0u4ULHpU2lbq",
        "outputId": "acccc0db-0673-468c-9856-f03bfa4ae786"
      },
      "id": "0u4ULHpU2lbq",
      "execution_count": null,
      "outputs": [
        {
          "output_type": "stream",
          "name": "stdout",
          "text": [
            "data dimensions (569, 30)\n"
          ]
        }
      ]
    },
    {
      "cell_type": "code",
      "source": [
        "#importing the random forest with sklearn\n",
        "\n",
        "from sklearn.ensemble import RandomForestClassifier\n",
        "from sklearn.model_selection import train_test_split\n",
        "\n",
        "X_train,X_test,y_train,y_test = train_test_split(X,y,random_state=101)"
      ],
      "metadata": {
        "id": "e9-196sg229z"
      },
      "id": "e9-196sg229z",
      "execution_count": null,
      "outputs": []
    },
    {
      "cell_type": "code",
      "source": [
        "rf = RandomForestClassifier()\n",
        "rf.fit(X_train,y_train)\n",
        "\n",
        "#View the prediction\n",
        "first_row = X_test[0]\n",
        "print(\"Prediction: \",rf.predict([first_row]))\n",
        "print(\"Actual: \",y_test[0])"
      ],
      "metadata": {
        "colab": {
          "base_uri": "https://localhost:8080/"
        },
        "id": "D3bI5NmP4lHU",
        "outputId": "97bee957-89df-4863-ff07-a967cc6af91b"
      },
      "id": "D3bI5NmP4lHU",
      "execution_count": null,
      "outputs": [
        {
          "output_type": "stream",
          "name": "stdout",
          "text": [
            "Prediction:  [1]\n",
            "Actual:  1\n"
          ]
        }
      ]
    },
    {
      "cell_type": "code",
      "source": [
        "#import the Decision tree classifier\n",
        "\n",
        "from sklearn.tree import DecisionTreeClassifier\n",
        "dt = DecisionTreeClassifier()\n",
        "dt.fit(X_train,y_train)"
      ],
      "metadata": {
        "colab": {
          "base_uri": "https://localhost:8080/"
        },
        "id": "Jso5SLqJ5aI9",
        "outputId": "a0a98ca7-6e89-45db-c873-079ad0776ef0"
      },
      "id": "Jso5SLqJ5aI9",
      "execution_count": null,
      "outputs": [
        {
          "output_type": "execute_result",
          "data": {
            "text/plain": [
              "DecisionTreeClassifier()"
            ]
          },
          "metadata": {},
          "execution_count": 9
        }
      ]
    },
    {
      "cell_type": "code",
      "source": [
        "#Comparing the accuracy of Random forest vs Decision Tree Classifier\n",
        "\n",
        "print(\"Decision Tree:\",dt.score(X_test,y_test))\n",
        "print(\"Random Forest:\",rf.score(X_test,y_test))"
      ],
      "metadata": {
        "colab": {
          "base_uri": "https://localhost:8080/"
        },
        "id": "fd5UML8H5PoB",
        "outputId": "df6c04c6-a023-4f79-f657-08bb4cce274a"
      },
      "id": "fd5UML8H5PoB",
      "execution_count": null,
      "outputs": [
        {
          "output_type": "stream",
          "name": "stdout",
          "text": [
            "Decision Tree: 0.916083916083916\n",
            "Random Forest: 0.972027972027972\n"
          ]
        }
      ]
    },
    {
      "cell_type": "markdown",
      "source": [
        "The Random Forest accuracy is much better than the Decision Tree classifier."
      ],
      "metadata": {
        "id": "E2FEF-5Y7Kzz"
      },
      "id": "E2FEF-5Y7Kzz"
    },
    {
      "cell_type": "code",
      "source": [
        "from sklearn.utils.extmath import randomized_range_finder\n",
        "#PARAMETERS\n",
        "\n",
        "#max_depth\n",
        "#min_samples_leaf\n",
        "#max_leaf_npdes\n",
        "#n_estimators - no. of trees\n",
        "#max_features - the no. of features to consider at each split\n",
        "\n",
        "rf = RandomForestClassifier(max_features=5)\n",
        "rf = RandomForestClassifier(n_estimators=15) #default is 10"
      ],
      "metadata": {
        "id": "bJM3qeA49bgq"
      },
      "id": "bJM3qeA49bgq",
      "execution_count": null,
      "outputs": []
    },
    {
      "cell_type": "code",
      "source": [
        "#Using parameter grid to help us find the optimal choice of parameters\n",
        "\n",
        "from sklearn.model_selection import GridSearchCV\n",
        "\n",
        "param_grid={\n",
        "    'n_estimators': [10,25,50,75,100]\n",
        "}\n",
        "\n",
        "rf = RandomForestClassifier(random_state=1)\n",
        "gs = GridSearchCV(rf,param_grid,scoring='f1',cv=5)\n",
        "gs.fit(X,y)\n",
        "print(\"Best parameters:\",gs.best_params_)"
      ],
      "metadata": {
        "colab": {
          "base_uri": "https://localhost:8080/"
        },
        "id": "dUJs_DMM_hDy",
        "outputId": "3e2f5136-dfca-41e8-a652-49ba3ebc544e"
      },
      "id": "dUJs_DMM_hDy",
      "execution_count": null,
      "outputs": [
        {
          "output_type": "stream",
          "name": "stdout",
          "text": [
            "Best parameters: {'n_estimators': 75}\n"
          ]
        }
      ]
    },
    {
      "cell_type": "code",
      "source": [
        "# Elbow Graph\n",
        "\n",
        "n_estimators = list(range(1, 101))\n",
        "param_grid = {\n",
        "    'n_estimators': n_estimators,\n",
        "}\n",
        "rf = RandomForestClassifier()\n",
        "gs = GridSearchCV(rf, param_grid, cv=5)\n",
        "gs.fit(X, y)"
      ],
      "metadata": {
        "colab": {
          "base_uri": "https://localhost:8080/"
        },
        "id": "yGEWJpqtAOH4",
        "outputId": "07878bc8-a2c2-482b-c49e-d0241da8d1d2"
      },
      "id": "yGEWJpqtAOH4",
      "execution_count": null,
      "outputs": [
        {
          "output_type": "execute_result",
          "data": {
            "text/plain": [
              "GridSearchCV(cv=5, estimator=RandomForestClassifier(),\n",
              "             param_grid={'n_estimators': [1, 2, 3, 4, 5, 6, 7, 8, 9, 10, 11, 12,\n",
              "                                          13, 14, 15, 16, 17, 18, 19, 20, 21,\n",
              "                                          22, 23, 24, 25, 26, 27, 28, 29, 30, ...]})"
            ]
          },
          "metadata": {},
          "execution_count": 13
        }
      ]
    },
    {
      "cell_type": "code",
      "source": [
        "scores = gs.cv_results_['mean_test_score']"
      ],
      "metadata": {
        "id": "Cwvj5etfBEUG"
      },
      "id": "Cwvj5etfBEUG",
      "execution_count": null,
      "outputs": []
    },
    {
      "cell_type": "code",
      "source": [
        "#Plot the Elbow graph\n",
        "\n",
        "import matplotlib.pyplot as plt\n",
        "\n",
        "plt.plot(n_estimators,scores)\n",
        "plt.xlabel(\"n_estimators\")\n",
        "plt.ylabel(\"accuracy\")\n",
        "plt.xlim(0,100)\n",
        "plt.ylim(0.9,1)\n",
        "plt.show()"
      ],
      "metadata": {
        "colab": {
          "base_uri": "https://localhost:8080/",
          "height": 284
        },
        "id": "Sfl1LWu9BI3k",
        "outputId": "34e6292b-f2a8-4d82-b86a-23157d8920b3"
      },
      "id": "Sfl1LWu9BI3k",
      "execution_count": null,
      "outputs": [
        {
          "output_type": "display_data",
          "data": {
            "text/plain": [
              "<Figure size 432x288 with 1 Axes>"
            ],
            "image/png": "[encoded data removed]"
          },
          "metadata": {
            "needs_background": "light"
          }
        }
      ]
    },
    {
      "cell_type": "markdown",
      "source": [
        "After 10 n_estimators, the accuracy levels out without increasing. So we build our random forest model with the optimal number of trees."
      ],
      "metadata": {
        "id": "B7cjEw8ZCSlU"
      },
      "id": "B7cjEw8ZCSlU"
    },
    {
      "cell_type": "code",
      "source": [
        "rf = RandomForestClassifier(n_estimators=10)\n",
        "rf.fit(X,y)"
      ],
      "metadata": {
        "colab": {
          "base_uri": "https://localhost:8080/"
        },
        "id": "CMI5ejigCQkV",
        "outputId": "1abd41c6-466a-4b31-c1c8-d3907a627773"
      },
      "id": "CMI5ejigCQkV",
      "execution_count": null,
      "outputs": [
        {
          "output_type": "execute_result",
          "data": {
            "text/plain": [
              "RandomForestClassifier(n_estimators=10)"
            ]
          },
          "metadata": {},
          "execution_count": 18
        }
      ]
    },
    {
      "cell_type": "code",
      "source": [
        "#Feature importances\n",
        "\n",
        "X_train, X_test, y_train, y_test = \\\n",
        "    train_test_split(X, y, random_state=101)\n",
        "rf = RandomForestClassifier(n_estimators=10, random_state=111)\n",
        "rf.fit(X_train, y_train)\n",
        "\n",
        "ft_imp = pd.Series(rf.feature_importances_, index=cancer_data.feature_names).sort_values(ascending=False)\n",
        "print(ft_imp.head(10))"
      ],
      "metadata": {
        "colab": {
          "base_uri": "https://localhost:8080/"
        },
        "id": "zKpB4nSiDNL9",
        "outputId": "67d326d8-cdcf-41f3-fb9a-0191fb389539"
      },
      "id": "zKpB4nSiDNL9",
      "execution_count": null,
      "outputs": [
        {
          "output_type": "stream",
          "name": "stdout",
          "text": [
            "worst radius            0.309701\n",
            "mean concave points     0.183126\n",
            "worst concave points    0.115641\n",
            "mean perimeter          0.064119\n",
            "mean radius             0.058742\n",
            "worst concavity         0.050951\n",
            "radius error            0.049103\n",
            "mean texture            0.017197\n",
            "worst area              0.016512\n",
            "mean concavity          0.014696\n",
            "dtype: float64\n"
          ]
        }
      ]
    },
    {
      "cell_type": "code",
      "source": [
        "worst_cols = [col for col in df.columns if 'worst' in col]\n",
        "print(worst_cols)"
      ],
      "metadata": {
        "colab": {
          "base_uri": "https://localhost:8080/"
        },
        "id": "8iXi9U0-Fv0u",
        "outputId": "49d656e0-5bf1-4354-adfc-9dcb10f01c68"
      },
      "id": "8iXi9U0-Fv0u",
      "execution_count": null,
      "outputs": [
        {
          "output_type": "stream",
          "name": "stdout",
          "text": [
            "['worst radius', 'worst texture', 'worst perimeter', 'worst area', 'worst smoothness', 'worst compactness', 'worst concavity', 'worst concave points', 'worst symmetry', 'worst fractal dimension']\n"
          ]
        }
      ]
    },
    {
      "cell_type": "code",
      "source": [
        "#Create another dataframe with the selected features\n",
        "X_worst = df[worst_cols]\n",
        "X_train, X_test, y_train, y_test = train_test_split(X_worst, y, random_state=101)"
      ],
      "metadata": {
        "id": "YW9vWl72F7hg"
      },
      "id": "YW9vWl72F7hg",
      "execution_count": null,
      "outputs": []
    },
    {
      "cell_type": "code",
      "source": [
        "rf.fit(X_train,y_train)\n",
        "rf.score(X_test,y_test)"
      ],
      "metadata": {
        "colab": {
          "base_uri": "https://localhost:8080/"
        },
        "id": "x5Rqq7SXGDfe",
        "outputId": "a1dbd9ec-2ec2-49bf-d2ab-ae00378c7ffc"
      },
      "id": "x5Rqq7SXGDfe",
      "execution_count": null,
      "outputs": [
        {
          "output_type": "execute_result",
          "data": {
            "text/plain": [
              "0.972027972027972"
            ]
          },
          "metadata": {},
          "execution_count": 22
        }
      ]
    },
    {
      "cell_type": "code",
      "source": [
        "#Random forest performs well on data which is non linear while Logistic regression doesnt\n",
        "from sklearn.datasets import make_circles\n",
        "from sklearn.model_selection import KFold\n",
        "from sklearn.linear_model import LogisticRegression\n",
        "from sklearn.ensemble import RandomForestClassifier\n",
        "import numpy as np\n",
        "\n",
        "X, y = make_circles(noise=0.2, factor=0.5, random_state=1)\n",
        "\n",
        "kf = KFold(n_splits=5, shuffle=True, random_state=1)\n",
        "lr_scores = []\n",
        "rf_scores = []\n",
        "for train_index, test_index in kf.split(X):\n",
        "    X_train, X_test = X[train_index], X[test_index]\n",
        "    y_train, y_test = y[train_index], y[test_index]\n",
        "    lr = LogisticRegression(solver='lbfgs')\n",
        "    lr.fit(X_train, y_train)\n",
        "    lr_scores.append(lr.score(X_test, y_test))\n",
        "    rf = RandomForestClassifier(n_estimators=100)\n",
        "    rf.fit(X_train, y_train)\n",
        "    rf_scores.append(rf.score(X_test, y_test))\n",
        "print(\"LR accuracy:\", np.mean(lr_scores))\n",
        "print(\"RF accuracy:\", np.mean(rf_scores))"
      ],
      "metadata": {
        "colab": {
          "base_uri": "https://localhost:8080/"
        },
        "id": "uQw5nKWCHm8e",
        "outputId": "38a94434-880a-45ad-8808-89d32117cb7f"
      },
      "id": "uQw5nKWCHm8e",
      "execution_count": null,
      "outputs": [
        {
          "output_type": "stream",
          "name": "stdout",
          "text": [
            "LR accuracy: 0.36\n",
            "RF accuracy: 0.8299999999999998\n"
          ]
        }
      ]
    },
    {
      "cell_type": "markdown",
      "source": [
        "# NEURAL NETWORKS"
      ],
      "metadata": {
        "id": "LnUw7i53UidD"
      },
      "id": "LnUw7i53UidD"
    },
    {
      "cell_type": "code",
      "source": [
        "#Creating artificial dataset\n",
        "\n",
        "from sklearn.datasets import make_classification\n",
        "X,y = make_classification(n_features=2,n_redundant=0,n_informative=2,random_state=3)\n",
        "#n_samples = no. of datapoints\n",
        "#n_features = no. of features\n",
        "#n_informative = no. of informative features\n",
        "#n_redundant = no. of redundant features\n",
        "#random_state = guarantree same result every time\n",
        "print(\"X:\\n\",X)\n",
        "print(\"y:\\n\",y)"
      ],
      "metadata": {
        "colab": {
          "base_uri": "https://localhost:8080/"
        },
        "id": "w8waiR6CUiEg",
        "outputId": "b6b50675-57f1-4036-9a57-94076dc91349"
      },
      "id": "w8waiR6CUiEg",
      "execution_count": null,
      "outputs": [
        {
          "output_type": "stream",
          "name": "stdout",
          "text": [
            "X:\n",
            " [[ 1.29619246 -1.19338286]\n",
            " [ 0.76455807 -2.44539487]\n",
            " [-0.56135339  1.44773498]\n",
            " [ 0.09018381 -0.21892726]\n",
            " [ 3.20977007 -1.03881206]\n",
            " [ 0.80001485 -1.66246266]\n",
            " [ 0.88468364 -0.41310735]\n",
            " [ 1.44727831  0.57410216]\n",
            " [ 0.17890668  1.6394023 ]\n",
            " [-0.58100008  0.33584532]\n",
            " [-0.40007267  2.04119894]\n",
            " [ 0.86736895 -2.33598454]\n",
            " [ 2.57067557 -0.2757088 ]\n",
            " [-0.50604244  0.36615269]\n",
            " [ 0.58326712  1.22009748]\n",
            " [ 2.35993321 -0.12424544]\n",
            " [-0.25023328  0.0491287 ]\n",
            " [ 1.54520785  0.55053486]\n",
            " [-0.12132899 -0.58306026]\n",
            " [ 1.93823769  0.08503077]\n",
            " [ 0.26842648 -0.03321614]\n",
            " [ 1.28259341 -0.6052909 ]\n",
            " [-1.24399007  0.44172354]\n",
            " [-0.33252253 -0.4085363 ]\n",
            " [-0.25906554  2.1460918 ]\n",
            " [-2.04183382  1.62989998]\n",
            " [ 0.75356541  0.74284632]\n",
            " [ 0.74494799 -1.69867877]\n",
            " [-2.08503765  1.69398556]\n",
            " [ 0.64755294  1.35713573]\n",
            " [ 1.36023958 -0.42680268]\n",
            " [-1.20002643  1.52879135]\n",
            " [-1.16926167 -2.94592209]\n",
            " [ 1.50713573  0.49784377]\n",
            " [-0.86717188  0.44292896]\n",
            " [-0.65100851 -0.18139162]\n",
            " [-0.61231169  1.9581328 ]\n",
            " [ 0.76943194 -1.27209495]\n",
            " [ 1.42047213  0.52835339]\n",
            " [ 1.15720441  0.62857476]\n",
            " [ 1.2110195  -0.99340173]\n",
            " [ 1.08891926  1.01427378]\n",
            " [-1.21637928 -0.67049437]\n",
            " [ 0.7540882  -0.59292029]\n",
            " [ 0.65104016 -0.87540635]\n",
            " [ 0.61228622 -0.66760619]\n",
            " [-1.15322318 -0.55930594]\n",
            " [ 0.9751491  -0.07935889]\n",
            " [-0.68752925  2.70557335]\n",
            " [ 1.45467028  0.5305809 ]\n",
            " [-1.02934082  1.61882875]\n",
            " [ 0.73121797  0.78491622]\n",
            " [-0.76836066  2.64536187]\n",
            " [ 1.36803133 -0.42683556]\n",
            " [ 1.5712194  -0.56634981]\n",
            " [-1.17635927 -0.4082274 ]\n",
            " [ 0.04109935  1.09921185]\n",
            " [ 1.02875005  1.09087416]\n",
            " [-2.66474084  2.49277994]\n",
            " [ 0.66721754 -1.10970556]\n",
            " [ 1.41977144 -1.15516349]\n",
            " [ 0.72549452 -0.50767362]\n",
            " [-0.87117928 -0.54828912]\n",
            " [ 1.4248824   0.71838145]\n",
            " [ 0.7897617   0.31888107]\n",
            " [-2.55673111  0.48095735]\n",
            " [-2.06574644  1.18794747]\n",
            " [-2.16875069 -1.45409905]\n",
            " [-1.82761265  1.00873328]\n",
            " [-0.92431911 -3.11057891]\n",
            " [ 0.64138689 -0.83568997]\n",
            " [ 0.60949189  1.31324877]\n",
            " [ 0.87593712 -0.74419114]\n",
            " [-0.71866586 -1.81113273]\n",
            " [-3.10109522  1.89328788]\n",
            " [-1.86364246  0.58521398]\n",
            " [-2.37591355 -1.96095268]\n",
            " [ 1.7770297   0.32045557]\n",
            " [-2.42774861 -0.53244395]\n",
            " [ 2.80187717 -0.52159417]\n",
            " [ 0.94455323 -0.82339639]\n",
            " [-1.36513923  0.70919674]\n",
            " [ 1.0867211  -0.7351246 ]\n",
            " [ 1.36152909  0.5689553 ]\n",
            " [ 0.92367965 -0.61803853]\n",
            " [-0.21235292 -0.34674362]\n",
            " [-1.39689542  3.18322911]\n",
            " [ 0.51446525 -0.26083015]\n",
            " [ 1.74504674  0.24178588]\n",
            " [ 1.1187257   0.37451255]\n",
            " [ 0.68360034  1.05726979]\n",
            " [-0.02464677  0.17999889]\n",
            " [-1.09661596  0.63259348]\n",
            " [-2.59347523 -2.28949135]\n",
            " [-0.278784    0.14422342]\n",
            " [ 0.56662388 -1.17736331]\n",
            " [-1.68605938 -1.1761977 ]\n",
            " [-0.17340918  1.97480402]\n",
            " [ 1.50088126 -1.69179892]\n",
            " [ 0.85639208  1.09821007]]\n",
            "y:\n",
            " [0 0 1 0 1 0 1 1 1 1 1 0 1 0 1 1 1 1 0 1 1 0 1 0 1 1 1 0 1 1 0 0 0 1 1 0 1\n",
            " 0 1 1 0 1 0 0 0 0 0 0 1 1 1 1 1 0 0 0 1 1 1 0 0 0 0 1 0 1 1 0 1 0 0 1 0 1\n",
            " 1 0 0 1 0 1 0 0 0 1 0 1 1 0 1 0 1 0 0 0 0 0 0 1 0 1]\n"
          ]
        }
      ]
    },
    {
      "cell_type": "code",
      "source": [
        "#Visualise the points\n",
        "\n",
        "from matplotlib import pyplot as plt\n",
        "plt.scatter(X[y==0][:,0],X[y==0][:,1],s=100,edgecolors='k')\n",
        "plt.scatter(X[y==1][:,0], X[y==1][:,1],s=100,edgecolors='k',marker='^')\n",
        "plt.show()"
      ],
      "metadata": {
        "colab": {
          "base_uri": "https://localhost:8080/",
          "height": 265
        },
        "id": "AvPTrX-JVqvs",
        "outputId": "b158f109-a65a-44e6-cb9b-3f0724468a86"
      },
      "id": "AvPTrX-JVqvs",
      "execution_count": null,
      "outputs": [
        {
          "output_type": "display_data",
          "data": {
            "text/plain": [
              "<Figure size 432x288 with 1 Axes>"
            ],
            "image/png": "[encoded data removed]"
          },
          "metadata": {
            "needs_background": "light"
          }
        }
      ]
    },
    {
      "cell_type": "code",
      "source": [
        "#Multi layer perceptron\n",
        "\n",
        "from sklearn.neural_network import MLPClassifier\n",
        "from sklearn.model_selection import train_test_split\n",
        "X_train,X_test,y_train,y_test = train_test_split(X,y,random_state=3)\n",
        "mlp = MLPClassifier()\n",
        "mlp.fit(X_train,y_train)"
      ],
      "metadata": {
        "colab": {
          "base_uri": "https://localhost:8080/"
        },
        "id": "k4Gik5CDWUnD",
        "outputId": "df915514-2bd0-4778-e4fb-d97dd53176a4"
      },
      "id": "k4Gik5CDWUnD",
      "execution_count": null,
      "outputs": [
        {
          "output_type": "stream",
          "name": "stderr",
          "text": [
            "/usr/local/lib/python3.7/dist-packages/sklearn/neural_network/_multilayer_perceptron.py:696: ConvergenceWarning: Stochastic Optimizer: Maximum iterations (200) reached and the optimization hasn't converged yet.\n",
            "  ConvergenceWarning,\n"
          ]
        },
        {
          "output_type": "execute_result",
          "data": {
            "text/plain": [
              "MLPClassifier()"
            ]
          },
          "metadata": {},
          "execution_count": 4
        }
      ]
    },
    {
      "cell_type": "code",
      "source": [
        "#To remove the convergence warning add max_iter parameter\n",
        "\n",
        "mlp = MLPClassifier(max_iter=1000)\n",
        "mlp.fit(X_train,y_train)\n",
        "print(\"Accuracy: \",mlp.score(X_test,y_test))"
      ],
      "metadata": {
        "colab": {
          "base_uri": "https://localhost:8080/"
        },
        "id": "6V1i1ze5XF2n",
        "outputId": "2f630b74-ea9e-4d39-d9df-f7ab9472528b"
      },
      "id": "6V1i1ze5XF2n",
      "execution_count": null,
      "outputs": [
        {
          "output_type": "stream",
          "name": "stdout",
          "text": [
            "Accuracy:  0.68\n"
          ]
        }
      ]
    },
    {
      "cell_type": "markdown",
      "source": [
        "Parameters of the MLPCLassifier function\n",
        "\n",
        "1. hidden_layer_size = no. of nodes in the hidden layer\n",
        "2. max_iter = no. of iterations to convergence\n",
        "3. alpha = how much the neural network changes the coefficients at each iteration\n",
        "Note: Decreasing alpha needs increasing max_iter\n",
        "4. solver = algorithm to find optimal solution; lbfgs/sgd/adam"
      ],
      "metadata": {
        "id": "s0wy0ChBY6qi"
      },
      "id": "s0wy0ChBY6qi"
    },
    {
      "cell_type": "code",
      "source": [
        "mlp = MLPClassifier(max_iter=1000,hidden_layer_sizes=(100,50),alpha=0.0001,solver='sgd',random_state=3)\n",
        "mlp.fit(X_train,y_train)\n",
        "print(\"Accuracy: \",mlp.score(X_test,y_test))"
      ],
      "metadata": {
        "colab": {
          "base_uri": "https://localhost:8080/"
        },
        "id": "PPa101xhXteE",
        "outputId": "d89c95bd-ab1f-4629-e6e4-87c2e8947ab2"
      },
      "id": "PPa101xhXteE",
      "execution_count": null,
      "outputs": [
        {
          "output_type": "stream",
          "name": "stdout",
          "text": [
            "Accuracy:  0.72\n"
          ]
        }
      ]
    },
    {
      "cell_type": "markdown",
      "source": [
        "# PREDICTING HANDWRITTEN DIGITS\n"
      ],
      "metadata": {
        "id": "iq6aEaBgafyC"
      },
      "id": "iq6aEaBgafyC"
    },
    {
      "cell_type": "code",
      "source": [
        "from sklearn.datasets import load_digits\n",
        "X,y = load_digits(n_class=2,return_X_y=True)\n",
        "print(X.shape,y.shape)\n",
        "print(X[0])\n",
        "print(y[0])\n",
        "print(X[0].reshape(8,8))"
      ],
      "metadata": {
        "colab": {
          "base_uri": "https://localhost:8080/"
        },
        "id": "BK__seRLZgOw",
        "outputId": "b145a26e-42fa-4cfe-f20e-a70f6c706ac7"
      },
      "id": "BK__seRLZgOw",
      "execution_count": null,
      "outputs": [
        {
          "output_type": "stream",
          "name": "stdout",
          "text": [
            "(360, 64) (360,)\n",
            "[ 0.  0.  5. 13.  9.  1.  0.  0.  0.  0. 13. 15. 10. 15.  5.  0.  0.  3.\n",
            " 15.  2.  0. 11.  8.  0.  0.  4. 12.  0.  0.  8.  8.  0.  0.  5.  8.  0.\n",
            "  0.  9.  8.  0.  0.  4. 11.  0.  1. 12.  7.  0.  0.  2. 14.  5. 10. 12.\n",
            "  0.  0.  0.  0.  6. 13. 10.  0.  0.  0.]\n",
            "0\n",
            "[[ 0.  0.  5. 13.  9.  1.  0.  0.]\n",
            " [ 0.  0. 13. 15. 10. 15.  5.  0.]\n",
            " [ 0.  3. 15.  2.  0. 11.  8.  0.]\n",
            " [ 0.  4. 12.  0.  0.  8.  8.  0.]\n",
            " [ 0.  5.  8.  0.  0.  9.  8.  0.]\n",
            " [ 0.  4. 11.  0.  1. 12.  7.  0.]\n",
            " [ 0.  2. 14.  5. 10. 12.  0.  0.]\n",
            " [ 0.  0.  6. 13. 10.  0.  0.  0.]]\n"
          ]
        }
      ]
    },
    {
      "cell_type": "code",
      "source": [
        "#Visualising the digits\n",
        "\n",
        "import matplotlib.pyplot as plt\n",
        "\n",
        "plt.matshow(X[0].reshape(8,8),cmap=plt.cm.gray)\n",
        "plt.xticks(())\n",
        "plt.yticks(())\n",
        "plt.show()"
      ],
      "metadata": {
        "colab": {
          "base_uri": "https://localhost:8080/",
          "height": 261
        },
        "id": "kuJFBafEa63I",
        "outputId": "6f368215-66b7-4733-9636-3054659dc73f"
      },
      "id": "kuJFBafEa63I",
      "execution_count": null,
      "outputs": [
        {
          "output_type": "display_data",
          "data": {
            "text/plain": [
              "<Figure size 288x288 with 1 Axes>"
            ],
            "image/png": "[encoded data removed]"
          },
          "metadata": {}
        }
      ]
    },
    {
      "cell_type": "code",
      "source": [
        "X_train,X_test,y_train,y_test = train_test_split(X,y,random_state=2)\n",
        "mlp = MLPClassifier()\n",
        "mlp.fit(X_train,y_train)"
      ],
      "metadata": {
        "colab": {
          "base_uri": "https://localhost:8080/"
        },
        "id": "vCjweYqwbw9P",
        "outputId": "23ec59fe-efe1-4889-92fa-68fe9a19d372"
      },
      "id": "vCjweYqwbw9P",
      "execution_count": null,
      "outputs": [
        {
          "output_type": "execute_result",
          "data": {
            "text/plain": [
              "MLPClassifier()"
            ]
          },
          "metadata": {},
          "execution_count": 11
        }
      ]
    },
    {
      "cell_type": "code",
      "source": [
        "x = X_test[0]\n",
        "plt.matshow(x.reshape(8, 8), cmap=plt.cm.gray)\n",
        "plt.xticks(())\n",
        "plt.yticks(())\n",
        "plt.show()\n",
        "print(mlp.predict([x]))"
      ],
      "metadata": {
        "colab": {
          "base_uri": "https://localhost:8080/",
          "height": 278
        },
        "id": "Gh9OpX0CcH7R",
        "outputId": "04fd1fcf-7607-4bfb-9119-c129f1597ed9"
      },
      "id": "Gh9OpX0CcH7R",
      "execution_count": null,
      "outputs": [
        {
          "output_type": "display_data",
          "data": {
            "text/plain": [
              "<Figure size 288x288 with 1 Axes>"
            ],
            "image/png": "[encoded data removed]"
          },
          "metadata": {}
        },
        {
          "output_type": "stream",
          "name": "stdout",
          "text": [
            "[0]\n"
          ]
        }
      ]
    },
    {
      "cell_type": "code",
      "source": [
        "x = X_test[1]\n",
        "plt.matshow(x.reshape(8, 8), cmap=plt.cm.gray)\n",
        "plt.xticks(())\n",
        "plt.yticks(())\n",
        "plt.show()\n",
        "print(mlp.predict([x]))"
      ],
      "metadata": {
        "colab": {
          "base_uri": "https://localhost:8080/",
          "height": 278
        },
        "id": "xHyd_eaTcc3L",
        "outputId": "fbc0537f-bd69-433e-c999-bce8ed1b7a53"
      },
      "id": "xHyd_eaTcc3L",
      "execution_count": null,
      "outputs": [
        {
          "output_type": "display_data",
          "data": {
            "text/plain": [
              "<Figure size 288x288 with 1 Axes>"
            ],
            "image/png": "[encoded data removed]"
          },
          "metadata": {}
        },
        {
          "output_type": "stream",
          "name": "stdout",
          "text": [
            "[1]\n"
          ]
        }
      ]
    },
    {
      "cell_type": "code",
      "source": [
        "#Viewing the accuracy of the model\n",
        "print(\"Accuracy:\",mlp.score(X_test,y_test))"
      ],
      "metadata": {
        "colab": {
          "base_uri": "https://localhost:8080/"
        },
        "id": "vNU8dbqkchVi",
        "outputId": "18c24da7-09e9-49bd-a260-7822e6816fbd"
      },
      "id": "vNU8dbqkchVi",
      "execution_count": null,
      "outputs": [
        {
          "output_type": "stream",
          "name": "stdout",
          "text": [
            "Accuracy: 1.0\n"
          ]
        }
      ]
    },
    {
      "cell_type": "code",
      "source": [
        "#Training the neural network to work on all digits\n",
        "\n",
        "X,y = load_digits(return_X_y=True)\n",
        "X_train,X_test,y_train,y_test = train_test_split(X,y,random_state=2)\n",
        "mlp=MLPClassifier(random_state=2)\n",
        "mlp.fit(X_train,y_train)\n",
        "print(mlp.score(X_test,y_test))"
      ],
      "metadata": {
        "colab": {
          "base_uri": "https://localhost:8080/"
        },
        "id": "0Wk-gtI8c_lS",
        "outputId": "883d90e5-736a-4252-c65d-0abae687dca2"
      },
      "id": "0Wk-gtI8c_lS",
      "execution_count": null,
      "outputs": [
        {
          "output_type": "stream",
          "name": "stdout",
          "text": [
            "0.96\n"
          ]
        }
      ]
    },
    {
      "cell_type": "code",
      "source": [
        "#Checking what went wrong\n",
        "\n",
        "y_pred = mlp.predict(X_test)\n",
        "incorrect = X_test[y_pred != y_test]\n",
        "incorrect_true = y_test[y_pred != y_test]\n",
        "incorrect_pred = y_pred[y_pred != y_test]\n",
        "\n",
        "print(incorrect.shape)\n",
        "for j in range(0,18):\n",
        "  plt.matshow(incorrect[j].reshape(8, 8), cmap=plt.cm.gray)\n",
        "  plt.xticks(())\n",
        "  plt.yticks(())\n",
        "  plt.show()\n",
        "  print(\"true value:\", incorrect_true[j])\n",
        "  print(\"predicted value:\", incorrect_pred[j])"
      ],
      "metadata": {
        "colab": {
          "base_uri": "https://localhost:8080/",
          "height": 1000
        },
        "id": "mhFNW3e_dgGz",
        "outputId": "fc5c155f-085b-41d7-d08a-05e920ca8543"
      },
      "id": "mhFNW3e_dgGz",
      "execution_count": null,
      "outputs": [
        {
          "output_type": "stream",
          "name": "stdout",
          "text": [
            "(18, 64)\n"
          ]
        },
        {
          "output_type": "display_data",
          "data": {
            "text/plain": [
              "<Figure size 288x288 with 1 Axes>"
            ],
            "image/png": "[encoded data removed]"
          },
          "metadata": {}
        },
        {
          "output_type": "stream",
          "name": "stdout",
          "text": [
            "true value: 4\n",
            "predicted value: 9\n"
          ]
        },
        {
          "output_type": "display_data",
          "data": {
            "text/plain": [
              "<Figure size 288x288 with 1 Axes>"
            ],
            "image/png": "[encoded data removed]"
          },
          "metadata": {}
        },
        {
          "output_type": "stream",
          "name": "stdout",
          "text": [
            "true value: 4\n",
            "predicted value: 8\n"
          ]
        },
        {
          "output_type": "display_data",
          "data": {
            "text/plain": [
              "<Figure size 288x288 with 1 Axes>"
            ],
            "image/png": "[encoded data removed]"
          },
          "metadata": {}
        },
        {
          "output_type": "stream",
          "name": "stdout",
          "text": [
            "true value: 6\n",
            "predicted value: 8\n"
          ]
        },
        {
          "output_type": "display_data",
          "data": {
            "text/plain": [
              "<Figure size 288x288 with 1 Axes>"
            ],
            "image/png": "[encoded data removed]"
          },
          "metadata": {}
        },
        {
          "output_type": "stream",
          "name": "stdout",
          "text": [
            "true value: 3\n",
            "predicted value: 7\n"
          ]
        },
        {
          "output_type": "display_data",
          "data": {
            "text/plain": [
              "<Figure size 288x288 with 1 Axes>"
            ],
            "image/png": "[encoded data removed]"
          },
          "metadata": {}
        },
        {
          "output_type": "stream",
          "name": "stdout",
          "text": [
            "true value: 4\n",
            "predicted value: 1\n"
          ]
        },
        {
          "output_type": "display_data",
          "data": {
            "text/plain": [
              "<Figure size 288x288 with 1 Axes>"
            ],
            "image/png": "[encoded data removed]"
          },
          "metadata": {}
        },
        {
          "output_type": "stream",
          "name": "stdout",
          "text": [
            "true value: 7\n",
            "predicted value: 8\n"
          ]
        },
        {
          "output_type": "display_data",
          "data": {
            "text/plain": [
              "<Figure size 288x288 with 1 Axes>"
            ],
            "image/png": "[encoded data removed]"
          },
          "metadata": {}
        },
        {
          "output_type": "stream",
          "name": "stdout",
          "text": [
            "true value: 6\n",
            "predicted value: 1\n"
          ]
        },
        {
          "output_type": "display_data",
          "data": {
            "text/plain": [
              "<Figure size 288x288 with 1 Axes>"
            ],
            "image/png": "[encoded data removed]"
          },
          "metadata": {}
        },
        {
          "output_type": "stream",
          "name": "stdout",
          "text": [
            "true value: 8\n",
            "predicted value: 1\n"
          ]
        },
        {
          "output_type": "display_data",
          "data": {
            "text/plain": [
              "<Figure size 288x288 with 1 Axes>"
            ],
            "image/png": "[encoded data removed]"
          },
          "metadata": {}
        },
        {
          "output_type": "stream",
          "name": "stdout",
          "text": [
            "true value: 9\n",
            "predicted value: 5\n"
          ]
        },
        {
          "output_type": "display_data",
          "data": {
            "text/plain": [
              "<Figure size 288x288 with 1 Axes>"
            ],
            "image/png": "[encoded data removed]"
          },
          "metadata": {}
        },
        {
          "output_type": "stream",
          "name": "stdout",
          "text": [
            "true value: 9\n",
            "predicted value: 8\n"
          ]
        },
        {
          "output_type": "display_data",
          "data": {
            "text/plain": [
              "<Figure size 288x288 with 1 Axes>"
            ],
            "image/png": "[encoded data removed]"
          },
          "metadata": {}
        },
        {
          "output_type": "stream",
          "name": "stdout",
          "text": [
            "true value: 4\n",
            "predicted value: 9\n"
          ]
        },
        {
          "output_type": "display_data",
          "data": {
            "text/plain": [
              "<Figure size 288x288 with 1 Axes>"
            ],
            "image/png": "[encoded data removed]"
          },
          "metadata": {}
        },
        {
          "output_type": "stream",
          "name": "stdout",
          "text": [
            "true value: 3\n",
            "predicted value: 5\n"
          ]
        },
        {
          "output_type": "display_data",
          "data": {
            "text/plain": [
              "<Figure size 288x288 with 1 Axes>"
            ],
            "image/png": "[encoded data removed]"
          },
          "metadata": {}
        },
        {
          "output_type": "stream",
          "name": "stdout",
          "text": [
            "true value: 5\n",
            "predicted value: 4\n"
          ]
        },
        {
          "output_type": "display_data",
          "data": {
            "text/plain": [
              "<Figure size 288x288 with 1 Axes>"
            ],
            "image/png": "[encoded data removed]"
          },
          "metadata": {}
        },
        {
          "output_type": "stream",
          "name": "stdout",
          "text": [
            "true value: 8\n",
            "predicted value: 3\n"
          ]
        },
        {
          "output_type": "display_data",
          "data": {
            "text/plain": [
              "<Figure size 288x288 with 1 Axes>"
            ],
            "image/png": "[encoded data removed]"
          },
          "metadata": {}
        },
        {
          "output_type": "stream",
          "name": "stdout",
          "text": [
            "true value: 2\n",
            "predicted value: 7\n"
          ]
        },
        {
          "output_type": "display_data",
          "data": {
            "text/plain": [
              "<Figure size 288x288 with 1 Axes>"
            ],
            "image/png": "[encoded data removed]"
          },
          "metadata": {}
        },
        {
          "output_type": "stream",
          "name": "stdout",
          "text": [
            "true value: 9\n",
            "predicted value: 3\n"
          ]
        },
        {
          "output_type": "display_data",
          "data": {
            "text/plain": [
              "<Figure size 288x288 with 1 Axes>"
            ],
            "image/png": "[encoded data removed]"
          },
          "metadata": {}
        },
        {
          "output_type": "stream",
          "name": "stdout",
          "text": [
            "true value: 9\n",
            "predicted value: 8\n"
          ]
        },
        {
          "output_type": "display_data",
          "data": {
            "text/plain": [
              "<Figure size 288x288 with 1 Axes>"
            ],
            "image/png": "[encoded data removed]"
          },
          "metadata": {}
        },
        {
          "output_type": "stream",
          "name": "stdout",
          "text": [
            "true value: 3\n",
            "predicted value: 5\n"
          ]
        }
      ]
    },
    {
      "cell_type": "code",
      "source": [
        "from sklearn.datasets import fetch_openml\n",
        "X,y = fetch_openml('mnist_784',version=1,return_X_y=True)"
      ],
      "metadata": {
        "id": "8s80DNB-eGj-"
      },
      "id": "8s80DNB-eGj-",
      "execution_count": null,
      "outputs": []
    },
    {
      "cell_type": "code",
      "source": [
        "import numpy as np\n",
        "print(X.shape,y.shape)\n",
        "print(np.min(X),np.max(X))\n",
        "print(y[0:10])"
      ],
      "metadata": {
        "colab": {
          "base_uri": "https://localhost:8080/"
        },
        "id": "syLcQE6yeotp",
        "outputId": "5d2615d3-0194-4c83-bd55-f4b86cc5cb63"
      },
      "id": "syLcQE6yeotp",
      "execution_count": null,
      "outputs": [
        {
          "output_type": "stream",
          "name": "stdout",
          "text": [
            "(70000, 784) (70000,)\n",
            "pixel1      0.0\n",
            "pixel2      0.0\n",
            "pixel3      0.0\n",
            "pixel4      0.0\n",
            "pixel5      0.0\n",
            "           ... \n",
            "pixel780    0.0\n",
            "pixel781    0.0\n",
            "pixel782    0.0\n",
            "pixel783    0.0\n",
            "pixel784    0.0\n",
            "Length: 784, dtype: float64 pixel1       0.0\n",
            "pixel2       0.0\n",
            "pixel3       0.0\n",
            "pixel4       0.0\n",
            "pixel5       0.0\n",
            "            ... \n",
            "pixel780    62.0\n",
            "pixel781     0.0\n",
            "pixel782     0.0\n",
            "pixel783     0.0\n",
            "pixel784     0.0\n",
            "Length: 784, dtype: float64\n",
            "0    5\n",
            "1    0\n",
            "2    4\n",
            "3    1\n",
            "4    9\n",
            "5    2\n",
            "6    1\n",
            "7    3\n",
            "8    1\n",
            "9    4\n",
            "Name: class, dtype: category\n",
            "Categories (10, object): ['0', '1', '2', '3', ..., '6', '7', '8', '9']\n"
          ]
        }
      ]
    },
    {
      "cell_type": "code",
      "source": [
        "#Selecting only the numbers 0 to 3\n",
        "mlp=MLPClassifier(\n",
        "  hidden_layer_sizes=(6,),\n",
        "  max_iter=200, alpha=1e-4,\n",
        "  solver='sgd', random_state=2)\n",
        "mlp.fit(X, y)"
      ],
      "metadata": {
        "colab": {
          "base_uri": "https://localhost:8080/"
        },
        "id": "WuepjpLRe0dj",
        "outputId": "a88e738b-0c25-4418-d682-926064ac4493"
      },
      "id": "WuepjpLRe0dj",
      "execution_count": null,
      "outputs": [
        {
          "output_type": "execute_result",
          "data": {
            "text/plain": [
              "MLPClassifier(hidden_layer_sizes=(6,), random_state=2, solver='sgd')"
            ]
          },
          "metadata": {},
          "execution_count": 27
        }
      ]
    },
    {
      "cell_type": "code",
      "source": [
        "#MLP Classifier Coefficients\n",
        "\n",
        "print(mlp.coefs_)\n",
        "print(len(mlp.coefs_))\n",
        "print(mlp.coefs_[0].shape)"
      ],
      "metadata": {
        "colab": {
          "base_uri": "https://localhost:8080/"
        },
        "id": "tSBNkwCefOuY",
        "outputId": "10300c4e-aa7c-472e-f048-7eecf2658547"
      },
      "id": "tSBNkwCefOuY",
      "execution_count": null,
      "outputs": [
        {
          "output_type": "stream",
          "name": "stdout",
          "text": [
            "[array([[-0.01115556, -0.08262716,  0.00865576, -0.01127277, -0.01387924,\n",
            "        -0.02957125],\n",
            "       [-0.05147731,  0.02078795, -0.03491854, -0.04064009,  0.02111263,\n",
            "         0.00507923],\n",
            "       [-0.06368971,  0.00236655, -0.05499954,  0.04973157,  0.06169498,\n",
            "        -0.00100447],\n",
            "       ...,\n",
            "       [ 0.03318767,  0.03072576,  0.04947705, -0.07695913, -0.02204118,\n",
            "        -0.0029547 ],\n",
            "       [ 0.03754485,  0.02460143,  0.03225053,  0.04285274, -0.07510535,\n",
            "        -0.05427325],\n",
            "       [-0.06503662, -0.07023565, -0.02863197, -0.01949462,  0.07608851,\n",
            "        -0.0570695 ]]), array([[-0.38731785,  0.20377325, -0.48778341, -0.00673285, -0.41348   ,\n",
            "        -0.28470059,  0.45044813,  0.48848623,  0.28780656, -0.11266403],\n",
            "       [-0.20924461, -0.20030055,  0.10316523, -0.35674758, -0.29215165,\n",
            "        -0.42082646,  0.07365005, -0.47306119, -0.17220241, -0.20582724],\n",
            "       [-0.08915046,  0.00303789,  0.11781092, -0.39061898, -0.05978099,\n",
            "        -0.44114375,  0.27039583,  0.22038501,  0.24790753, -0.03164999],\n",
            "       [ 0.26623589, -0.57384736, -0.45315437, -0.13937406,  0.4278539 ,\n",
            "         0.37481957, -0.4316916 , -0.39287163,  0.25014059, -0.38332847],\n",
            "       [-0.46878159,  0.5522512 , -0.60319101,  0.24489804,  0.28209833,\n",
            "         0.58489385,  0.3540769 , -0.32265894,  0.45252806, -0.42821528],\n",
            "       [ 0.08316116,  0.29677976, -0.44986131,  0.21187577, -0.50682619,\n",
            "         0.07104689, -0.55187564, -0.12656998, -0.34565472,  0.06064578]])]\n",
            "2\n",
            "(784, 6)\n"
          ]
        }
      ]
    },
    {
      "cell_type": "code",
      "source": [
        "#Visualizing the hidden layers\n",
        "fig, axes = plt.subplots(2, 3, figsize=(5, 4))\n",
        "for i, ax in enumerate(axes.ravel()):\n",
        "    coef = mlp.coefs_[0][:, i]\n",
        "    ax.matshow(coef.reshape(28, 28), cmap=plt.cm.gray)\n",
        "    ax.set_xticks(())\n",
        "    ax.set_yticks(())\n",
        "    ax.set_title(i + 1)\n",
        "plt.show()"
      ],
      "metadata": {
        "colab": {
          "base_uri": "https://localhost:8080/",
          "height": 255
        },
        "id": "SrixobcJgDL-",
        "outputId": "f4adfbd8-15ab-4c64-959d-78a38183c9c6"
      },
      "id": "SrixobcJgDL-",
      "execution_count": null,
      "outputs": [
        {
          "output_type": "display_data",
          "data": {
            "text/plain": [
              "<Figure size 360x288 with 6 Axes>"
            ],
            "image/png": "[encoded data removed]"
          },
          "metadata": {}
        }
      ]
    }
  ],
  "metadata": {
    "kernelspec": {
      "display_name": "Python 3",
      "language": "python",
      "name": "python3"
    },
    "language_info": {
      "codemirror_mode": {
        "name": "ipython",
        "version": 3
      },
      "file_extension": ".py",
      "mimetype": "text/x-python",
      "name": "python",
      "nbconvert_exporter": "python",
      "pygments_lexer": "ipython3",
      "version": "3.8.8"
    },
    "colab": {
      "provenance": []
    }
  },
  "nbformat": 4,
  "nbformat_minor": 5
}