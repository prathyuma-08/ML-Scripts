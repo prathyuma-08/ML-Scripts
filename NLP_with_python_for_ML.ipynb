{
  "nbformat": 4,
  "nbformat_minor": 0,
  "metadata": {
    "colab": {
      "provenance": [],
      "authorship_tag": "ABX9TyMakgxJTJnxJUcbysYK+fD9"
    },
    "kernelspec": {
      "name": "python3",
      "display_name": "Python 3"
    },
    "language_info": {
      "name": "python"
    }
  },
  "cells": [
    {
      "cell_type": "markdown",
      "source": [
        "# NOTES\n",
        "\n",
        "NLTK package\n",
        "\n",
        "* Topic modeling\n",
        "* Sentiment analysis\n",
        "* Text classification\n",
        "* POS tagging\n",
        "\n",
        "Structured(perfect row and column) vs Unstructured (Binary, no delimiters, no indication of rows)\n",
        "\n",
        "Regular Expressions\n",
        "* Describe a search pattern - 'nlp',\n",
        "'[j-q]+', '[0-9]+' , '[j-q0-9]'\n",
        "* Identify whitepace, delimiters, confirm passwords, Search URL, search filenames, document scraping\n",
        "\n",
        "\n",
        "\n",
        "\n"
      ],
      "metadata": {
        "id": "pu33ji5LnGCg"
      }
    },
    {
      "cell_type": "code",
      "source": [
        "import nltk"
      ],
      "metadata": {
        "id": "oGbxHO9YndGk"
      },
      "execution_count": null,
      "outputs": []
    },
    {
      "cell_type": "code",
      "source": [
        "dir(nltk)"
      ],
      "metadata": {
        "colab": {
          "base_uri": "https://localhost:8080/"
        },
        "id": "qA2ZO7zxnt_t",
        "outputId": "90f3650f-609b-492b-ea04-0ff426cf0f8f"
      },
      "execution_count": null,
      "outputs": [
        {
          "output_type": "execute_result",
          "data": {
            "text/plain": [
              "['ARLSTem',\n",
              " 'ARLSTem2',\n",
              " 'AbstractLazySequence',\n",
              " 'AffixTagger',\n",
              " 'AlignedSent',\n",
              " 'Alignment',\n",
              " 'AnnotationTask',\n",
              " 'ApplicationExpression',\n",
              " 'Assignment',\n",
              " 'BigramAssocMeasures',\n",
              " 'BigramCollocationFinder',\n",
              " 'BigramTagger',\n",
              " 'BinaryMaxentFeatureEncoding',\n",
              " 'BlanklineTokenizer',\n",
              " 'BllipParser',\n",
              " 'BottomUpChartParser',\n",
              " 'BottomUpLeftCornerChartParser',\n",
              " 'BottomUpProbabilisticChartParser',\n",
              " 'Boxer',\n",
              " 'BrillTagger',\n",
              " 'BrillTaggerTrainer',\n",
              " 'CFG',\n",
              " 'CRFTagger',\n",
              " 'CfgReadingCommand',\n",
              " 'ChartParser',\n",
              " 'ChunkParserI',\n",
              " 'ChunkScore',\n",
              " 'Cistem',\n",
              " 'ClassifierBasedPOSTagger',\n",
              " 'ClassifierBasedTagger',\n",
              " 'ClassifierI',\n",
              " 'ConcordanceIndex',\n",
              " 'ConditionalExponentialClassifier',\n",
              " 'ConditionalFreqDist',\n",
              " 'ConditionalProbDist',\n",
              " 'ConditionalProbDistI',\n",
              " 'ConfusionMatrix',\n",
              " 'ContextIndex',\n",
              " 'ContextTagger',\n",
              " 'ContingencyMeasures',\n",
              " 'CoreNLPDependencyParser',\n",
              " 'CoreNLPParser',\n",
              " 'Counter',\n",
              " 'CrossValidationProbDist',\n",
              " 'DRS',\n",
              " 'DecisionTreeClassifier',\n",
              " 'DefaultTagger',\n",
              " 'DependencyEvaluator',\n",
              " 'DependencyGrammar',\n",
              " 'DependencyGraph',\n",
              " 'DependencyProduction',\n",
              " 'DictionaryConditionalProbDist',\n",
              " 'DictionaryProbDist',\n",
              " 'DiscourseTester',\n",
              " 'DrtExpression',\n",
              " 'DrtGlueReadingCommand',\n",
              " 'ELEProbDist',\n",
              " 'EarleyChartParser',\n",
              " 'Expression',\n",
              " 'FStructure',\n",
              " 'FeatDict',\n",
              " 'FeatList',\n",
              " 'FeatStruct',\n",
              " 'FeatStructReader',\n",
              " 'Feature',\n",
              " 'FeatureBottomUpChartParser',\n",
              " 'FeatureBottomUpLeftCornerChartParser',\n",
              " 'FeatureChartParser',\n",
              " 'FeatureEarleyChartParser',\n",
              " 'FeatureIncrementalBottomUpChartParser',\n",
              " 'FeatureIncrementalBottomUpLeftCornerChartParser',\n",
              " 'FeatureIncrementalChartParser',\n",
              " 'FeatureIncrementalTopDownChartParser',\n",
              " 'FeatureTopDownChartParser',\n",
              " 'FreqDist',\n",
              " 'HTTPPasswordMgrWithDefaultRealm',\n",
              " 'HeldoutProbDist',\n",
              " 'HiddenMarkovModelTagger',\n",
              " 'HiddenMarkovModelTrainer',\n",
              " 'HunposTagger',\n",
              " 'IBMModel',\n",
              " 'IBMModel1',\n",
              " 'IBMModel2',\n",
              " 'IBMModel3',\n",
              " 'IBMModel4',\n",
              " 'IBMModel5',\n",
              " 'ISRIStemmer',\n",
              " 'ImmutableMultiParentedTree',\n",
              " 'ImmutableParentedTree',\n",
              " 'ImmutableProbabilisticMixIn',\n",
              " 'ImmutableProbabilisticTree',\n",
              " 'ImmutableTree',\n",
              " 'IncrementalBottomUpChartParser',\n",
              " 'IncrementalBottomUpLeftCornerChartParser',\n",
              " 'IncrementalChartParser',\n",
              " 'IncrementalLeftCornerChartParser',\n",
              " 'IncrementalTopDownChartParser',\n",
              " 'Index',\n",
              " 'InsideChartParser',\n",
              " 'JSONTaggedDecoder',\n",
              " 'JSONTaggedEncoder',\n",
              " 'KneserNeyProbDist',\n",
              " 'LancasterStemmer',\n",
              " 'LaplaceProbDist',\n",
              " 'LazyConcatenation',\n",
              " 'LazyEnumerate',\n",
              " 'LazyIteratorList',\n",
              " 'LazyMap',\n",
              " 'LazySubsequence',\n",
              " 'LazyZip',\n",
              " 'LeftCornerChartParser',\n",
              " 'LegalitySyllableTokenizer',\n",
              " 'LidstoneProbDist',\n",
              " 'LineTokenizer',\n",
              " 'LogicalExpressionException',\n",
              " 'LongestChartParser',\n",
              " 'MLEProbDist',\n",
              " 'MWETokenizer',\n",
              " 'Mace',\n",
              " 'MaceCommand',\n",
              " 'MaltParser',\n",
              " 'MaxentClassifier',\n",
              " 'Model',\n",
              " 'MultiClassifierI',\n",
              " 'MultiParentedTree',\n",
              " 'MutableProbDist',\n",
              " 'NLTKWordTokenizer',\n",
              " 'NaiveBayesClassifier',\n",
              " 'NaiveBayesDependencyScorer',\n",
              " 'NgramAssocMeasures',\n",
              " 'NgramTagger',\n",
              " 'NonprojectiveDependencyParser',\n",
              " 'Nonterminal',\n",
              " 'OrderedDict',\n",
              " 'PCFG',\n",
              " 'Paice',\n",
              " 'ParallelProverBuilder',\n",
              " 'ParallelProverBuilderCommand',\n",
              " 'ParentedTree',\n",
              " 'ParserI',\n",
              " 'PerceptronTagger',\n",
              " 'PhraseTable',\n",
              " 'PorterStemmer',\n",
              " 'PositiveNaiveBayesClassifier',\n",
              " 'ProbDistI',\n",
              " 'ProbabilisticDependencyGrammar',\n",
              " 'ProbabilisticMixIn',\n",
              " 'ProbabilisticNonprojectiveParser',\n",
              " 'ProbabilisticProduction',\n",
              " 'ProbabilisticProjectiveDependencyParser',\n",
              " 'ProbabilisticTree',\n",
              " 'Production',\n",
              " 'ProjectiveDependencyParser',\n",
              " 'Prover9',\n",
              " 'Prover9Command',\n",
              " 'ProxyBasicAuthHandler',\n",
              " 'ProxyDigestAuthHandler',\n",
              " 'ProxyHandler',\n",
              " 'PunktSentenceTokenizer',\n",
              " 'QuadgramAssocMeasures',\n",
              " 'QuadgramCollocationFinder',\n",
              " 'RSLPStemmer',\n",
              " 'RTEFeatureExtractor',\n",
              " 'RUS_PICKLE',\n",
              " 'RandomChartParser',\n",
              " 'RangeFeature',\n",
              " 'ReadingCommand',\n",
              " 'RecursiveDescentParser',\n",
              " 'RegexpChunkParser',\n",
              " 'RegexpParser',\n",
              " 'RegexpStemmer',\n",
              " 'RegexpTagger',\n",
              " 'RegexpTokenizer',\n",
              " 'ReppTokenizer',\n",
              " 'ResolutionProver',\n",
              " 'ResolutionProverCommand',\n",
              " 'SExprTokenizer',\n",
              " 'SLASH',\n",
              " 'Senna',\n",
              " 'SennaChunkTagger',\n",
              " 'SennaNERTagger',\n",
              " 'SennaTagger',\n",
              " 'SequentialBackoffTagger',\n",
              " 'ShiftReduceParser',\n",
              " 'SimpleGoodTuringProbDist',\n",
              " 'SklearnClassifier',\n",
              " 'SlashFeature',\n",
              " 'SnowballStemmer',\n",
              " 'SpaceTokenizer',\n",
              " 'StackDecoder',\n",
              " 'StanfordNERTagger',\n",
              " 'StanfordPOSTagger',\n",
              " 'StanfordSegmenter',\n",
              " 'StanfordTagger',\n",
              " 'StemmerI',\n",
              " 'SteppingChartParser',\n",
              " 'SteppingRecursiveDescentParser',\n",
              " 'SteppingShiftReduceParser',\n",
              " 'SyllableTokenizer',\n",
              " 'TYPE',\n",
              " 'TabTokenizer',\n",
              " 'TableauProver',\n",
              " 'TableauProverCommand',\n",
              " 'TaggerI',\n",
              " 'TestGrammar',\n",
              " 'Text',\n",
              " 'TextCat',\n",
              " 'TextCollection',\n",
              " 'TextTilingTokenizer',\n",
              " 'TnT',\n",
              " 'TokenSearcher',\n",
              " 'ToktokTokenizer',\n",
              " 'TopDownChartParser',\n",
              " 'TransitionParser',\n",
              " 'Tree',\n",
              " 'TreePrettyPrinter',\n",
              " 'TreebankWordDetokenizer',\n",
              " 'TreebankWordTokenizer',\n",
              " 'Trie',\n",
              " 'TrigramAssocMeasures',\n",
              " 'TrigramCollocationFinder',\n",
              " 'TrigramTagger',\n",
              " 'TweetTokenizer',\n",
              " 'TypedMaxentFeatureEncoding',\n",
              " 'Undefined',\n",
              " 'UniformProbDist',\n",
              " 'UnigramTagger',\n",
              " 'UnsortedChartParser',\n",
              " 'Valuation',\n",
              " 'Variable',\n",
              " 'ViterbiParser',\n",
              " 'WekaClassifier',\n",
              " 'WhitespaceTokenizer',\n",
              " 'WittenBellProbDist',\n",
              " 'WordNetLemmatizer',\n",
              " 'WordPunctTokenizer',\n",
              " '__author__',\n",
              " '__author_email__',\n",
              " '__builtins__',\n",
              " '__cached__',\n",
              " '__classifiers__',\n",
              " '__copyright__',\n",
              " '__doc__',\n",
              " '__file__',\n",
              " '__keywords__',\n",
              " '__license__',\n",
              " '__loader__',\n",
              " '__longdescr__',\n",
              " '__maintainer__',\n",
              " '__maintainer_email__',\n",
              " '__name__',\n",
              " '__package__',\n",
              " '__path__',\n",
              " '__spec__',\n",
              " '__url__',\n",
              " '__version__',\n",
              " 'accuracy',\n",
              " 'acyclic_branches_depth_first',\n",
              " 'acyclic_breadth_first',\n",
              " 'acyclic_depth_first',\n",
              " 'acyclic_dic2tree',\n",
              " 'add_logs',\n",
              " 'agreement',\n",
              " 'align',\n",
              " 'alignment_error_rate',\n",
              " 'aline',\n",
              " 'api',\n",
              " 'app',\n",
              " 'apply_features',\n",
              " 'approxrand',\n",
              " 'arity',\n",
              " 'arlstem',\n",
              " 'arlstem2',\n",
              " 'association',\n",
              " 'bigrams',\n",
              " 'binary_distance',\n",
              " 'binary_search_file',\n",
              " 'binding_ops',\n",
              " 'bisect',\n",
              " 'blankline_tokenize',\n",
              " 'bleu',\n",
              " 'bleu_score',\n",
              " 'bllip',\n",
              " 'boolean_ops',\n",
              " 'boxer',\n",
              " 'bracket_parse',\n",
              " 'breadth_first',\n",
              " 'brill',\n",
              " 'brill_trainer',\n",
              " 'build_opener',\n",
              " 'call_megam',\n",
              " 'casual',\n",
              " 'casual_tokenize',\n",
              " 'ccg',\n",
              " 'chain',\n",
              " 'chart',\n",
              " 'chat',\n",
              " 'chomsky_normal_form',\n",
              " 'choose',\n",
              " 'chrf',\n",
              " 'chrf_score',\n",
              " 'chunk',\n",
              " 'cistem',\n",
              " 'classify',\n",
              " 'clause',\n",
              " 'clean_html',\n",
              " 'clean_url',\n",
              " 'cluster',\n",
              " 'collapse_unary',\n",
              " 'collections',\n",
              " 'collocations',\n",
              " 'combinations',\n",
              " 'compat',\n",
              " 'config_java',\n",
              " 'config_megam',\n",
              " 'config_weka',\n",
              " 'conflicts',\n",
              " 'confusionmatrix',\n",
              " 'conllstr2tree',\n",
              " 'conlltags2tree',\n",
              " 'corenlp',\n",
              " 'corpus',\n",
              " 'crf',\n",
              " 'custom_distance',\n",
              " 'data',\n",
              " 'decisiontree',\n",
              " 'decorator',\n",
              " 'decorators',\n",
              " 'defaultdict',\n",
              " 'demo',\n",
              " 'dependencygraph',\n",
              " 'deprecated',\n",
              " 'deque',\n",
              " 'destructive',\n",
              " 'discourse',\n",
              " 'distance',\n",
              " 'download',\n",
              " 'download_gui',\n",
              " 'download_shell',\n",
              " 'downloader',\n",
              " 'draw',\n",
              " 'drt',\n",
              " 'earleychart',\n",
              " 'edge_closure',\n",
              " 'edges2dot',\n",
              " 'edit_distance',\n",
              " 'edit_distance_align',\n",
              " 'elementtree_indent',\n",
              " 'entropy',\n",
              " 'equality_preds',\n",
              " 'evaluate',\n",
              " 'evaluate_sents',\n",
              " 'everygrams',\n",
              " 'extract',\n",
              " 'extract_rels',\n",
              " 'extract_test_sentences',\n",
              " 'f_measure',\n",
              " 'featstruct',\n",
              " 'featurechart',\n",
              " 'filestring',\n",
              " 'find',\n",
              " 'flatten',\n",
              " 'fractional_presence',\n",
              " 'gale_church',\n",
              " 'gdfa',\n",
              " 'getproxies',\n",
              " 'ghd',\n",
              " 'gleu',\n",
              " 'gleu_score',\n",
              " 'glue',\n",
              " 'grammar',\n",
              " 'grow_diag_final_and',\n",
              " 'guess_encoding',\n",
              " 'help',\n",
              " 'hmm',\n",
              " 'hunpos',\n",
              " 'ibm1',\n",
              " 'ibm2',\n",
              " 'ibm3',\n",
              " 'ibm4',\n",
              " 'ibm5',\n",
              " 'ibm_model',\n",
              " 'ieerstr2tree',\n",
              " 'immutable',\n",
              " 'in_idle',\n",
              " 'induce_pcfg',\n",
              " 'inference',\n",
              " 'infile',\n",
              " 'inspect',\n",
              " 'install_opener',\n",
              " 'internals',\n",
              " 'interpret_sents',\n",
              " 'interval_distance',\n",
              " 'invert_dict',\n",
              " 'invert_graph',\n",
              " 'is_rel',\n",
              " 'islice',\n",
              " 'isri',\n",
              " 'jaccard_distance',\n",
              " 'json_tags',\n",
              " 'jsontags',\n",
              " 'lancaster',\n",
              " 'lazyimport',\n",
              " 'legality_principle',\n",
              " 'lfg',\n",
              " 'line_tokenize',\n",
              " 'linearlogic',\n",
              " 'lm',\n",
              " 'load',\n",
              " 'load_parser',\n",
              " 'locale',\n",
              " 'log_likelihood',\n",
              " 'logic',\n",
              " 'mace',\n",
              " 'malt',\n",
              " 'map_tag',\n",
              " 'mapping',\n",
              " 'masi_distance',\n",
              " 'maxent',\n",
              " 'megam',\n",
              " 'memoize',\n",
              " 'meteor',\n",
              " 'meteor_score',\n",
              " 'metrics',\n",
              " 'misc',\n",
              " 'mwe',\n",
              " 'naivebayes',\n",
              " 'ne_chunk',\n",
              " 'ne_chunk_sents',\n",
              " 'ngrams',\n",
              " 'nist',\n",
              " 'nist_score',\n",
              " 'nonprojectivedependencyparser',\n",
              " 'nonterminals',\n",
              " 'numpy',\n",
              " 'os',\n",
              " 'pad_sequence',\n",
              " 'paice',\n",
              " 'pairwise',\n",
              " 'parallelize_preprocess',\n",
              " 'parented',\n",
              " 'parse',\n",
              " 'parse_sents',\n",
              " 'parsing',\n",
              " 'pchart',\n",
              " 'perceptron',\n",
              " 'phrase_based',\n",
              " 'pk',\n",
              " 'porter',\n",
              " 'pos_tag',\n",
              " 'pos_tag_sents',\n",
              " 'positivenaivebayes',\n",
              " 'pprint',\n",
              " 'pr',\n",
              " 'precision',\n",
              " 'presence',\n",
              " 'prettyprinter',\n",
              " 'print_string',\n",
              " 'probabilistic',\n",
              " 'probability',\n",
              " 'projectivedependencyparser',\n",
              " 'prover9',\n",
              " 'punkt',\n",
              " 'pydoc',\n",
              " 'raise_unorderable_types',\n",
              " 'ranks_from_scores',\n",
              " 'ranks_from_sequence',\n",
              " 're',\n",
              " 're_show',\n",
              " 'read_grammar',\n",
              " 'read_logic',\n",
              " 'read_valuation',\n",
              " 'recall',\n",
              " 'recursivedescent',\n",
              " 'regexp',\n",
              " 'regexp_span_tokenize',\n",
              " 'regexp_tokenize',\n",
              " 'register_tag',\n",
              " 'relextract',\n",
              " 'repp',\n",
              " 'resolution',\n",
              " 'ribes',\n",
              " 'ribes_score',\n",
              " 'root_semrep',\n",
              " 'rslp',\n",
              " 'rte_classifier',\n",
              " 'rte_classify',\n",
              " 'rte_features',\n",
              " 'rtuple',\n",
              " 'scikitlearn',\n",
              " 'scores',\n",
              " 'segmentation',\n",
              " 'sem',\n",
              " 'senna',\n",
              " 'sent_tokenize',\n",
              " 'sequential',\n",
              " 'set2rel',\n",
              " 'set_proxy',\n",
              " 'sexpr',\n",
              " 'sexpr_tokenize',\n",
              " 'shiftreduce',\n",
              " 'simple',\n",
              " 'sinica_parse',\n",
              " 'skipgrams',\n",
              " 'skolemize',\n",
              " 'slice_bounds',\n",
              " 'snowball',\n",
              " 'sonority_sequencing',\n",
              " 'spearman',\n",
              " 'spearman_correlation',\n",
              " 'stack_decoder',\n",
              " 'stanford',\n",
              " 'stanford_segmenter',\n",
              " 'stem',\n",
              " 'str2tuple',\n",
              " 'string_span_tokenize',\n",
              " 'subprocess',\n",
              " 'subsumes',\n",
              " 'sum_logs',\n",
              " 'sys',\n",
              " 'tableau',\n",
              " 'tadm',\n",
              " 'tag',\n",
              " 'tagset_mapping',\n",
              " 'tagstr2tree',\n",
              " 'tbl',\n",
              " 'tee',\n",
              " 'text',\n",
              " 'textcat',\n",
              " 'texttiling',\n",
              " 'textwrap',\n",
              " 'tkinter',\n",
              " 'tnt',\n",
              " 'tokenize',\n",
              " 'tokenwrap',\n",
              " 'toktok',\n",
              " 'toolbox',\n",
              " 'total_ordering',\n",
              " 'trace',\n",
              " 'transforms',\n",
              " 'transitionparser',\n",
              " 'transitive_closure',\n",
              " 'translate',\n",
              " 'tree',\n",
              " 'tree2conllstr',\n",
              " 'tree2conlltags',\n",
              " 'treebank',\n",
              " 'trigrams',\n",
              " 'tuple2str',\n",
              " 'types',\n",
              " 'un_chomsky_normal_form',\n",
              " 'unify',\n",
              " 'unique_list',\n",
              " 'untag',\n",
              " 'unweighted_minimum_spanning_dict',\n",
              " 'unweighted_minimum_spanning_digraph',\n",
              " 'unweighted_minimum_spanning_tree',\n",
              " 'usage',\n",
              " 'util',\n",
              " 'version_file',\n",
              " 'viterbi',\n",
              " 'warnings',\n",
              " 'weka',\n",
              " 'windowdiff',\n",
              " 'word_tokenize',\n",
              " 'wordnet',\n",
              " 'wordpunct_tokenize',\n",
              " 'wsd']"
            ]
          },
          "metadata": {},
          "execution_count": 3
        }
      ]
    },
    {
      "cell_type": "code",
      "source": [
        "from nltk.corpus import stopwords\n",
        "nltk.download('stopwords')\n",
        "\n",
        "stopwords.words('english')[0:10]"
      ],
      "metadata": {
        "colab": {
          "base_uri": "https://localhost:8080/"
        },
        "id": "qbitBSwfnwmD",
        "outputId": "38efa3fb-3321-4a44-95fc-5528e2231462"
      },
      "execution_count": null,
      "outputs": [
        {
          "output_type": "stream",
          "name": "stderr",
          "text": [
            "[nltk_data] Downloading package stopwords to /root/nltk_data...\n",
            "[nltk_data]   Unzipping corpora/stopwords.zip.\n"
          ]
        },
        {
          "output_type": "execute_result",
          "data": {
            "text/plain": [
              "['i', 'me', 'my', 'myself', 'we', 'our', 'ours', 'ourselves', 'you', \"you're\"]"
            ]
          },
          "metadata": {},
          "execution_count": 5
        }
      ]
    },
    {
      "cell_type": "code",
      "source": [
        "rawData = open('/content/SMSSpamCollection.tsv').read()\n",
        "\n",
        "rawData[0:500]"
      ],
      "metadata": {
        "colab": {
          "base_uri": "https://localhost:8080/",
          "height": 140
        },
        "id": "tFs773nnoIoJ",
        "outputId": "430fb1ed-d4fd-4158-9cdf-cdda36c5537b"
      },
      "execution_count": null,
      "outputs": [
        {
          "output_type": "execute_result",
          "data": {
            "text/plain": [
              "\"ham\\tI've been searching for the right words to thank you for this breather. I promise i wont take your help for granted and will fulfil my promise. You have been wonderful and a blessing at all times.\\nspam\\tFree entry in 2 a wkly comp to win FA Cup final tkts 21st May 2005. Text FA to 87121 to receive entry question(std txt rate)T&C's apply 08452810075over18's\\nham\\tNah I don't think he goes to usf, he lives around here though\\nham\\tEven my brother is not like to speak with me. They treat me like aid\""
            ],
            "application/vnd.google.colaboratory.intrinsic+json": {
              "type": "string"
            }
          },
          "metadata": {},
          "execution_count": 6
        }
      ]
    },
    {
      "cell_type": "code",
      "source": [
        "parsedData = rawData.replace('\\t','\\n').split('\\n')\n",
        "\n",
        "parsedData[0:5]"
      ],
      "metadata": {
        "colab": {
          "base_uri": "https://localhost:8080/"
        },
        "id": "4mcztyGersGQ",
        "outputId": "766b91c3-f219-4b62-b670-23d065281051"
      },
      "execution_count": null,
      "outputs": [
        {
          "output_type": "execute_result",
          "data": {
            "text/plain": [
              "['ham',\n",
              " \"I've been searching for the right words to thank you for this breather. I promise i wont take your help for granted and will fulfil my promise. You have been wonderful and a blessing at all times.\",\n",
              " 'spam',\n",
              " \"Free entry in 2 a wkly comp to win FA Cup final tkts 21st May 2005. Text FA to 87121 to receive entry question(std txt rate)T&C's apply 08452810075over18's\",\n",
              " 'ham']"
            ]
          },
          "metadata": {},
          "execution_count": 7
        }
      ]
    },
    {
      "cell_type": "code",
      "source": [
        "labelList = parsedData[0::2]\n",
        "textList = parsedData[1::2]"
      ],
      "metadata": {
        "id": "HBrgU7busP7N"
      },
      "execution_count": null,
      "outputs": []
    },
    {
      "cell_type": "code",
      "source": [
        "print(labelList[0:5])\n",
        "print(textList[0:5])"
      ],
      "metadata": {
        "colab": {
          "base_uri": "https://localhost:8080/"
        },
        "id": "-4T2f8bSsZxH",
        "outputId": "843472db-28ca-4234-e480-fc8454f2a9ab"
      },
      "execution_count": null,
      "outputs": [
        {
          "output_type": "stream",
          "name": "stdout",
          "text": [
            "['ham', 'spam', 'ham', 'ham', 'ham']\n",
            "[\"I've been searching for the right words to thank you for this breather. I promise i wont take your help for granted and will fulfil my promise. You have been wonderful and a blessing at all times.\", \"Free entry in 2 a wkly comp to win FA Cup final tkts 21st May 2005. Text FA to 87121 to receive entry question(std txt rate)T&C's apply 08452810075over18's\", \"Nah I don't think he goes to usf, he lives around here though\", 'Even my brother is not like to speak with me. They treat me like aids patent.', 'I HAVE A DATE ON SUNDAY WITH WILL!!']\n"
          ]
        }
      ]
    },
    {
      "cell_type": "code",
      "source": [
        "import pandas as pd\n",
        "\n",
        "fullCorpus = pd.DataFrame({\n",
        "    'label': labelList[:-1],\n",
        "    'body': textList})"
      ],
      "metadata": {
        "id": "Kv9mqQp7sfjc"
      },
      "execution_count": null,
      "outputs": []
    },
    {
      "cell_type": "code",
      "source": [
        "fullCorpus.head()"
      ],
      "metadata": {
        "colab": {
          "base_uri": "https://localhost:8080/",
          "height": 206
        },
        "id": "T0a0QMEUs7_y",
        "outputId": "2a1128ac-eb99-4a32-efa7-d4c02dc282a2"
      },
      "execution_count": null,
      "outputs": [
        {
          "output_type": "execute_result",
          "data": {
            "text/plain": [
              "  label                                               body\n",
              "0   ham  I've been searching for the right words to tha...\n",
              "1  spam  Free entry in 2 a wkly comp to win FA Cup fina...\n",
              "2   ham  Nah I don't think he goes to usf, he lives aro...\n",
              "3   ham  Even my brother is not like to speak with me. ...\n",
              "4   ham                I HAVE A DATE ON SUNDAY WITH WILL!!"
            ],
            "text/html": [
              "\n",
              "  <div id=\"df-fdd92540-b691-4b13-bbbb-6f8d3165d48b\">\n",
              "    <div class=\"colab-df-container\">\n",
              "      <div>\n",
              "<style scoped>\n",
              "    .dataframe tbody tr th:only-of-type {\n",
              "        vertical-align: middle;\n",
              "    }\n",
              "\n",
              "    .dataframe tbody tr th {\n",
              "        vertical-align: top;\n",
              "    }\n",
              "\n",
              "    .dataframe thead th {\n",
              "        text-align: right;\n",
              "    }\n",
              "</style>\n",
              "<table border=\"1\" class=\"dataframe\">\n",
              "  <thead>\n",
              "    <tr style=\"text-align: right;\">\n",
              "      <th></th>\n",
              "      <th>label</th>\n",
              "      <th>body</th>\n",
              "    </tr>\n",
              "  </thead>\n",
              "  <tbody>\n",
              "    <tr>\n",
              "      <th>0</th>\n",
              "      <td>ham</td>\n",
              "      <td>I've been searching for the right words to tha...</td>\n",
              "    </tr>\n",
              "    <tr>\n",
              "      <th>1</th>\n",
              "      <td>spam</td>\n",
              "      <td>Free entry in 2 a wkly comp to win FA Cup fina...</td>\n",
              "    </tr>\n",
              "    <tr>\n",
              "      <th>2</th>\n",
              "      <td>ham</td>\n",
              "      <td>Nah I don't think he goes to usf, he lives aro...</td>\n",
              "    </tr>\n",
              "    <tr>\n",
              "      <th>3</th>\n",
              "      <td>ham</td>\n",
              "      <td>Even my brother is not like to speak with me. ...</td>\n",
              "    </tr>\n",
              "    <tr>\n",
              "      <th>4</th>\n",
              "      <td>ham</td>\n",
              "      <td>I HAVE A DATE ON SUNDAY WITH WILL!!</td>\n",
              "    </tr>\n",
              "  </tbody>\n",
              "</table>\n",
              "</div>\n",
              "      <button class=\"colab-df-convert\" onclick=\"convertToInteractive('df-fdd92540-b691-4b13-bbbb-6f8d3165d48b')\"\n",
              "              title=\"Convert this dataframe to an interactive table.\"\n",
              "              style=\"display:none;\">\n",
              "        \n",
              "  <svg xmlns=\"http://www.w3.org/2000/svg\" height=\"24px\"viewBox=\"0 0 24 24\"\n",
              "       width=\"24px\">\n",
              "    <path d=\"M0 0h24v24H0V0z\" fill=\"none\"/>\n",
              "    <path d=\"M18.56 5.44l.94 2.06.94-2.06 2.06-.94-2.06-.94-.94-2.06-.94 2.06-2.06.94zm-11 1L8.5 8.5l.94-2.06 2.06-.94-2.06-.94L8.5 2.5l-.94 2.06-2.06.94zm10 10l.94 2.06.94-2.06 2.06-.94-2.06-.94-.94-2.06-.94 2.06-2.06.94z\"/><path d=\"M17.41 7.96l-1.37-1.37c-.4-.4-.92-.59-1.43-.59-.52 0-1.04.2-1.43.59L10.3 9.45l-7.72 7.72c-.78.78-.78 2.05 0 2.83L4 21.41c.39.39.9.59 1.41.59.51 0 1.02-.2 1.41-.59l7.78-7.78 2.81-2.81c.8-.78.8-2.07 0-2.86zM5.41 20L4 18.59l7.72-7.72 1.47 1.35L5.41 20z\"/>\n",
              "  </svg>\n",
              "      </button>\n",
              "      \n",
              "  <style>\n",
              "    .colab-df-container {\n",
              "      display:flex;\n",
              "      flex-wrap:wrap;\n",
              "      gap: 12px;\n",
              "    }\n",
              "\n",
              "    .colab-df-convert {\n",
              "      background-color: #E8F0FE;\n",
              "      border: none;\n",
              "      border-radius: 50%;\n",
              "      cursor: pointer;\n",
              "      display: none;\n",
              "      fill: #1967D2;\n",
              "      height: 32px;\n",
              "      padding: 0 0 0 0;\n",
              "      width: 32px;\n",
              "    }\n",
              "\n",
              "    .colab-df-convert:hover {\n",
              "      background-color: #E2EBFA;\n",
              "      box-shadow: 0px 1px 2px rgba(60, 64, 67, 0.3), 0px 1px 3px 1px rgba(60, 64, 67, 0.15);\n",
              "      fill: #174EA6;\n",
              "    }\n",
              "\n",
              "    [theme=dark] .colab-df-convert {\n",
              "      background-color: #3B4455;\n",
              "      fill: #D2E3FC;\n",
              "    }\n",
              "\n",
              "    [theme=dark] .colab-df-convert:hover {\n",
              "      background-color: #434B5C;\n",
              "      box-shadow: 0px 1px 3px 1px rgba(0, 0, 0, 0.15);\n",
              "      filter: drop-shadow(0px 1px 2px rgba(0, 0, 0, 0.3));\n",
              "      fill: #FFFFFF;\n",
              "    }\n",
              "  </style>\n",
              "\n",
              "      <script>\n",
              "        const buttonEl =\n",
              "          document.querySelector('#df-fdd92540-b691-4b13-bbbb-6f8d3165d48b button.colab-df-convert');\n",
              "        buttonEl.style.display =\n",
              "          google.colab.kernel.accessAllowed ? 'block' : 'none';\n",
              "\n",
              "        async function convertToInteractive(key) {\n",
              "          const element = document.querySelector('#df-fdd92540-b691-4b13-bbbb-6f8d3165d48b');\n",
              "          const dataTable =\n",
              "            await google.colab.kernel.invokeFunction('convertToInteractive',\n",
              "                                                     [key], {});\n",
              "          if (!dataTable) return;\n",
              "\n",
              "          const docLinkHtml = 'Like what you see? Visit the ' +\n",
              "            '<a target=\"_blank\" href=https://colab.research.google.com/notebooks/data_table.ipynb>data table notebook</a>'\n",
              "            + ' to learn more about interactive tables.';\n",
              "          element.innerHTML = '';\n",
              "          dataTable['output_type'] = 'display_data';\n",
              "          await google.colab.output.renderOutput(dataTable, element);\n",
              "          const docLink = document.createElement('div');\n",
              "          docLink.innerHTML = docLinkHtml;\n",
              "          element.appendChild(docLink);\n",
              "        }\n",
              "      </script>\n",
              "    </div>\n",
              "  </div>\n",
              "  "
            ]
          },
          "metadata": {},
          "execution_count": 14
        }
      ]
    },
    {
      "cell_type": "code",
      "source": [
        "dataset = pd.read_csv(\"/content/SMSSpamCollection.tsv\", sep='\\t', header=None)\n",
        "dataset.head()"
      ],
      "metadata": {
        "colab": {
          "base_uri": "https://localhost:8080/",
          "height": 206
        },
        "id": "b_jU1klGtDoo",
        "outputId": "028f0adf-361e-4656-8ebd-3c4721b9150d"
      },
      "execution_count": null,
      "outputs": [
        {
          "output_type": "execute_result",
          "data": {
            "text/plain": [
              "      0                                                  1\n",
              "0   ham  I've been searching for the right words to tha...\n",
              "1  spam  Free entry in 2 a wkly comp to win FA Cup fina...\n",
              "2   ham  Nah I don't think he goes to usf, he lives aro...\n",
              "3   ham  Even my brother is not like to speak with me. ...\n",
              "4   ham                I HAVE A DATE ON SUNDAY WITH WILL!!"
            ],
            "text/html": [
              "\n",
              "  <div id=\"df-3a5370b8-6374-4aea-918a-3ca11b93fcaa\">\n",
              "    <div class=\"colab-df-container\">\n",
              "      <div>\n",
              "<style scoped>\n",
              "    .dataframe tbody tr th:only-of-type {\n",
              "        vertical-align: middle;\n",
              "    }\n",
              "\n",
              "    .dataframe tbody tr th {\n",
              "        vertical-align: top;\n",
              "    }\n",
              "\n",
              "    .dataframe thead th {\n",
              "        text-align: right;\n",
              "    }\n",
              "</style>\n",
              "<table border=\"1\" class=\"dataframe\">\n",
              "  <thead>\n",
              "    <tr style=\"text-align: right;\">\n",
              "      <th></th>\n",
              "      <th>0</th>\n",
              "      <th>1</th>\n",
              "    </tr>\n",
              "  </thead>\n",
              "  <tbody>\n",
              "    <tr>\n",
              "      <th>0</th>\n",
              "      <td>ham</td>\n",
              "      <td>I've been searching for the right words to tha...</td>\n",
              "    </tr>\n",
              "    <tr>\n",
              "      <th>1</th>\n",
              "      <td>spam</td>\n",
              "      <td>Free entry in 2 a wkly comp to win FA Cup fina...</td>\n",
              "    </tr>\n",
              "    <tr>\n",
              "      <th>2</th>\n",
              "      <td>ham</td>\n",
              "      <td>Nah I don't think he goes to usf, he lives aro...</td>\n",
              "    </tr>\n",
              "    <tr>\n",
              "      <th>3</th>\n",
              "      <td>ham</td>\n",
              "      <td>Even my brother is not like to speak with me. ...</td>\n",
              "    </tr>\n",
              "    <tr>\n",
              "      <th>4</th>\n",
              "      <td>ham</td>\n",
              "      <td>I HAVE A DATE ON SUNDAY WITH WILL!!</td>\n",
              "    </tr>\n",
              "  </tbody>\n",
              "</table>\n",
              "</div>\n",
              "      <button class=\"colab-df-convert\" onclick=\"convertToInteractive('df-3a5370b8-6374-4aea-918a-3ca11b93fcaa')\"\n",
              "              title=\"Convert this dataframe to an interactive table.\"\n",
              "              style=\"display:none;\">\n",
              "        \n",
              "  <svg xmlns=\"http://www.w3.org/2000/svg\" height=\"24px\"viewBox=\"0 0 24 24\"\n",
              "       width=\"24px\">\n",
              "    <path d=\"M0 0h24v24H0V0z\" fill=\"none\"/>\n",
              "    <path d=\"M18.56 5.44l.94 2.06.94-2.06 2.06-.94-2.06-.94-.94-2.06-.94 2.06-2.06.94zm-11 1L8.5 8.5l.94-2.06 2.06-.94-2.06-.94L8.5 2.5l-.94 2.06-2.06.94zm10 10l.94 2.06.94-2.06 2.06-.94-2.06-.94-.94-2.06-.94 2.06-2.06.94z\"/><path d=\"M17.41 7.96l-1.37-1.37c-.4-.4-.92-.59-1.43-.59-.52 0-1.04.2-1.43.59L10.3 9.45l-7.72 7.72c-.78.78-.78 2.05 0 2.83L4 21.41c.39.39.9.59 1.41.59.51 0 1.02-.2 1.41-.59l7.78-7.78 2.81-2.81c.8-.78.8-2.07 0-2.86zM5.41 20L4 18.59l7.72-7.72 1.47 1.35L5.41 20z\"/>\n",
              "  </svg>\n",
              "      </button>\n",
              "      \n",
              "  <style>\n",
              "    .colab-df-container {\n",
              "      display:flex;\n",
              "      flex-wrap:wrap;\n",
              "      gap: 12px;\n",
              "    }\n",
              "\n",
              "    .colab-df-convert {\n",
              "      background-color: #E8F0FE;\n",
              "      border: none;\n",
              "      border-radius: 50%;\n",
              "      cursor: pointer;\n",
              "      display: none;\n",
              "      fill: #1967D2;\n",
              "      height: 32px;\n",
              "      padding: 0 0 0 0;\n",
              "      width: 32px;\n",
              "    }\n",
              "\n",
              "    .colab-df-convert:hover {\n",
              "      background-color: #E2EBFA;\n",
              "      box-shadow: 0px 1px 2px rgba(60, 64, 67, 0.3), 0px 1px 3px 1px rgba(60, 64, 67, 0.15);\n",
              "      fill: #174EA6;\n",
              "    }\n",
              "\n",
              "    [theme=dark] .colab-df-convert {\n",
              "      background-color: #3B4455;\n",
              "      fill: #D2E3FC;\n",
              "    }\n",
              "\n",
              "    [theme=dark] .colab-df-convert:hover {\n",
              "      background-color: #434B5C;\n",
              "      box-shadow: 0px 1px 3px 1px rgba(0, 0, 0, 0.15);\n",
              "      filter: drop-shadow(0px 1px 2px rgba(0, 0, 0, 0.3));\n",
              "      fill: #FFFFFF;\n",
              "    }\n",
              "  </style>\n",
              "\n",
              "      <script>\n",
              "        const buttonEl =\n",
              "          document.querySelector('#df-3a5370b8-6374-4aea-918a-3ca11b93fcaa button.colab-df-convert');\n",
              "        buttonEl.style.display =\n",
              "          google.colab.kernel.accessAllowed ? 'block' : 'none';\n",
              "\n",
              "        async function convertToInteractive(key) {\n",
              "          const element = document.querySelector('#df-3a5370b8-6374-4aea-918a-3ca11b93fcaa');\n",
              "          const dataTable =\n",
              "            await google.colab.kernel.invokeFunction('convertToInteractive',\n",
              "                                                     [key], {});\n",
              "          if (!dataTable) return;\n",
              "\n",
              "          const docLinkHtml = 'Like what you see? Visit the ' +\n",
              "            '<a target=\"_blank\" href=https://colab.research.google.com/notebooks/data_table.ipynb>data table notebook</a>'\n",
              "            + ' to learn more about interactive tables.';\n",
              "          element.innerHTML = '';\n",
              "          dataTable['output_type'] = 'display_data';\n",
              "          await google.colab.output.renderOutput(dataTable, element);\n",
              "          const docLink = document.createElement('div');\n",
              "          docLink.innerHTML = docLinkHtml;\n",
              "          element.appendChild(docLink);\n",
              "        }\n",
              "      </script>\n",
              "    </div>\n",
              "  </div>\n",
              "  "
            ]
          },
          "metadata": {},
          "execution_count": 15
        }
      ]
    },
    {
      "cell_type": "code",
      "source": [
        "print(\"Input data has {} rows\".format(len(fullCorpus)))"
      ],
      "metadata": {
        "colab": {
          "base_uri": "https://localhost:8080/"
        },
        "id": "2JOVeE9vtqFI",
        "outputId": "960ad1a2-3d46-48a4-867d-8f9ee3ef41af"
      },
      "execution_count": null,
      "outputs": [
        {
          "output_type": "stream",
          "name": "stdout",
          "text": [
            "Input data has 5570 rows\n"
          ]
        }
      ]
    },
    {
      "cell_type": "code",
      "source": [
        "fullCorpus['label'].value_counts()"
      ],
      "metadata": {
        "colab": {
          "base_uri": "https://localhost:8080/"
        },
        "id": "W53oT8KNuGxJ",
        "outputId": "ae3d0526-ad70-4c1e-f800-47058878946d"
      },
      "execution_count": null,
      "outputs": [
        {
          "output_type": "execute_result",
          "data": {
            "text/plain": [
              "ham     4824\n",
              "spam     746\n",
              "Name: label, dtype: int64"
            ]
          },
          "metadata": {},
          "execution_count": 17
        }
      ]
    },
    {
      "cell_type": "code",
      "source": [
        "fullCorpus.isnull().sum()"
      ],
      "metadata": {
        "colab": {
          "base_uri": "https://localhost:8080/"
        },
        "id": "EzvlQkeouNEu",
        "outputId": "963e54b0-d4c3-4a1f-df5c-acb3d00d5f06"
      },
      "execution_count": null,
      "outputs": [
        {
          "output_type": "execute_result",
          "data": {
            "text/plain": [
              "label    0\n",
              "body     0\n",
              "dtype: int64"
            ]
          },
          "metadata": {},
          "execution_count": 18
        }
      ]
    },
    {
      "cell_type": "code",
      "source": [
        "import re\n",
        "\n",
        "re_test = 'This is a made up string to test 2 different regex methods'\n",
        "re_test_messy = 'This      is a made up     string to test 2    different regex methods'\n",
        "re_test_messy1 = 'This-is-a-made/up.string*to>>>>test----2\"\"\"\"\"\"different~regex-methods'"
      ],
      "metadata": {
        "id": "hyAo8d_RukaR"
      },
      "execution_count": null,
      "outputs": []
    },
    {
      "cell_type": "code",
      "source": [
        "re.split('\\s',re_test) #\\s checks white space"
      ],
      "metadata": {
        "colab": {
          "base_uri": "https://localhost:8080/"
        },
        "id": "-8_q8Hrr0Tid",
        "outputId": "db4ed810-6b18-4e08-ef8b-cdcf374fa21a"
      },
      "execution_count": null,
      "outputs": [
        {
          "output_type": "execute_result",
          "data": {
            "text/plain": [
              "['This',\n",
              " 'is',\n",
              " 'a',\n",
              " 'made',\n",
              " 'up',\n",
              " 'string',\n",
              " 'to',\n",
              " 'test',\n",
              " '2',\n",
              " 'different',\n",
              " 'regex',\n",
              " 'methods']"
            ]
          },
          "metadata": {},
          "execution_count": 20
        }
      ]
    },
    {
      "cell_type": "code",
      "source": [
        "re.split('\\s',re_test_messy)"
      ],
      "metadata": {
        "colab": {
          "base_uri": "https://localhost:8080/"
        },
        "id": "Y9WRNhEG0bnf",
        "outputId": "1d2bf351-c083-4d74-8012-126c65fc23c1"
      },
      "execution_count": null,
      "outputs": [
        {
          "output_type": "execute_result",
          "data": {
            "text/plain": [
              "['This',\n",
              " '',\n",
              " '',\n",
              " '',\n",
              " '',\n",
              " '',\n",
              " 'is',\n",
              " 'a',\n",
              " 'made',\n",
              " 'up',\n",
              " '',\n",
              " '',\n",
              " '',\n",
              " '',\n",
              " 'string',\n",
              " 'to',\n",
              " 'test',\n",
              " '2',\n",
              " '',\n",
              " '',\n",
              " '',\n",
              " 'different',\n",
              " 'regex',\n",
              " 'methods']"
            ]
          },
          "metadata": {},
          "execution_count": 21
        }
      ]
    },
    {
      "cell_type": "code",
      "source": [
        "re.split('\\s+',re_test_messy)"
      ],
      "metadata": {
        "colab": {
          "base_uri": "https://localhost:8080/"
        },
        "id": "mgZmXYdK0g5W",
        "outputId": "3a418d67-adad-47a1-fb65-a26dec71c463"
      },
      "execution_count": null,
      "outputs": [
        {
          "output_type": "execute_result",
          "data": {
            "text/plain": [
              "['This',\n",
              " 'is',\n",
              " 'a',\n",
              " 'made',\n",
              " 'up',\n",
              " 'string',\n",
              " 'to',\n",
              " 'test',\n",
              " '2',\n",
              " 'different',\n",
              " 'regex',\n",
              " 'methods']"
            ]
          },
          "metadata": {},
          "execution_count": 22
        }
      ]
    },
    {
      "cell_type": "code",
      "source": [
        "re.split('\\s+',re_test_messy1)"
      ],
      "metadata": {
        "colab": {
          "base_uri": "https://localhost:8080/"
        },
        "id": "dhR4WZdg0ktc",
        "outputId": "dfb4af0a-302d-4cc5-ca8b-2c471dc614ed"
      },
      "execution_count": null,
      "outputs": [
        {
          "output_type": "execute_result",
          "data": {
            "text/plain": [
              "['This-is-a-made/up.string*to>>>>test----2\"\"\"\"\"\"different~regex-methods']"
            ]
          },
          "metadata": {},
          "execution_count": 23
        }
      ]
    },
    {
      "cell_type": "code",
      "source": [
        "re.split('\\W+',re_test_messy1) #W finds for words"
      ],
      "metadata": {
        "colab": {
          "base_uri": "https://localhost:8080/"
        },
        "id": "x4KXrvjC0oeR",
        "outputId": "f58e5039-cdf6-414c-83f3-50b0b6d59891"
      },
      "execution_count": null,
      "outputs": [
        {
          "output_type": "execute_result",
          "data": {
            "text/plain": [
              "['This',\n",
              " 'is',\n",
              " 'a',\n",
              " 'made',\n",
              " 'up',\n",
              " 'string',\n",
              " 'to',\n",
              " 'test',\n",
              " '2',\n",
              " 'different',\n",
              " 'regex',\n",
              " 'methods']"
            ]
          },
          "metadata": {},
          "execution_count": 25
        }
      ]
    },
    {
      "cell_type": "code",
      "source": [
        "re.findall('\\S+',re_test) #S inverts s, so it findsall characters except white spaces"
      ],
      "metadata": {
        "colab": {
          "base_uri": "https://localhost:8080/"
        },
        "id": "v5xClpMM0uEG",
        "outputId": "7898a229-865e-4cfd-a8ca-c12cd1d882af"
      },
      "execution_count": null,
      "outputs": [
        {
          "output_type": "execute_result",
          "data": {
            "text/plain": [
              "['This',\n",
              " 'is',\n",
              " 'a',\n",
              " 'made',\n",
              " 'up',\n",
              " 'string',\n",
              " 'to',\n",
              " 'test',\n",
              " '2',\n",
              " 'different',\n",
              " 'regex',\n",
              " 'methods']"
            ]
          },
          "metadata": {},
          "execution_count": 27
        }
      ]
    },
    {
      "cell_type": "code",
      "source": [
        "re.findall('\\S+',re_test_messy)"
      ],
      "metadata": {
        "colab": {
          "base_uri": "https://localhost:8080/"
        },
        "id": "HYW56Ct70-DV",
        "outputId": "b8c63485-def9-4f1e-989f-8654a8ec5efb"
      },
      "execution_count": null,
      "outputs": [
        {
          "output_type": "execute_result",
          "data": {
            "text/plain": [
              "['This',\n",
              " 'is',\n",
              " 'a',\n",
              " 'made',\n",
              " 'up',\n",
              " 'string',\n",
              " 'to',\n",
              " 'test',\n",
              " '2',\n",
              " 'different',\n",
              " 'regex',\n",
              " 'methods']"
            ]
          },
          "metadata": {},
          "execution_count": 28
        }
      ]
    },
    {
      "cell_type": "code",
      "source": [
        "re.findall('\\S+',re_test_messy1)"
      ],
      "metadata": {
        "colab": {
          "base_uri": "https://localhost:8080/"
        },
        "id": "vZXDC9j71PRG",
        "outputId": "2b80d8da-7118-48bd-cd98-2f6e5dbe1b98"
      },
      "execution_count": null,
      "outputs": [
        {
          "output_type": "execute_result",
          "data": {
            "text/plain": [
              "['This-is-a-made/up.string*to>>>>test----2\"\"\"\"\"\"different~regex-methods']"
            ]
          },
          "metadata": {},
          "execution_count": 29
        }
      ]
    },
    {
      "cell_type": "code",
      "source": [
        "re.findall('\\w+',re_test_messy1)"
      ],
      "metadata": {
        "colab": {
          "base_uri": "https://localhost:8080/"
        },
        "id": "PfNAYCk61RA7",
        "outputId": "d99e14bf-03bd-4404-fa6f-d03fa7d813a6"
      },
      "execution_count": null,
      "outputs": [
        {
          "output_type": "execute_result",
          "data": {
            "text/plain": [
              "['This',\n",
              " 'is',\n",
              " 'a',\n",
              " 'made',\n",
              " 'up',\n",
              " 'string',\n",
              " 'to',\n",
              " 'test',\n",
              " '2',\n",
              " 'different',\n",
              " 'regex',\n",
              " 'methods']"
            ]
          },
          "metadata": {},
          "execution_count": 30
        }
      ]
    },
    {
      "cell_type": "code",
      "source": [
        "pep8_test = \"I try to follow PEP8 guidelines\"\n",
        "pep7_test = \"I try to follow PEP7 guidelines\"\n",
        "peep8_test = \"I try to follow PEEP8 guidelines\""
      ],
      "metadata": {
        "id": "RdqZHgQr1TiY"
      },
      "execution_count": null,
      "outputs": []
    },
    {
      "cell_type": "code",
      "source": [
        "import re\n",
        "\n",
        "re.findall('[a-z]+',pep8_test)"
      ],
      "metadata": {
        "colab": {
          "base_uri": "https://localhost:8080/"
        },
        "id": "7u51GkF-MY25",
        "outputId": "63fef9ac-8c05-4532-ca86-63c5fb7d58e7"
      },
      "execution_count": null,
      "outputs": [
        {
          "output_type": "execute_result",
          "data": {
            "text/plain": [
              "['try', 'to', 'follow', 'guidelines']"
            ]
          },
          "metadata": {},
          "execution_count": 2
        }
      ]
    },
    {
      "cell_type": "code",
      "source": [
        "re.findall('[A-Z]+',pep8_test)"
      ],
      "metadata": {
        "colab": {
          "base_uri": "https://localhost:8080/"
        },
        "id": "rQxXmR6nMp6N",
        "outputId": "6a90e9e6-a49b-4b3d-f903-20d65347535d"
      },
      "execution_count": null,
      "outputs": [
        {
          "output_type": "execute_result",
          "data": {
            "text/plain": [
              "['I', 'PEP']"
            ]
          },
          "metadata": {},
          "execution_count": 3
        }
      ]
    },
    {
      "cell_type": "code",
      "source": [
        "re.findall('[A-Z]+[0-9]+',pep8_test)"
      ],
      "metadata": {
        "colab": {
          "base_uri": "https://localhost:8080/"
        },
        "id": "ouufyGGpMuXt",
        "outputId": "04b7338a-ec45-4c0b-cd74-c76415a5e6ae"
      },
      "execution_count": null,
      "outputs": [
        {
          "output_type": "execute_result",
          "data": {
            "text/plain": [
              "['PEP8']"
            ]
          },
          "metadata": {},
          "execution_count": 4
        }
      ]
    },
    {
      "cell_type": "code",
      "source": [
        "re.findall('[A-Z]+[0-9]+',pep7_test)"
      ],
      "metadata": {
        "colab": {
          "base_uri": "https://localhost:8080/"
        },
        "id": "2BRvl9oVM1eO",
        "outputId": "c3df1bb0-eddf-4c31-9269-5c2d5914d935"
      },
      "execution_count": null,
      "outputs": [
        {
          "output_type": "execute_result",
          "data": {
            "text/plain": [
              "['PEP7']"
            ]
          },
          "metadata": {},
          "execution_count": 6
        }
      ]
    },
    {
      "cell_type": "code",
      "source": [
        "re.findall('[A-Z]+[0-9]+',peep8_test)"
      ],
      "metadata": {
        "colab": {
          "base_uri": "https://localhost:8080/"
        },
        "id": "5o1RSuFaM4tH",
        "outputId": "a0c5d120-336a-4859-93eb-f3c9926e042e"
      },
      "execution_count": null,
      "outputs": [
        {
          "output_type": "execute_result",
          "data": {
            "text/plain": [
              "['PEEP8']"
            ]
          },
          "metadata": {},
          "execution_count": 7
        }
      ]
    },
    {
      "cell_type": "code",
      "source": [
        "re.sub('[A-Z]+[0-9]+','PEP8 Python Styleguide',pep8_test)"
      ],
      "metadata": {
        "colab": {
          "base_uri": "https://localhost:8080/",
          "height": 35
        },
        "id": "ov3AAgbVM7yX",
        "outputId": "6207f20e-f118-4009-91d1-548e450e2cd4"
      },
      "execution_count": null,
      "outputs": [
        {
          "output_type": "execute_result",
          "data": {
            "text/plain": [
              "'I try to follow PEP8 Python Styleguide guidelines'"
            ],
            "application/vnd.google.colaboratory.intrinsic+json": {
              "type": "string"
            }
          },
          "metadata": {},
          "execution_count": 8
        }
      ]
    },
    {
      "cell_type": "markdown",
      "source": [
        "* re.search()\n",
        "* re.match()\n",
        "* re.fullmatch()\n",
        "* re.finditer()\n",
        "* re.escape()"
      ],
      "metadata": {
        "id": "1Bh6A2lnNjPG"
      }
    },
    {
      "cell_type": "markdown",
      "source": [
        "Raw text -> Tokenize -> Pre-processing -> Vectorize -> ML algorithm -> Spam filter"
      ],
      "metadata": {
        "id": "r9d2YWTaPUIK"
      }
    },
    {
      "cell_type": "code",
      "source": [
        "import pandas as pd\n",
        "pd.set_option('display.max_colwidth',100)\n",
        "\n",
        "data = pd.read_csv('/content/SMSSpamCollection.tsv',sep='\\t',header=None)\n",
        "data.columns = ['label','body_text']\n",
        "\n",
        "data.head()"
      ],
      "metadata": {
        "id": "af1M7JY9NLqH",
        "colab": {
          "base_uri": "https://localhost:8080/",
          "height": 206
        },
        "outputId": "7689f553-b345-4666-f8fc-ad4330e9b507"
      },
      "execution_count": null,
      "outputs": [
        {
          "output_type": "execute_result",
          "data": {
            "text/plain": [
              "  label  \\\n",
              "0   ham   \n",
              "1  spam   \n",
              "2   ham   \n",
              "3   ham   \n",
              "4   ham   \n",
              "\n",
              "                                                                                             body_text  \n",
              "0  I've been searching for the right words to thank you for this breather. I promise i wont take yo...  \n",
              "1  Free entry in 2 a wkly comp to win FA Cup final tkts 21st May 2005. Text FA to 87121 to receive ...  \n",
              "2                                        Nah I don't think he goes to usf, he lives around here though  \n",
              "3                        Even my brother is not like to speak with me. They treat me like aids patent.  \n",
              "4                                                                  I HAVE A DATE ON SUNDAY WITH WILL!!  "
            ],
            "text/html": [
              "\n",
              "  <div id=\"df-17b90e80-a852-498a-9404-369fd4d8a895\">\n",
              "    <div class=\"colab-df-container\">\n",
              "      <div>\n",
              "<style scoped>\n",
              "    .dataframe tbody tr th:only-of-type {\n",
              "        vertical-align: middle;\n",
              "    }\n",
              "\n",
              "    .dataframe tbody tr th {\n",
              "        vertical-align: top;\n",
              "    }\n",
              "\n",
              "    .dataframe thead th {\n",
              "        text-align: right;\n",
              "    }\n",
              "</style>\n",
              "<table border=\"1\" class=\"dataframe\">\n",
              "  <thead>\n",
              "    <tr style=\"text-align: right;\">\n",
              "      <th></th>\n",
              "      <th>label</th>\n",
              "      <th>body_text</th>\n",
              "    </tr>\n",
              "  </thead>\n",
              "  <tbody>\n",
              "    <tr>\n",
              "      <th>0</th>\n",
              "      <td>ham</td>\n",
              "      <td>I've been searching for the right words to thank you for this breather. I promise i wont take yo...</td>\n",
              "    </tr>\n",
              "    <tr>\n",
              "      <th>1</th>\n",
              "      <td>spam</td>\n",
              "      <td>Free entry in 2 a wkly comp to win FA Cup final tkts 21st May 2005. Text FA to 87121 to receive ...</td>\n",
              "    </tr>\n",
              "    <tr>\n",
              "      <th>2</th>\n",
              "      <td>ham</td>\n",
              "      <td>Nah I don't think he goes to usf, he lives around here though</td>\n",
              "    </tr>\n",
              "    <tr>\n",
              "      <th>3</th>\n",
              "      <td>ham</td>\n",
              "      <td>Even my brother is not like to speak with me. They treat me like aids patent.</td>\n",
              "    </tr>\n",
              "    <tr>\n",
              "      <th>4</th>\n",
              "      <td>ham</td>\n",
              "      <td>I HAVE A DATE ON SUNDAY WITH WILL!!</td>\n",
              "    </tr>\n",
              "  </tbody>\n",
              "</table>\n",
              "</div>\n",
              "      <button class=\"colab-df-convert\" onclick=\"convertToInteractive('df-17b90e80-a852-498a-9404-369fd4d8a895')\"\n",
              "              title=\"Convert this dataframe to an interactive table.\"\n",
              "              style=\"display:none;\">\n",
              "        \n",
              "  <svg xmlns=\"http://www.w3.org/2000/svg\" height=\"24px\"viewBox=\"0 0 24 24\"\n",
              "       width=\"24px\">\n",
              "    <path d=\"M0 0h24v24H0V0z\" fill=\"none\"/>\n",
              "    <path d=\"M18.56 5.44l.94 2.06.94-2.06 2.06-.94-2.06-.94-.94-2.06-.94 2.06-2.06.94zm-11 1L8.5 8.5l.94-2.06 2.06-.94-2.06-.94L8.5 2.5l-.94 2.06-2.06.94zm10 10l.94 2.06.94-2.06 2.06-.94-2.06-.94-.94-2.06-.94 2.06-2.06.94z\"/><path d=\"M17.41 7.96l-1.37-1.37c-.4-.4-.92-.59-1.43-.59-.52 0-1.04.2-1.43.59L10.3 9.45l-7.72 7.72c-.78.78-.78 2.05 0 2.83L4 21.41c.39.39.9.59 1.41.59.51 0 1.02-.2 1.41-.59l7.78-7.78 2.81-2.81c.8-.78.8-2.07 0-2.86zM5.41 20L4 18.59l7.72-7.72 1.47 1.35L5.41 20z\"/>\n",
              "  </svg>\n",
              "      </button>\n",
              "      \n",
              "  <style>\n",
              "    .colab-df-container {\n",
              "      display:flex;\n",
              "      flex-wrap:wrap;\n",
              "      gap: 12px;\n",
              "    }\n",
              "\n",
              "    .colab-df-convert {\n",
              "      background-color: #E8F0FE;\n",
              "      border: none;\n",
              "      border-radius: 50%;\n",
              "      cursor: pointer;\n",
              "      display: none;\n",
              "      fill: #1967D2;\n",
              "      height: 32px;\n",
              "      padding: 0 0 0 0;\n",
              "      width: 32px;\n",
              "    }\n",
              "\n",
              "    .colab-df-convert:hover {\n",
              "      background-color: #E2EBFA;\n",
              "      box-shadow: 0px 1px 2px rgba(60, 64, 67, 0.3), 0px 1px 3px 1px rgba(60, 64, 67, 0.15);\n",
              "      fill: #174EA6;\n",
              "    }\n",
              "\n",
              "    [theme=dark] .colab-df-convert {\n",
              "      background-color: #3B4455;\n",
              "      fill: #D2E3FC;\n",
              "    }\n",
              "\n",
              "    [theme=dark] .colab-df-convert:hover {\n",
              "      background-color: #434B5C;\n",
              "      box-shadow: 0px 1px 3px 1px rgba(0, 0, 0, 0.15);\n",
              "      filter: drop-shadow(0px 1px 2px rgba(0, 0, 0, 0.3));\n",
              "      fill: #FFFFFF;\n",
              "    }\n",
              "  </style>\n",
              "\n",
              "      <script>\n",
              "        const buttonEl =\n",
              "          document.querySelector('#df-17b90e80-a852-498a-9404-369fd4d8a895 button.colab-df-convert');\n",
              "        buttonEl.style.display =\n",
              "          google.colab.kernel.accessAllowed ? 'block' : 'none';\n",
              "\n",
              "        async function convertToInteractive(key) {\n",
              "          const element = document.querySelector('#df-17b90e80-a852-498a-9404-369fd4d8a895');\n",
              "          const dataTable =\n",
              "            await google.colab.kernel.invokeFunction('convertToInteractive',\n",
              "                                                     [key], {});\n",
              "          if (!dataTable) return;\n",
              "\n",
              "          const docLinkHtml = 'Like what you see? Visit the ' +\n",
              "            '<a target=\"_blank\" href=https://colab.research.google.com/notebooks/data_table.ipynb>data table notebook</a>'\n",
              "            + ' to learn more about interactive tables.';\n",
              "          element.innerHTML = '';\n",
              "          dataTable['output_type'] = 'display_data';\n",
              "          await google.colab.output.renderOutput(dataTable, element);\n",
              "          const docLink = document.createElement('div');\n",
              "          docLink.innerHTML = docLinkHtml;\n",
              "          element.appendChild(docLink);\n",
              "        }\n",
              "      </script>\n",
              "    </div>\n",
              "  </div>\n",
              "  "
            ]
          },
          "metadata": {},
          "execution_count": 1
        }
      ]
    },
    {
      "cell_type": "code",
      "source": [
        "import string #Remove punctuation\n",
        "\n",
        "string.punctuation"
      ],
      "metadata": {
        "colab": {
          "base_uri": "https://localhost:8080/",
          "height": 35
        },
        "id": "atY_8HX1aOaQ",
        "outputId": "aa41a7e4-f113-48fc-8172-20630421520f"
      },
      "execution_count": null,
      "outputs": [
        {
          "output_type": "execute_result",
          "data": {
            "text/plain": [
              "'!\"#$%&\\'()*+,-./:;<=>?@[\\\\]^_`{|}~'"
            ],
            "application/vnd.google.colaboratory.intrinsic+json": {
              "type": "string"
            }
          },
          "metadata": {},
          "execution_count": 2
        }
      ]
    },
    {
      "cell_type": "code",
      "source": [
        "\"I like NLP.\" == \"I like NLP\""
      ],
      "metadata": {
        "colab": {
          "base_uri": "https://localhost:8080/"
        },
        "id": "qqEa7RN_bN3S",
        "outputId": "fd8a74b1-45a3-44b6-d03d-091cf00cca2e"
      },
      "execution_count": null,
      "outputs": [
        {
          "output_type": "execute_result",
          "data": {
            "text/plain": [
              "False"
            ]
          },
          "metadata": {},
          "execution_count": 3
        }
      ]
    },
    {
      "cell_type": "code",
      "source": [
        "def remove_punc(text):\n",
        "  text_no_punc = \"\".join([char for char in text if char not in string.punctuation])\n",
        "  return text_no_punc"
      ],
      "metadata": {
        "id": "ZDauWtPcbSBR"
      },
      "execution_count": null,
      "outputs": []
    },
    {
      "cell_type": "code",
      "source": [
        "data['body_text_clean'] = data['body_text'].apply(lambda x:remove_punc(x))\n",
        "data.head()"
      ],
      "metadata": {
        "colab": {
          "base_uri": "https://localhost:8080/",
          "height": 320
        },
        "id": "BJPC7aisboxu",
        "outputId": "cb039c13-3d4d-4e78-c36d-0c971913fc30"
      },
      "execution_count": null,
      "outputs": [
        {
          "output_type": "execute_result",
          "data": {
            "text/plain": [
              "  label  \\\n",
              "0   ham   \n",
              "1  spam   \n",
              "2   ham   \n",
              "3   ham   \n",
              "4   ham   \n",
              "\n",
              "                                                                                             body_text  \\\n",
              "0  I've been searching for the right words to thank you for this breather. I promise i wont take yo...   \n",
              "1  Free entry in 2 a wkly comp to win FA Cup final tkts 21st May 2005. Text FA to 87121 to receive ...   \n",
              "2                                        Nah I don't think he goes to usf, he lives around here though   \n",
              "3                        Even my brother is not like to speak with me. They treat me like aids patent.   \n",
              "4                                                                  I HAVE A DATE ON SUNDAY WITH WILL!!   \n",
              "\n",
              "                                                                                       body_text_clean  \n",
              "0  Ive been searching for the right words to thank you for this breather I promise i wont take your...  \n",
              "1  Free entry in 2 a wkly comp to win FA Cup final tkts 21st May 2005 Text FA to 87121 to receive e...  \n",
              "2                                          Nah I dont think he goes to usf he lives around here though  \n",
              "3                          Even my brother is not like to speak with me They treat me like aids patent  \n",
              "4                                                                    I HAVE A DATE ON SUNDAY WITH WILL  "
            ],
            "text/html": [
              "\n",
              "  <div id=\"df-c780ca76-9968-4f5f-8770-94eb32fdf2aa\">\n",
              "    <div class=\"colab-df-container\">\n",
              "      <div>\n",
              "<style scoped>\n",
              "    .dataframe tbody tr th:only-of-type {\n",
              "        vertical-align: middle;\n",
              "    }\n",
              "\n",
              "    .dataframe tbody tr th {\n",
              "        vertical-align: top;\n",
              "    }\n",
              "\n",
              "    .dataframe thead th {\n",
              "        text-align: right;\n",
              "    }\n",
              "</style>\n",
              "<table border=\"1\" class=\"dataframe\">\n",
              "  <thead>\n",
              "    <tr style=\"text-align: right;\">\n",
              "      <th></th>\n",
              "      <th>label</th>\n",
              "      <th>body_text</th>\n",
              "      <th>body_text_clean</th>\n",
              "    </tr>\n",
              "  </thead>\n",
              "  <tbody>\n",
              "    <tr>\n",
              "      <th>0</th>\n",
              "      <td>ham</td>\n",
              "      <td>I've been searching for the right words to thank you for this breather. I promise i wont take yo...</td>\n",
              "      <td>Ive been searching for the right words to thank you for this breather I promise i wont take your...</td>\n",
              "    </tr>\n",
              "    <tr>\n",
              "      <th>1</th>\n",
              "      <td>spam</td>\n",
              "      <td>Free entry in 2 a wkly comp to win FA Cup final tkts 21st May 2005. Text FA to 87121 to receive ...</td>\n",
              "      <td>Free entry in 2 a wkly comp to win FA Cup final tkts 21st May 2005 Text FA to 87121 to receive e...</td>\n",
              "    </tr>\n",
              "    <tr>\n",
              "      <th>2</th>\n",
              "      <td>ham</td>\n",
              "      <td>Nah I don't think he goes to usf, he lives around here though</td>\n",
              "      <td>Nah I dont think he goes to usf he lives around here though</td>\n",
              "    </tr>\n",
              "    <tr>\n",
              "      <th>3</th>\n",
              "      <td>ham</td>\n",
              "      <td>Even my brother is not like to speak with me. They treat me like aids patent.</td>\n",
              "      <td>Even my brother is not like to speak with me They treat me like aids patent</td>\n",
              "    </tr>\n",
              "    <tr>\n",
              "      <th>4</th>\n",
              "      <td>ham</td>\n",
              "      <td>I HAVE A DATE ON SUNDAY WITH WILL!!</td>\n",
              "      <td>I HAVE A DATE ON SUNDAY WITH WILL</td>\n",
              "    </tr>\n",
              "  </tbody>\n",
              "</table>\n",
              "</div>\n",
              "      <button class=\"colab-df-convert\" onclick=\"convertToInteractive('df-c780ca76-9968-4f5f-8770-94eb32fdf2aa')\"\n",
              "              title=\"Convert this dataframe to an interactive table.\"\n",
              "              style=\"display:none;\">\n",
              "        \n",
              "  <svg xmlns=\"http://www.w3.org/2000/svg\" height=\"24px\"viewBox=\"0 0 24 24\"\n",
              "       width=\"24px\">\n",
              "    <path d=\"M0 0h24v24H0V0z\" fill=\"none\"/>\n",
              "    <path d=\"M18.56 5.44l.94 2.06.94-2.06 2.06-.94-2.06-.94-.94-2.06-.94 2.06-2.06.94zm-11 1L8.5 8.5l.94-2.06 2.06-.94-2.06-.94L8.5 2.5l-.94 2.06-2.06.94zm10 10l.94 2.06.94-2.06 2.06-.94-2.06-.94-.94-2.06-.94 2.06-2.06.94z\"/><path d=\"M17.41 7.96l-1.37-1.37c-.4-.4-.92-.59-1.43-.59-.52 0-1.04.2-1.43.59L10.3 9.45l-7.72 7.72c-.78.78-.78 2.05 0 2.83L4 21.41c.39.39.9.59 1.41.59.51 0 1.02-.2 1.41-.59l7.78-7.78 2.81-2.81c.8-.78.8-2.07 0-2.86zM5.41 20L4 18.59l7.72-7.72 1.47 1.35L5.41 20z\"/>\n",
              "  </svg>\n",
              "      </button>\n",
              "      \n",
              "  <style>\n",
              "    .colab-df-container {\n",
              "      display:flex;\n",
              "      flex-wrap:wrap;\n",
              "      gap: 12px;\n",
              "    }\n",
              "\n",
              "    .colab-df-convert {\n",
              "      background-color: #E8F0FE;\n",
              "      border: none;\n",
              "      border-radius: 50%;\n",
              "      cursor: pointer;\n",
              "      display: none;\n",
              "      fill: #1967D2;\n",
              "      height: 32px;\n",
              "      padding: 0 0 0 0;\n",
              "      width: 32px;\n",
              "    }\n",
              "\n",
              "    .colab-df-convert:hover {\n",
              "      background-color: #E2EBFA;\n",
              "      box-shadow: 0px 1px 2px rgba(60, 64, 67, 0.3), 0px 1px 3px 1px rgba(60, 64, 67, 0.15);\n",
              "      fill: #174EA6;\n",
              "    }\n",
              "\n",
              "    [theme=dark] .colab-df-convert {\n",
              "      background-color: #3B4455;\n",
              "      fill: #D2E3FC;\n",
              "    }\n",
              "\n",
              "    [theme=dark] .colab-df-convert:hover {\n",
              "      background-color: #434B5C;\n",
              "      box-shadow: 0px 1px 3px 1px rgba(0, 0, 0, 0.15);\n",
              "      filter: drop-shadow(0px 1px 2px rgba(0, 0, 0, 0.3));\n",
              "      fill: #FFFFFF;\n",
              "    }\n",
              "  </style>\n",
              "\n",
              "      <script>\n",
              "        const buttonEl =\n",
              "          document.querySelector('#df-c780ca76-9968-4f5f-8770-94eb32fdf2aa button.colab-df-convert');\n",
              "        buttonEl.style.display =\n",
              "          google.colab.kernel.accessAllowed ? 'block' : 'none';\n",
              "\n",
              "        async function convertToInteractive(key) {\n",
              "          const element = document.querySelector('#df-c780ca76-9968-4f5f-8770-94eb32fdf2aa');\n",
              "          const dataTable =\n",
              "            await google.colab.kernel.invokeFunction('convertToInteractive',\n",
              "                                                     [key], {});\n",
              "          if (!dataTable) return;\n",
              "\n",
              "          const docLinkHtml = 'Like what you see? Visit the ' +\n",
              "            '<a target=\"_blank\" href=https://colab.research.google.com/notebooks/data_table.ipynb>data table notebook</a>'\n",
              "            + ' to learn more about interactive tables.';\n",
              "          element.innerHTML = '';\n",
              "          dataTable['output_type'] = 'display_data';\n",
              "          await google.colab.output.renderOutput(dataTable, element);\n",
              "          const docLink = document.createElement('div');\n",
              "          docLink.innerHTML = docLinkHtml;\n",
              "          element.appendChild(docLink);\n",
              "        }\n",
              "      </script>\n",
              "    </div>\n",
              "  </div>\n",
              "  "
            ]
          },
          "metadata": {},
          "execution_count": 5
        }
      ]
    },
    {
      "cell_type": "code",
      "source": [
        "import re #Tokenization"
      ],
      "metadata": {
        "id": "T7T6f6WNbIwp"
      },
      "execution_count": null,
      "outputs": []
    },
    {
      "cell_type": "code",
      "source": [
        "def tokenize(text):\n",
        "  tokens = re.split('\\W+',text)\n",
        "  return tokens\n",
        "\n",
        "data['body_text_tokenized'] = data['body_text_clean'].apply(lambda x: tokenize(x.lower()))\n",
        "data.head()"
      ],
      "metadata": {
        "colab": {
          "base_uri": "https://localhost:8080/",
          "height": 406
        },
        "id": "QacBbiNZYxFM",
        "outputId": "11e6e34b-900d-4c34-9808-a04e10549108"
      },
      "execution_count": null,
      "outputs": [
        {
          "output_type": "execute_result",
          "data": {
            "text/plain": [
              "  label  \\\n",
              "0   ham   \n",
              "1  spam   \n",
              "2   ham   \n",
              "3   ham   \n",
              "4   ham   \n",
              "\n",
              "                                                                                             body_text  \\\n",
              "0  I've been searching for the right words to thank you for this breather. I promise i wont take yo...   \n",
              "1  Free entry in 2 a wkly comp to win FA Cup final tkts 21st May 2005. Text FA to 87121 to receive ...   \n",
              "2                                        Nah I don't think he goes to usf, he lives around here though   \n",
              "3                        Even my brother is not like to speak with me. They treat me like aids patent.   \n",
              "4                                                                  I HAVE A DATE ON SUNDAY WITH WILL!!   \n",
              "\n",
              "                                                                                       body_text_clean  \\\n",
              "0  Ive been searching for the right words to thank you for this breather I promise i wont take your...   \n",
              "1  Free entry in 2 a wkly comp to win FA Cup final tkts 21st May 2005 Text FA to 87121 to receive e...   \n",
              "2                                          Nah I dont think he goes to usf he lives around here though   \n",
              "3                          Even my brother is not like to speak with me They treat me like aids patent   \n",
              "4                                                                    I HAVE A DATE ON SUNDAY WITH WILL   \n",
              "\n",
              "                                                                                   body_text_tokenized  \n",
              "0  [ive, been, searching, for, the, right, words, to, thank, you, for, this, breather, i, promise, ...  \n",
              "1  [free, entry, in, 2, a, wkly, comp, to, win, fa, cup, final, tkts, 21st, may, 2005, text, fa, to...  \n",
              "2                            [nah, i, dont, think, he, goes, to, usf, he, lives, around, here, though]  \n",
              "3         [even, my, brother, is, not, like, to, speak, with, me, they, treat, me, like, aids, patent]  \n",
              "4                                                           [i, have, a, date, on, sunday, with, will]  "
            ],
            "text/html": [
              "\n",
              "  <div id=\"df-1e70b87d-810a-4d14-b1dd-242dd2e3a1fc\">\n",
              "    <div class=\"colab-df-container\">\n",
              "      <div>\n",
              "<style scoped>\n",
              "    .dataframe tbody tr th:only-of-type {\n",
              "        vertical-align: middle;\n",
              "    }\n",
              "\n",
              "    .dataframe tbody tr th {\n",
              "        vertical-align: top;\n",
              "    }\n",
              "\n",
              "    .dataframe thead th {\n",
              "        text-align: right;\n",
              "    }\n",
              "</style>\n",
              "<table border=\"1\" class=\"dataframe\">\n",
              "  <thead>\n",
              "    <tr style=\"text-align: right;\">\n",
              "      <th></th>\n",
              "      <th>label</th>\n",
              "      <th>body_text</th>\n",
              "      <th>body_text_clean</th>\n",
              "      <th>body_text_tokenized</th>\n",
              "    </tr>\n",
              "  </thead>\n",
              "  <tbody>\n",
              "    <tr>\n",
              "      <th>0</th>\n",
              "      <td>ham</td>\n",
              "      <td>I've been searching for the right words to thank you for this breather. I promise i wont take yo...</td>\n",
              "      <td>Ive been searching for the right words to thank you for this breather I promise i wont take your...</td>\n",
              "      <td>[ive, been, searching, for, the, right, words, to, thank, you, for, this, breather, i, promise, ...</td>\n",
              "    </tr>\n",
              "    <tr>\n",
              "      <th>1</th>\n",
              "      <td>spam</td>\n",
              "      <td>Free entry in 2 a wkly comp to win FA Cup final tkts 21st May 2005. Text FA to 87121 to receive ...</td>\n",
              "      <td>Free entry in 2 a wkly comp to win FA Cup final tkts 21st May 2005 Text FA to 87121 to receive e...</td>\n",
              "      <td>[free, entry, in, 2, a, wkly, comp, to, win, fa, cup, final, tkts, 21st, may, 2005, text, fa, to...</td>\n",
              "    </tr>\n",
              "    <tr>\n",
              "      <th>2</th>\n",
              "      <td>ham</td>\n",
              "      <td>Nah I don't think he goes to usf, he lives around here though</td>\n",
              "      <td>Nah I dont think he goes to usf he lives around here though</td>\n",
              "      <td>[nah, i, dont, think, he, goes, to, usf, he, lives, around, here, though]</td>\n",
              "    </tr>\n",
              "    <tr>\n",
              "      <th>3</th>\n",
              "      <td>ham</td>\n",
              "      <td>Even my brother is not like to speak with me. They treat me like aids patent.</td>\n",
              "      <td>Even my brother is not like to speak with me They treat me like aids patent</td>\n",
              "      <td>[even, my, brother, is, not, like, to, speak, with, me, they, treat, me, like, aids, patent]</td>\n",
              "    </tr>\n",
              "    <tr>\n",
              "      <th>4</th>\n",
              "      <td>ham</td>\n",
              "      <td>I HAVE A DATE ON SUNDAY WITH WILL!!</td>\n",
              "      <td>I HAVE A DATE ON SUNDAY WITH WILL</td>\n",
              "      <td>[i, have, a, date, on, sunday, with, will]</td>\n",
              "    </tr>\n",
              "  </tbody>\n",
              "</table>\n",
              "</div>\n",
              "      <button class=\"colab-df-convert\" onclick=\"convertToInteractive('df-1e70b87d-810a-4d14-b1dd-242dd2e3a1fc')\"\n",
              "              title=\"Convert this dataframe to an interactive table.\"\n",
              "              style=\"display:none;\">\n",
              "        \n",
              "  <svg xmlns=\"http://www.w3.org/2000/svg\" height=\"24px\"viewBox=\"0 0 24 24\"\n",
              "       width=\"24px\">\n",
              "    <path d=\"M0 0h24v24H0V0z\" fill=\"none\"/>\n",
              "    <path d=\"M18.56 5.44l.94 2.06.94-2.06 2.06-.94-2.06-.94-.94-2.06-.94 2.06-2.06.94zm-11 1L8.5 8.5l.94-2.06 2.06-.94-2.06-.94L8.5 2.5l-.94 2.06-2.06.94zm10 10l.94 2.06.94-2.06 2.06-.94-2.06-.94-.94-2.06-.94 2.06-2.06.94z\"/><path d=\"M17.41 7.96l-1.37-1.37c-.4-.4-.92-.59-1.43-.59-.52 0-1.04.2-1.43.59L10.3 9.45l-7.72 7.72c-.78.78-.78 2.05 0 2.83L4 21.41c.39.39.9.59 1.41.59.51 0 1.02-.2 1.41-.59l7.78-7.78 2.81-2.81c.8-.78.8-2.07 0-2.86zM5.41 20L4 18.59l7.72-7.72 1.47 1.35L5.41 20z\"/>\n",
              "  </svg>\n",
              "      </button>\n",
              "      \n",
              "  <style>\n",
              "    .colab-df-container {\n",
              "      display:flex;\n",
              "      flex-wrap:wrap;\n",
              "      gap: 12px;\n",
              "    }\n",
              "\n",
              "    .colab-df-convert {\n",
              "      background-color: #E8F0FE;\n",
              "      border: none;\n",
              "      border-radius: 50%;\n",
              "      cursor: pointer;\n",
              "      display: none;\n",
              "      fill: #1967D2;\n",
              "      height: 32px;\n",
              "      padding: 0 0 0 0;\n",
              "      width: 32px;\n",
              "    }\n",
              "\n",
              "    .colab-df-convert:hover {\n",
              "      background-color: #E2EBFA;\n",
              "      box-shadow: 0px 1px 2px rgba(60, 64, 67, 0.3), 0px 1px 3px 1px rgba(60, 64, 67, 0.15);\n",
              "      fill: #174EA6;\n",
              "    }\n",
              "\n",
              "    [theme=dark] .colab-df-convert {\n",
              "      background-color: #3B4455;\n",
              "      fill: #D2E3FC;\n",
              "    }\n",
              "\n",
              "    [theme=dark] .colab-df-convert:hover {\n",
              "      background-color: #434B5C;\n",
              "      box-shadow: 0px 1px 3px 1px rgba(0, 0, 0, 0.15);\n",
              "      filter: drop-shadow(0px 1px 2px rgba(0, 0, 0, 0.3));\n",
              "      fill: #FFFFFF;\n",
              "    }\n",
              "  </style>\n",
              "\n",
              "      <script>\n",
              "        const buttonEl =\n",
              "          document.querySelector('#df-1e70b87d-810a-4d14-b1dd-242dd2e3a1fc button.colab-df-convert');\n",
              "        buttonEl.style.display =\n",
              "          google.colab.kernel.accessAllowed ? 'block' : 'none';\n",
              "\n",
              "        async function convertToInteractive(key) {\n",
              "          const element = document.querySelector('#df-1e70b87d-810a-4d14-b1dd-242dd2e3a1fc');\n",
              "          const dataTable =\n",
              "            await google.colab.kernel.invokeFunction('convertToInteractive',\n",
              "                                                     [key], {});\n",
              "          if (!dataTable) return;\n",
              "\n",
              "          const docLinkHtml = 'Like what you see? Visit the ' +\n",
              "            '<a target=\"_blank\" href=https://colab.research.google.com/notebooks/data_table.ipynb>data table notebook</a>'\n",
              "            + ' to learn more about interactive tables.';\n",
              "          element.innerHTML = '';\n",
              "          dataTable['output_type'] = 'display_data';\n",
              "          await google.colab.output.renderOutput(dataTable, element);\n",
              "          const docLink = document.createElement('div');\n",
              "          docLink.innerHTML = docLinkHtml;\n",
              "          element.appendChild(docLink);\n",
              "        }\n",
              "      </script>\n",
              "    </div>\n",
              "  </div>\n",
              "  "
            ]
          },
          "metadata": {},
          "execution_count": 7
        }
      ]
    },
    {
      "cell_type": "code",
      "source": [
        "import nltk\n",
        "nltk.download('stopwords')\n",
        "\n",
        "stopword = nltk.corpus.stopwords.words('english')"
      ],
      "metadata": {
        "colab": {
          "base_uri": "https://localhost:8080/"
        },
        "id": "r7IecPvMadMt",
        "outputId": "507fc94e-eacb-404a-f59f-de5fd293fbd2"
      },
      "execution_count": null,
      "outputs": [
        {
          "output_type": "stream",
          "name": "stderr",
          "text": [
            "[nltk_data] Downloading package stopwords to /root/nltk_data...\n",
            "[nltk_data]   Unzipping corpora/stopwords.zip.\n"
          ]
        }
      ]
    },
    {
      "cell_type": "code",
      "source": [
        "def remove_stopwords(tokenized_list):\n",
        "  text = [word for word in tokenized_list if word not in stopword]\n",
        "  return text\n",
        "\n",
        "data['body_text_nonstop'] = data['body_text_tokenized'].apply(lambda x: remove_stopwords(x))\n",
        "data.head()"
      ],
      "metadata": {
        "colab": {
          "base_uri": "https://localhost:8080/",
          "height": 511
        },
        "id": "yTRqQoJ3a0xv",
        "outputId": "8d13e1fb-0870-47ea-e33c-de09afb19d67"
      },
      "execution_count": null,
      "outputs": [
        {
          "output_type": "execute_result",
          "data": {
            "text/plain": [
              "  label  \\\n",
              "0   ham   \n",
              "1  spam   \n",
              "2   ham   \n",
              "3   ham   \n",
              "4   ham   \n",
              "\n",
              "                                                                                             body_text  \\\n",
              "0  I've been searching for the right words to thank you for this breather. I promise i wont take yo...   \n",
              "1  Free entry in 2 a wkly comp to win FA Cup final tkts 21st May 2005. Text FA to 87121 to receive ...   \n",
              "2                                        Nah I don't think he goes to usf, he lives around here though   \n",
              "3                        Even my brother is not like to speak with me. They treat me like aids patent.   \n",
              "4                                                                  I HAVE A DATE ON SUNDAY WITH WILL!!   \n",
              "\n",
              "                                                                                       body_text_clean  \\\n",
              "0  Ive been searching for the right words to thank you for this breather I promise i wont take your...   \n",
              "1  Free entry in 2 a wkly comp to win FA Cup final tkts 21st May 2005 Text FA to 87121 to receive e...   \n",
              "2                                          Nah I dont think he goes to usf he lives around here though   \n",
              "3                          Even my brother is not like to speak with me They treat me like aids patent   \n",
              "4                                                                    I HAVE A DATE ON SUNDAY WITH WILL   \n",
              "\n",
              "                                                                                   body_text_tokenized  \\\n",
              "0  [ive, been, searching, for, the, right, words, to, thank, you, for, this, breather, i, promise, ...   \n",
              "1  [free, entry, in, 2, a, wkly, comp, to, win, fa, cup, final, tkts, 21st, may, 2005, text, fa, to...   \n",
              "2                            [nah, i, dont, think, he, goes, to, usf, he, lives, around, here, though]   \n",
              "3         [even, my, brother, is, not, like, to, speak, with, me, they, treat, me, like, aids, patent]   \n",
              "4                                                           [i, have, a, date, on, sunday, with, will]   \n",
              "\n",
              "                                                                                     body_text_nonstop  \n",
              "0  [ive, searching, right, words, thank, breather, promise, wont, take, help, granted, fulfil, prom...  \n",
              "1  [free, entry, 2, wkly, comp, win, fa, cup, final, tkts, 21st, may, 2005, text, fa, 87121, receiv...  \n",
              "2                                                 [nah, dont, think, goes, usf, lives, around, though]  \n",
              "3                                              [even, brother, like, speak, treat, like, aids, patent]  \n",
              "4                                                                                       [date, sunday]  "
            ],
            "text/html": [
              "\n",
              "  <div id=\"df-14950703-576d-4f5d-847a-349888ed21c5\">\n",
              "    <div class=\"colab-df-container\">\n",
              "      <div>\n",
              "<style scoped>\n",
              "    .dataframe tbody tr th:only-of-type {\n",
              "        vertical-align: middle;\n",
              "    }\n",
              "\n",
              "    .dataframe tbody tr th {\n",
              "        vertical-align: top;\n",
              "    }\n",
              "\n",
              "    .dataframe thead th {\n",
              "        text-align: right;\n",
              "    }\n",
              "</style>\n",
              "<table border=\"1\" class=\"dataframe\">\n",
              "  <thead>\n",
              "    <tr style=\"text-align: right;\">\n",
              "      <th></th>\n",
              "      <th>label</th>\n",
              "      <th>body_text</th>\n",
              "      <th>body_text_clean</th>\n",
              "      <th>body_text_tokenized</th>\n",
              "      <th>body_text_nonstop</th>\n",
              "    </tr>\n",
              "  </thead>\n",
              "  <tbody>\n",
              "    <tr>\n",
              "      <th>0</th>\n",
              "      <td>ham</td>\n",
              "      <td>I've been searching for the right words to thank you for this breather. I promise i wont take yo...</td>\n",
              "      <td>Ive been searching for the right words to thank you for this breather I promise i wont take your...</td>\n",
              "      <td>[ive, been, searching, for, the, right, words, to, thank, you, for, this, breather, i, promise, ...</td>\n",
              "      <td>[ive, searching, right, words, thank, breather, promise, wont, take, help, granted, fulfil, prom...</td>\n",
              "    </tr>\n",
              "    <tr>\n",
              "      <th>1</th>\n",
              "      <td>spam</td>\n",
              "      <td>Free entry in 2 a wkly comp to win FA Cup final tkts 21st May 2005. Text FA to 87121 to receive ...</td>\n",
              "      <td>Free entry in 2 a wkly comp to win FA Cup final tkts 21st May 2005 Text FA to 87121 to receive e...</td>\n",
              "      <td>[free, entry, in, 2, a, wkly, comp, to, win, fa, cup, final, tkts, 21st, may, 2005, text, fa, to...</td>\n",
              "      <td>[free, entry, 2, wkly, comp, win, fa, cup, final, tkts, 21st, may, 2005, text, fa, 87121, receiv...</td>\n",
              "    </tr>\n",
              "    <tr>\n",
              "      <th>2</th>\n",
              "      <td>ham</td>\n",
              "      <td>Nah I don't think he goes to usf, he lives around here though</td>\n",
              "      <td>Nah I dont think he goes to usf he lives around here though</td>\n",
              "      <td>[nah, i, dont, think, he, goes, to, usf, he, lives, around, here, though]</td>\n",
              "      <td>[nah, dont, think, goes, usf, lives, around, though]</td>\n",
              "    </tr>\n",
              "    <tr>\n",
              "      <th>3</th>\n",
              "      <td>ham</td>\n",
              "      <td>Even my brother is not like to speak with me. They treat me like aids patent.</td>\n",
              "      <td>Even my brother is not like to speak with me They treat me like aids patent</td>\n",
              "      <td>[even, my, brother, is, not, like, to, speak, with, me, they, treat, me, like, aids, patent]</td>\n",
              "      <td>[even, brother, like, speak, treat, like, aids, patent]</td>\n",
              "    </tr>\n",
              "    <tr>\n",
              "      <th>4</th>\n",
              "      <td>ham</td>\n",
              "      <td>I HAVE A DATE ON SUNDAY WITH WILL!!</td>\n",
              "      <td>I HAVE A DATE ON SUNDAY WITH WILL</td>\n",
              "      <td>[i, have, a, date, on, sunday, with, will]</td>\n",
              "      <td>[date, sunday]</td>\n",
              "    </tr>\n",
              "  </tbody>\n",
              "</table>\n",
              "</div>\n",
              "      <button class=\"colab-df-convert\" onclick=\"convertToInteractive('df-14950703-576d-4f5d-847a-349888ed21c5')\"\n",
              "              title=\"Convert this dataframe to an interactive table.\"\n",
              "              style=\"display:none;\">\n",
              "        \n",
              "  <svg xmlns=\"http://www.w3.org/2000/svg\" height=\"24px\"viewBox=\"0 0 24 24\"\n",
              "       width=\"24px\">\n",
              "    <path d=\"M0 0h24v24H0V0z\" fill=\"none\"/>\n",
              "    <path d=\"M18.56 5.44l.94 2.06.94-2.06 2.06-.94-2.06-.94-.94-2.06-.94 2.06-2.06.94zm-11 1L8.5 8.5l.94-2.06 2.06-.94-2.06-.94L8.5 2.5l-.94 2.06-2.06.94zm10 10l.94 2.06.94-2.06 2.06-.94-2.06-.94-.94-2.06-.94 2.06-2.06.94z\"/><path d=\"M17.41 7.96l-1.37-1.37c-.4-.4-.92-.59-1.43-.59-.52 0-1.04.2-1.43.59L10.3 9.45l-7.72 7.72c-.78.78-.78 2.05 0 2.83L4 21.41c.39.39.9.59 1.41.59.51 0 1.02-.2 1.41-.59l7.78-7.78 2.81-2.81c.8-.78.8-2.07 0-2.86zM5.41 20L4 18.59l7.72-7.72 1.47 1.35L5.41 20z\"/>\n",
              "  </svg>\n",
              "      </button>\n",
              "      \n",
              "  <style>\n",
              "    .colab-df-container {\n",
              "      display:flex;\n",
              "      flex-wrap:wrap;\n",
              "      gap: 12px;\n",
              "    }\n",
              "\n",
              "    .colab-df-convert {\n",
              "      background-color: #E8F0FE;\n",
              "      border: none;\n",
              "      border-radius: 50%;\n",
              "      cursor: pointer;\n",
              "      display: none;\n",
              "      fill: #1967D2;\n",
              "      height: 32px;\n",
              "      padding: 0 0 0 0;\n",
              "      width: 32px;\n",
              "    }\n",
              "\n",
              "    .colab-df-convert:hover {\n",
              "      background-color: #E2EBFA;\n",
              "      box-shadow: 0px 1px 2px rgba(60, 64, 67, 0.3), 0px 1px 3px 1px rgba(60, 64, 67, 0.15);\n",
              "      fill: #174EA6;\n",
              "    }\n",
              "\n",
              "    [theme=dark] .colab-df-convert {\n",
              "      background-color: #3B4455;\n",
              "      fill: #D2E3FC;\n",
              "    }\n",
              "\n",
              "    [theme=dark] .colab-df-convert:hover {\n",
              "      background-color: #434B5C;\n",
              "      box-shadow: 0px 1px 3px 1px rgba(0, 0, 0, 0.15);\n",
              "      filter: drop-shadow(0px 1px 2px rgba(0, 0, 0, 0.3));\n",
              "      fill: #FFFFFF;\n",
              "    }\n",
              "  </style>\n",
              "\n",
              "      <script>\n",
              "        const buttonEl =\n",
              "          document.querySelector('#df-14950703-576d-4f5d-847a-349888ed21c5 button.colab-df-convert');\n",
              "        buttonEl.style.display =\n",
              "          google.colab.kernel.accessAllowed ? 'block' : 'none';\n",
              "\n",
              "        async function convertToInteractive(key) {\n",
              "          const element = document.querySelector('#df-14950703-576d-4f5d-847a-349888ed21c5');\n",
              "          const dataTable =\n",
              "            await google.colab.kernel.invokeFunction('convertToInteractive',\n",
              "                                                     [key], {});\n",
              "          if (!dataTable) return;\n",
              "\n",
              "          const docLinkHtml = 'Like what you see? Visit the ' +\n",
              "            '<a target=\"_blank\" href=https://colab.research.google.com/notebooks/data_table.ipynb>data table notebook</a>'\n",
              "            + ' to learn more about interactive tables.';\n",
              "          element.innerHTML = '';\n",
              "          dataTable['output_type'] = 'display_data';\n",
              "          await google.colab.output.renderOutput(dataTable, element);\n",
              "          const docLink = document.createElement('div');\n",
              "          docLink.innerHTML = docLinkHtml;\n",
              "          element.appendChild(docLink);\n",
              "        }\n",
              "      </script>\n",
              "    </div>\n",
              "  </div>\n",
              "  "
            ]
          },
          "metadata": {},
          "execution_count": 10
        }
      ]
    },
    {
      "cell_type": "code",
      "source": [],
      "metadata": {
        "id": "kKnuBypYb2gH"
      },
      "execution_count": null,
      "outputs": []
    }
  ]
}